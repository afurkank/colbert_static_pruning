{
 "cells": [
  {
   "cell_type": "code",
   "execution_count": 1,
   "id": "later-arnold",
   "metadata": {},
   "outputs": [
    {
     "name": "stderr",
     "output_type": "stream",
     "text": [
      "PyTerrier 0.8.1 has loaded Terrier 5.6 (built by craigmacdonald on 2021-09-17 13:27)\n",
      "\n",
      "No etc/terrier.properties, using terrier.default.properties for bootstrap configuration.\n"
     ]
    }
   ],
   "source": [
    "import pyterrier as pt\n",
    "pt.init(tqdm='notebook')"
   ]
  },
  {
   "cell_type": "code",
   "execution_count": 2,
   "id": "satisfactory-birth",
   "metadata": {},
   "outputs": [
    {
     "data": {
      "text/plain": [
       "'1.11.0'"
      ]
     },
     "execution_count": 2,
     "metadata": {},
     "output_type": "execute_result"
    }
   ],
   "source": [
    "import torch\n",
    "torch.__version__"
   ]
  },
  {
   "cell_type": "markdown",
   "id": "british-backup",
   "metadata": {},
   "source": [
    "## make the index"
   ]
  },
  {
   "cell_type": "code",
   "execution_count": 4,
   "id": "protecting-general",
   "metadata": {},
   "outputs": [
    {
     "name": "stderr",
     "output_type": "stream",
     "text": [
      "[INFO] [starting] building docstore\n",
      "[INFO] [starting] opening zip file                                              \n",
      "[INFO] If you have a local copy of https://public.ukp.informatik.tu-darmstadt.de/thakur/BEIR/datasets/trec-covid.zip, you can symlink it here to avoid downloading it again: /home/me/.ir_datasets/downloads/ce62140cb23feb9becf6270d0d1fe6d1\n",
      "[INFO] [starting] https://public.ukp.informatik.tu-darmstadt.de/thakur/BEIR/datasets/trec-covid.zip\n",
      "docs_iter:   0%|                                    | 0/171332 [00:00<?, ?doc/s]\n",
      "https://public.ukp.informatik.tu-darmstadt.de/thakur/BEIR/datasets/trec-covid.zip: 0.0%| 0.00/73.9M [00:00<?, ?B/s]\u001b[A\n",
      "https://public.ukp.informatik.tu-darmstadt.de/thakur/BEIR/datasets/trec-covid.zip: 0.2%| 131k/73.9M [00:00<00:59, 1.24MB/s]\u001b[A\n",
      "https://public.ukp.informatik.tu-darmstadt.de/thakur/BEIR/datasets/trec-covid.zip: 0.4%| 262k/73.9M [00:00<01:23, 881kB/s] \u001b[A\n",
      "https://public.ukp.informatik.tu-darmstadt.de/thakur/BEIR/datasets/trec-covid.zip: 1.0%| 721k/73.9M [00:00<00:40, 1.79MB/s]\u001b[A\n",
      "https://public.ukp.informatik.tu-darmstadt.de/thakur/BEIR/datasets/trec-covid.zip: 1.9%| 1.43M/73.9M [00:00<00:30, 2.39MB/s]\u001b[A\n",
      "https://public.ukp.informatik.tu-darmstadt.de/thakur/BEIR/datasets/trec-covid.zip: 4.1%| 3.04M/73.9M [00:00<00:16, 4.36MB/s]\u001b[A\n",
      "https://public.ukp.informatik.tu-darmstadt.de/thakur/BEIR/datasets/trec-covid.zip: 6.7%| 4.92M/73.9M [00:00<00:11, 6.18MB/s]\u001b[A\n",
      "https://public.ukp.informatik.tu-darmstadt.de/thakur/BEIR/datasets/trec-covid.zip: 9.4%| 6.96M/73.9M [00:00<00:08, 7.76MB/s]\u001b[A\n",
      "https://public.ukp.informatik.tu-darmstadt.de/thakur/BEIR/datasets/trec-covid.zip: 14.1%| 10.4M/73.9M [00:00<00:06, 10.4MB/s]\u001b[A\n",
      "https://public.ukp.informatik.tu-darmstadt.de/thakur/BEIR/datasets/trec-covid.zip: 18.7%| 13.8M/73.9M [00:01<00:04, 12.6MB/s]\u001b[A\n",
      "https://public.ukp.informatik.tu-darmstadt.de/thakur/BEIR/datasets/trec-covid.zip: 24.5%| 18.1M/73.9M [00:01<00:03, 14.9MB/s]\u001b[A\n",
      "https://public.ukp.informatik.tu-darmstadt.de/thakur/BEIR/datasets/trec-covid.zip: 30.3%| 22.4M/73.9M [00:01<00:03, 15.9MB/s]\u001b[A\n",
      "https://public.ukp.informatik.tu-darmstadt.de/thakur/BEIR/datasets/trec-covid.zip: 36.3%| 26.8M/73.9M [00:01<00:02, 17.8MB/s]\u001b[A\n",
      "https://public.ukp.informatik.tu-darmstadt.de/thakur/BEIR/datasets/trec-covid.zip: 42.2%| 31.2M/73.9M [00:01<00:02, 19.3MB/s]\u001b[A\n",
      "https://public.ukp.informatik.tu-darmstadt.de/thakur/BEIR/datasets/trec-covid.zip: 48.2%| 35.6M/73.9M [00:01<00:01, 20.6MB/s]\u001b[A\n",
      "https://public.ukp.informatik.tu-darmstadt.de/thakur/BEIR/datasets/trec-covid.zip: 54.2%| 40.0M/73.9M [00:01<00:01, 21.8MB/s]\u001b[A\n",
      "https://public.ukp.informatik.tu-darmstadt.de/thakur/BEIR/datasets/trec-covid.zip: 60.2%| 44.4M/73.9M [00:02<00:01, 22.2MB/s]\u001b[A\n",
      "https://public.ukp.informatik.tu-darmstadt.de/thakur/BEIR/datasets/trec-covid.zip: 66.1%| 48.9M/73.9M [00:02<00:01, 23.2MB/s]\u001b[A\n",
      "https://public.ukp.informatik.tu-darmstadt.de/thakur/BEIR/datasets/trec-covid.zip: 72.1%| 53.3M/73.9M [00:02<00:00, 24.1MB/s]\u001b[A\n",
      "https://public.ukp.informatik.tu-darmstadt.de/thakur/BEIR/datasets/trec-covid.zip: 78.1%| 57.7M/73.9M [00:02<00:00, 24.9MB/s]\u001b[A\n",
      "https://public.ukp.informatik.tu-darmstadt.de/thakur/BEIR/datasets/trec-covid.zip: 84.1%| 62.1M/73.9M [00:02<00:00, 25.5MB/s]\u001b[A\n",
      "https://public.ukp.informatik.tu-darmstadt.de/thakur/BEIR/datasets/trec-covid.zip: 90.1%| 66.5M/73.9M [00:02<00:00, 26.3MB/s]\u001b[A\n",
      "                                                                                p: 96.0%| 70.9M/73.9M [00:02<00:00, 26.3MB/s]\u001b[A\n",
      "\u001b[A                                                                                                                          [INFO] [finished] https://public.ukp.informatik.tu-darmstadt.de/thakur/BEIR/datasets/trec-covid.zip: [00:02] [73.9MB] [27.0MB/s]\n",
      "docs_iter:   0%|                                    | 0/171332 [00:03<?, ?doc/s]\n",
      "https://public.ukp.informatik.tu-darmstadt.de/thakur/BEIR/datasets/trec-covid.zip: [00:02] [73.9MB] [27.0MB/s]\u001b[A\n",
      "[INFO] [finished] opening zip file [3.08s]                                                                    \u001b[A\n",
      "docs_iter: 100%|████████████████████| 171332/171332 [00:13<00:00, 13035.85doc/s]\n",
      "[INFO] [finished] docs_iter: [00:13] [171332doc] [13035.36doc/s]\n",
      "[INFO] [finished] building docstore [13.15s]\n"
     ]
    },
    {
     "data": {
      "application/vnd.jupyter.widget-view+json": {
       "model_id": "edad0d10728e4ed09ddc5dd95b32313f",
       "version_major": 2,
       "version_minor": 0
      },
      "text/plain": [
       "beir/trec-covid documents:   0%|          | 0/171332 [00:00<?, ?it/s]"
      ]
     },
     "metadata": {},
     "output_type": "display_data"
    },
    {
     "name": "stdout",
     "output_type": "stream",
     "text": [
      "[May 05, 18:11:26] [0] \t\t #> Local args.bsize = 128\n",
      "[May 05, 18:11:26] [0] \t\t #> args.index_root = /nfsindices/BEIR/trec_covid\n",
      "[May 05, 18:11:26] [0] \t\t #> self.possible_subset_sizes = [466033]\n"
     ]
    },
    {
     "name": "stderr",
     "output_type": "stream",
     "text": [
      "Some weights of the model checkpoint at bert-base-uncased were not used when initializing ColBERT: ['cls.predictions.bias', 'cls.predictions.transform.dense.weight', 'cls.predictions.transform.dense.bias', 'cls.predictions.decoder.weight', 'cls.seq_relationship.weight', 'cls.seq_relationship.bias', 'cls.predictions.transform.LayerNorm.weight', 'cls.predictions.transform.LayerNorm.bias']\n",
      "- This IS expected if you are initializing ColBERT from the checkpoint of a model trained on another task or with another architecture (e.g. initializing a BertForSequenceClassification model from a BertForPretraining model).\n",
      "- This IS NOT expected if you are initializing ColBERT from the checkpoint of a model that you expect to be exactly identical (initializing a BertForSequenceClassification model from a BertForSequenceClassification model).\n",
      "Some weights of ColBERT were not initialized from the model checkpoint at bert-base-uncased and are newly initialized: ['linear.weight']\n",
      "You should probably TRAIN this model on a down-stream task to be able to use it for predictions and inference.\n"
     ]
    },
    {
     "name": "stdout",
     "output_type": "stream",
     "text": [
      "[May 05, 18:11:42] #> Loading model checkpoint.\n",
      "[May 05, 18:11:42] #> Loading checkpoint /nfsxiao/GOOD_MODELS/colbert.dnn\n",
      "[May 05, 18:11:54] #> checkpoint['epoch'] = 0\n",
      "[May 05, 18:11:54] #> checkpoint['batch'] = 44500\n",
      "\n",
      "\n",
      "\n",
      "\n",
      "[May 05, 18:11:54] #> Note: Output directory /nfsindices/BEIR/trec_covid already exists\n",
      "\n",
      "\n",
      "\n",
      "\n",
      "[May 05, 18:11:54] #> Creating directory /nfsindices/BEIR/trec_covid/trec_covid_colbertIndex_craig \n",
      "\n",
      "\n",
      "[May 05, 18:18:20] [0] \t\t #> Completed batch #0 (starting at passage #0) \t\tPassages/min: 26.6k (overall),  27.3k (this encoding),  107792.8M (this saving)\n",
      "[May 05, 18:18:25] [0] \t\t [NOTE] Done with local share.\n",
      "[May 05, 18:18:25] [0] \t\t #> Joining saver thread.\n",
      "[May 05, 18:19:24] [0] \t\t #> Saved batch #0 to /nfsindices/BEIR/trec_covid/trec_covid_colbertIndex_craig/0.pt \t\t Saving Throughput = 162.4k passages per minute.\n",
      "\n",
      "#> num_embeddings = 22931564\n",
      "[May 05, 18:19:25] #> Starting..\n",
      "[May 05, 18:19:25] #> Processing slice #1 of 1 (range 0..1).\n",
      "[May 05, 18:19:25] #> Will write to /nfsindices/BEIR/trec_covid/trec_covid_colbertIndex_craig/ivfpq.100.faiss.\n",
      "[May 05, 18:19:25] #> Loading /nfsindices/BEIR/trec_covid/trec_covid_colbertIndex_craig/0.sample ...\n",
      "#> Sample has shape (1146578, 128)\n",
      "[May 05, 18:19:28] Preparing resources for 1 GPUs.\n",
      "[May 05, 18:19:28] #> Training with the vectors...\n",
      "[May 05, 18:19:28] #> Training now (using 1 GPUs)...\n",
      "0.21909475326538086\n",
      "5.412362337112427\n",
      "0.0006418228149414062\n",
      "[May 05, 18:19:33] Done training!\n",
      "\n",
      "[May 05, 18:19:33] #> Indexing the vectors...\n",
      "[May 05, 18:19:33] #> Loading ('/nfsindices/BEIR/trec_covid/trec_covid_colbertIndex_craig/0.pt', None, None) (from queue)...\n",
      "[May 05, 18:20:28] #> Processing a sub_collection with shape (22931564, 128)\n",
      "[May 05, 18:20:28] Add data with shape (22931564, 128) (offset = 0)..\n",
      "  IndexIVFPQ size 0 -> GpuIndexIVFPQ indicesOptions=0 usePrecomputed=0 useFloat16=1 reserveVecs=33554432\n",
      "22872064/22931564 (9.496 s)   Flush indexes to CPU\n",
      "add(.) time: 10.782 s \t\t--\t\t index.ntotal = 22931564\n",
      "[May 05, 18:20:39] Done indexing!\n",
      "[May 05, 18:20:39] Writing index to /nfsindices/BEIR/trec_covid/trec_covid_colbertIndex_craig/ivfpq.100.faiss ...\n",
      "[May 05, 18:20:44] \n",
      "\n",
      "Done! All complete (for slice #1 of 1)!\n",
      "#> Faiss encoding complete\n",
      "#> Indexing complete, Time elapsed 559.53 seconds\n"
     ]
    }
   ],
   "source": [
    "from pyterrier_colbert.indexing import ColBERTIndexer\n",
    "index_root=\"/nfsindices/BEIR/trec_covid\"\n",
    "index_name=\"trec_covid_colbertIndex_craig\"\n",
    "dataset = pt.get_dataset(\"irds:beir/trec-covid\")\n",
    "from jnius import JavaException\n",
    "checkpoint=\"http://www.dcs.gla.ac.uk/~craigm/ecir2021-tutorial/colbert_model_checkpoint.zip\"\n",
    "\n",
    "indexer = (\n",
    "    pt.apply.text(lambda row: row['title'] + ' ' + row['text']) \n",
    "    >>\n",
    "    ColBERTIndexer(checkpoint,index_root, index_name, chunksize=20)\n",
    ")\n",
    "indexer.index(dataset.get_corpus_iter())"
   ]
  },
  {
   "cell_type": "markdown",
   "id": "annoying-picking",
   "metadata": {},
   "source": [
    "## load the index"
   ]
  },
  {
   "cell_type": "code",
   "execution_count": 5,
   "id": "turned-question",
   "metadata": {},
   "outputs": [],
   "source": [
    "del(indexer)"
   ]
  },
  {
   "cell_type": "code",
   "execution_count": 6,
   "id": "short-perfume",
   "metadata": {},
   "outputs": [
    {
     "name": "stderr",
     "output_type": "stream",
     "text": [
      "Some weights of the model checkpoint at bert-base-uncased were not used when initializing ColBERT: ['cls.predictions.bias', 'cls.predictions.transform.dense.weight', 'cls.predictions.transform.dense.bias', 'cls.predictions.decoder.weight', 'cls.seq_relationship.weight', 'cls.seq_relationship.bias', 'cls.predictions.transform.LayerNorm.weight', 'cls.predictions.transform.LayerNorm.bias']\n",
      "- This IS expected if you are initializing ColBERT from the checkpoint of a model trained on another task or with another architecture (e.g. initializing a BertForSequenceClassification model from a BertForPretraining model).\n",
      "- This IS NOT expected if you are initializing ColBERT from the checkpoint of a model that you expect to be exactly identical (initializing a BertForSequenceClassification model from a BertForSequenceClassification model).\n",
      "Some weights of ColBERT were not initialized from the model checkpoint at bert-base-uncased and are newly initialized: ['linear.weight']\n",
      "You should probably TRAIN this model on a down-stream task to be able to use it for predictions and inference.\n"
     ]
    },
    {
     "name": "stdout",
     "output_type": "stream",
     "text": [
      "[May 05, 18:23:05] #> Loading model checkpoint.\n",
      "[May 05, 18:23:05] #> Loading checkpoint http://www.dcs.gla.ac.uk/~craigm/ecir2021-tutorial/colbert_model_checkpoint.zip\n"
     ]
    },
    {
     "name": "stderr",
     "output_type": "stream",
     "text": [
      "/opt/conda/envs/py37_new/lib/python3.7/site-packages/torch/hub.py:518: UserWarning: Falling back to the old format < 1.6. This support will be deprecated in favor of default zipfile format introduced in 1.6. Please redo torch.save() to save it in the new zipfile format.\n",
      "  warnings.warn('Falling back to the old format < 1.6. This support will be '\n"
     ]
    },
    {
     "name": "stdout",
     "output_type": "stream",
     "text": [
      "[May 05, 18:23:14] #> checkpoint['epoch'] = 0\n",
      "[May 05, 18:23:14] #> checkpoint['batch'] = 44500\n"
     ]
    }
   ],
   "source": [
    "import pyterrier_colbert\n",
    "from pyterrier_colbert.ranking import *\n",
    "checkpoint=\"http://www.dcs.gla.ac.uk/~craigm/ecir2021-tutorial/colbert_model_checkpoint.zip\"\n",
    "index=(\"/nfsindices/BEIR/trec_covid/\", \"trec_covid_colbertIndex_craig\")\n",
    "factory = pyterrier_colbert.ranking.ColBERTFactory(checkpoint, *index, )\n"
   ]
  },
  {
   "cell_type": "code",
   "execution_count": 7,
   "id": "dominican-brisbane",
   "metadata": {},
   "outputs": [
    {
     "name": "stdout",
     "output_type": "stream",
     "text": [
      "[May 05, 18:23:15] #> Loading the FAISS index from /nfsindices/BEIR/trec_covid/trec_covid_colbertIndex_craig/ivfpq.100.faiss ..\n",
      "[May 05, 18:23:20] #> Building the emb2pid mapping..\n",
      "[May 05, 18:23:21] len(self.emb2pid) = 22931564\n",
      "[May 05, 18:23:22] #> Building the emb2tid mapping..\n",
      "22931564\n",
      "Computing collection frequencies\n",
      "Done\n",
      "Loading doclens\n"
     ]
    },
    {
     "name": "stderr",
     "output_type": "stream",
     "text": [
      "Computing document frequencies: 100%|██████████| 171332/171332 [00:05<00:00, 30493.32d/s]\n"
     ]
    }
   ],
   "source": [
    "factory.args.partitions = 100\n",
    "factory.faiss_index_on_gpu = False\n",
    "nn_term = factory.nn_term(df=True)"
   ]
  },
  {
   "cell_type": "markdown",
   "id": "geographic-state",
   "metadata": {},
   "source": [
    "The following cell forces the ColBERT embeddings index to be loaded into memory. "
   ]
  },
  {
   "cell_type": "code",
   "execution_count": 8,
   "id": "bigger-bulgarian",
   "metadata": {},
   "outputs": [
    {
     "name": "stdout",
     "output_type": "stream",
     "text": [
      "Loading reranking index, memtype=mem\n"
     ]
    },
    {
     "data": {
      "application/vnd.jupyter.widget-view+json": {
       "model_id": "381fe4d3bad649d8b834228b5c7132fd",
       "version_major": 2,
       "version_minor": 0
      },
      "text/plain": [
       "Loading index shards to memory:   0%|          | 0/1 [00:00<?, ?shard/s]"
      ]
     },
     "metadata": {},
     "output_type": "display_data"
    },
    {
     "data": {
      "text/plain": [
       "[22931564]"
      ]
     },
     "execution_count": 8,
     "metadata": {},
     "output_type": "execute_result"
    }
   ],
   "source": [
    "[x.mmap.shape[0] for x in factory._rrm().part_mmap]"
   ]
  },
  {
   "cell_type": "markdown",
   "id": "outside-bracket",
   "metadata": {},
   "source": [
    "## index stats"
   ]
  },
  {
   "cell_type": "code",
   "execution_count": 9,
   "id": "bacterial-sample",
   "metadata": {},
   "outputs": [
    {
     "data": {
      "text/plain": [
       "tensor(22931564)"
      ]
     },
     "execution_count": 9,
     "metadata": {},
     "output_type": "execute_result"
    }
   ],
   "source": [
    "total = torch.sum(nn_term.lookup)\n",
    "total"
   ]
  },
  {
   "cell_type": "code",
   "execution_count": 10,
   "id": "interested-queensland",
   "metadata": {},
   "outputs": [
    {
     "data": {
      "text/plain": [
       "171332"
      ]
     },
     "execution_count": 10,
     "metadata": {},
     "output_type": "execute_result"
    }
   ],
   "source": [
    "len(factory)"
   ]
  },
  {
   "cell_type": "code",
   "execution_count": 11,
   "id": "incredible-collins",
   "metadata": {},
   "outputs": [
    {
     "data": {
      "text/plain": [
       "tensor(133.8428)"
      ]
     },
     "execution_count": 11,
     "metadata": {},
     "output_type": "execute_result"
    }
   ],
   "source": [
    "total/len(factory)"
   ]
  },
  {
   "cell_type": "markdown",
   "id": "fluid-content",
   "metadata": {},
   "source": [
    "## eval setup"
   ]
  },
  {
   "cell_type": "code",
   "execution_count": 109,
   "id": "prostate-writer",
   "metadata": {},
   "outputs": [],
   "source": [
    "def _AvgDocLen(qrels, run):\n",
    "    from warnings import warn\n",
    "    if 'doc_toks' not in run.columns:\n",
    "        if len(run) > 0:\n",
    "            warn(\"run of %d rows did not have doc_toks column; available columns: %s\" % (len(run), str(run.columns)))\n",
    "        else:\n",
    "            warn(\"empty run did not have doc_toks column; available columns: %s\" % str(run.columns))\n",
    "        return 0\n",
    "    return run['doc_toks'].apply(lambda row: row.shape[0]).mean()\n",
    "    \n",
    "import ir_measures\n",
    "AvgDocLen = ir_measures.define_byquery(\n",
    "    _AvgDocLen, \n",
    "    name=\"AvgDoclen\")\n",
    "\n",
    "from pyterrier.measures import *\n",
    "MEASURES = [AP@1000, AP@100, nDCG@10,nDCG@20,nDCG@100, RR@1000, Recall@1000 ,\"mrt\", AvgDocLen@1, AvgDocLen@10, AvgDocLen@100, AvgDocLen]\n"
   ]
  },
  {
   "cell_type": "markdown",
   "id": "connected-content",
   "metadata": {},
   "source": [
    "## \"Original\" baseline"
   ]
  },
  {
   "cell_type": "code",
   "execution_count": 18,
   "id": "three-cabinet",
   "metadata": {},
   "outputs": [],
   "source": [
    "baselineApprox = (\n",
    "    pt.apply.query(lambda row: row['text'])\n",
    "    >> (factory.ann_retrieve_score() % 1000) \n",
    "    >> factory.fetch_index_encodings(ids=True, verbose=False) \n",
    "    >> factory.scorer()\n",
    ")"
   ]
  },
  {
   "cell_type": "code",
   "execution_count": 21,
   "id": "infectious-marathon",
   "metadata": {},
   "outputs": [
    {
     "name": "stdout",
     "output_type": "stream",
     "text": [
      "There are multiple query fields available: ('text', 'query', 'narrative'). To use with pyterrier, provide variant or modify dataframe to add query column.\n"
     ]
    },
    {
     "data": {
      "application/vnd.jupyter.widget-view+json": {
       "model_id": "401cf6b528dc4ab79ff3485be3af0f17",
       "version_major": 2,
       "version_minor": 0
      },
      "text/plain": [
       "pt.Experiment:   0%|          | 0/10 [00:00<?, ?batches/s]"
      ]
     },
     "metadata": {},
     "output_type": "display_data"
    },
    {
     "name": "stdout",
     "output_type": "stream",
     "text": [
      "huggingface/tokenizers: The current process just got forked, after parallelism has already been used. Disabling parallelism to avoid deadlocks...\n",
      "To disable this warning, you can either:\n",
      "\t- Avoid using `tokenizers` before the fork if possible\n",
      "\t- Explicitly set the environment variable TOKENIZERS_PARALLELISM=(true | false)\n"
     ]
    },
    {
     "name": "stderr",
     "output_type": "stream",
     "text": [
      "/opt/conda/envs/py37_new/lib/python3.7/site-packages/pandas/util/_decorators.py:311: SettingWithCopyWarning: \n",
      "A value is trying to be set on a copy of a slice from a DataFrame\n",
      "\n",
      "See the caveats in the documentation: https://pandas.pydata.org/pandas-docs/stable/user_guide/indexing.html#returning-a-view-versus-a-copy\n",
      "  return func(*args, **kwargs)\n"
     ]
    },
    {
     "data": {
      "text/html": [
       "<div>\n",
       "<style scoped>\n",
       "    .dataframe tbody tr th:only-of-type {\n",
       "        vertical-align: middle;\n",
       "    }\n",
       "\n",
       "    .dataframe tbody tr th {\n",
       "        vertical-align: top;\n",
       "    }\n",
       "\n",
       "    .dataframe thead th {\n",
       "        text-align: right;\n",
       "    }\n",
       "</style>\n",
       "<table border=\"1\" class=\"dataframe\">\n",
       "  <thead>\n",
       "    <tr style=\"text-align: right;\">\n",
       "      <th></th>\n",
       "      <th>name</th>\n",
       "      <th>AP@1000</th>\n",
       "      <th>nDCG@10</th>\n",
       "      <th>nDCG@20</th>\n",
       "      <th>nDCG@100</th>\n",
       "      <th>RR@1000</th>\n",
       "      <th>R@1000</th>\n",
       "      <th>AvgDoclen@1</th>\n",
       "      <th>AvgDoclen@10</th>\n",
       "      <th>AvgDoclen@100</th>\n",
       "      <th>AvgDoclen</th>\n",
       "      <th>mrt</th>\n",
       "    </tr>\n",
       "  </thead>\n",
       "  <tbody>\n",
       "    <tr>\n",
       "      <th>0</th>\n",
       "      <td>Compose(Compose(Compose(pt.apply.??(), RankCut...</td>\n",
       "      <td>0.153638</td>\n",
       "      <td>0.68027</td>\n",
       "      <td>0.635233</td>\n",
       "      <td>0.481342</td>\n",
       "      <td>0.940833</td>\n",
       "      <td>0.30941</td>\n",
       "      <td>142.38</td>\n",
       "      <td>151.892</td>\n",
       "      <td>155.5084</td>\n",
       "      <td>141.99394</td>\n",
       "      <td>616.450272</td>\n",
       "    </tr>\n",
       "  </tbody>\n",
       "</table>\n",
       "</div>"
      ],
      "text/plain": [
       "                                                name   AP@1000  nDCG@10  \\\n",
       "0  Compose(Compose(Compose(pt.apply.??(), RankCut...  0.153638  0.68027   \n",
       "\n",
       "    nDCG@20  nDCG@100   RR@1000   R@1000  AvgDoclen@1  AvgDoclen@10  \\\n",
       "0  0.635233  0.481342  0.940833  0.30941       142.38       151.892   \n",
       "\n",
       "   AvgDoclen@100  AvgDoclen         mrt  \n",
       "0       155.5084  141.99394  616.450272  "
      ]
     },
     "execution_count": 21,
     "metadata": {},
     "output_type": "execute_result"
    }
   ],
   "source": [
    "pt.Experiment([baselineApprox], \n",
    "              pt.get_dataset('irds:beir/trec-covid').get_topics(), \n",
    "              pt.get_dataset('irds:beir/trec-covid').get_qrels(), \n",
    "              MEASURES,\n",
    "              filter_by_qrels=True,\n",
    "              verbose=True, batch_size=5,\n",
    ")"
   ]
  },
  {
   "cell_type": "markdown",
   "id": "competent-curtis",
   "metadata": {},
   "source": [
    "The following function does some of the grunt work for performing the experimental evaluations"
   ]
  },
  {
   "cell_type": "code",
   "execution_count": 60,
   "id": "significant-presentation",
   "metadata": {},
   "outputs": [],
   "source": [
    "def do_exp(pipelines, topics='covid', names=None, baseline=None, save_dir=None) -> pd.DataFrame:\n",
    "    TQ = None\n",
    "    TQ = (\n",
    "       pt.get_dataset('irds:beir/trec-covid').get_topics(), \n",
    "       pt.get_dataset('irds:beir/trec-covid').get_qrels()\n",
    "    )\n",
    "    if save_dir is not None:\n",
    "        save_dir = save_dir % str(topics)\n",
    "        os.makedirs(save_dir, exist_ok=True)\n",
    "    df = pt.Experiment(\n",
    "        pipelines, \n",
    "        *TQ,\n",
    "        MEASURES,\n",
    "        batch_size=20,\n",
    "        filter_by_qrels=True,\n",
    "        verbose=True,\n",
    "        names=names,\n",
    "        save_dir=save_dir,\n",
    "        save_mode='overwrite',\n",
    "        baseline=0\n",
    "    )\n",
    "    if save_dir:\n",
    "        df.to_pickle(save_dir + \"/results_df.pkl\")\n",
    "        \n",
    "    return df"
   ]
  },
  {
   "cell_type": "markdown",
   "id": "different-ready",
   "metadata": {},
   "source": [
    "This loop provides the results files and eval results for the '2019', '2020', 'dev' topics sets"
   ]
  },
  {
   "cell_type": "code",
   "execution_count": 25,
   "id": "front-people",
   "metadata": {},
   "outputs": [
    {
     "name": "stdout",
     "output_type": "stream",
     "text": [
      "There are multiple query fields available: ('text', 'query', 'narrative'). To use with pyterrier, provide variant or modify dataframe to add query column.\n"
     ]
    },
    {
     "data": {
      "application/vnd.jupyter.widget-view+json": {
       "model_id": "70dc346281b54813939caa621376c68d",
       "version_major": 2,
       "version_minor": 0
      },
      "text/plain": [
       "pt.Experiment:   0%|          | 0/3 [00:00<?, ?batches/s]"
      ]
     },
     "metadata": {},
     "output_type": "display_data"
    },
    {
     "name": "stderr",
     "output_type": "stream",
     "text": [
      "/opt/conda/envs/py37_new/lib/python3.7/site-packages/pandas/util/_decorators.py:311: SettingWithCopyWarning: \n",
      "A value is trying to be set on a copy of a slice from a DataFrame\n",
      "\n",
      "See the caveats in the documentation: https://pandas.pydata.org/pandas-docs/stable/user_guide/indexing.html#returning-a-view-versus-a-copy\n",
      "  return func(*args, **kwargs)\n"
     ]
    },
    {
     "data": {
      "text/html": [
       "<div>\n",
       "<style scoped>\n",
       "    .dataframe tbody tr th:only-of-type {\n",
       "        vertical-align: middle;\n",
       "    }\n",
       "\n",
       "    .dataframe tbody tr th {\n",
       "        vertical-align: top;\n",
       "    }\n",
       "\n",
       "    .dataframe thead th {\n",
       "        text-align: right;\n",
       "    }\n",
       "</style>\n",
       "<table border=\"1\" class=\"dataframe\">\n",
       "  <thead>\n",
       "    <tr style=\"text-align: right;\">\n",
       "      <th></th>\n",
       "      <th>name</th>\n",
       "      <th>AP@1000</th>\n",
       "      <th>nDCG@10</th>\n",
       "      <th>nDCG@20</th>\n",
       "      <th>nDCG@100</th>\n",
       "      <th>RR@1000</th>\n",
       "      <th>R@1000</th>\n",
       "      <th>AvgDoclen@1</th>\n",
       "      <th>AvgDoclen@10</th>\n",
       "      <th>AvgDoclen@100</th>\n",
       "      <th>AvgDoclen</th>\n",
       "    </tr>\n",
       "  </thead>\n",
       "  <tbody>\n",
       "    <tr>\n",
       "      <th>0</th>\n",
       "      <td>approx_baseline</td>\n",
       "      <td>0.153638</td>\n",
       "      <td>0.68027</td>\n",
       "      <td>0.635233</td>\n",
       "      <td>0.481342</td>\n",
       "      <td>0.940833</td>\n",
       "      <td>0.30941</td>\n",
       "      <td>142.38</td>\n",
       "      <td>151.892</td>\n",
       "      <td>155.5084</td>\n",
       "      <td>141.99394</td>\n",
       "    </tr>\n",
       "  </tbody>\n",
       "</table>\n",
       "</div>"
      ],
      "text/plain": [
       "              name   AP@1000  nDCG@10   nDCG@20  nDCG@100   RR@1000   R@1000  \\\n",
       "0  approx_baseline  0.153638  0.68027  0.635233  0.481342  0.940833  0.30941   \n",
       "\n",
       "   AvgDoclen@1  AvgDoclen@10  AvgDoclen@100  AvgDoclen  \n",
       "0       142.38       151.892       155.5084  141.99394  "
      ]
     },
     "execution_count": 25,
     "metadata": {},
     "output_type": "execute_result"
    }
   ],
   "source": [
    "all_res = [\n",
    "    do_exp(\n",
    "        [baselineApprox], \n",
    "        names=['approx_baseline'], \n",
    "        topics=t,\n",
    "        save_dir='/nfs/staticPruning/results/repro_covid/baseline_%s/'\n",
    "    ) for t in ['covid']\n",
    "]\n",
    "pd.concat(all_res)"
   ]
  },
  {
   "cell_type": "markdown",
   "id": "adopted-cemetery",
   "metadata": {},
   "source": [
    "## uniform IDF pruning\n",
    "\n",
    "We now design the implementations of the uniform IDF static pruning approach"
   ]
  },
  {
   "cell_type": "code",
   "execution_count": 42,
   "id": "departmental-hollywood",
   "metadata": {},
   "outputs": [],
   "source": [
    "def uniform_blacklisted_tokens_transformer(blacklist, verbose=False, zero=False, gpu=torch.cuda.is_available()) -> TransformerBase:\n",
    "    \"\"\"\n",
    "    Remove tokens and their embeddings from the document dataframe\n",
    "    input: qid, query_embs, docno, doc_embs, doc_toks\n",
    "    output: qid, query_embs, docno, doc_embs, doc_toks\n",
    "    \n",
    "    The blacklist parameters must contain a list of tokenids that should be removed\n",
    "    \"\"\"\n",
    "    import pyterrier as pt\n",
    "    import torch\n",
    "    import numpy as np\n",
    "    \n",
    "    assert pt.started(), 'PyTerrier must be started'\n",
    "    \n",
    "    if gpu: \n",
    "        blacklist = torch.Tensor(blacklist).cuda()\n",
    "    else:\n",
    "        blacklist = torch.Tensor(blacklist)\n",
    "        \n",
    "    pt.tqdm.pandas()\n",
    "    \n",
    "    if verbose: print(f'Blacklist composed of {len(blacklist)} elements.')\n",
    "        \n",
    "    def _prune_remove_gpu(row):\n",
    "        tokens = row['doc_toks'].cuda()\n",
    "        embeddings = row['doc_embs'].cuda()\n",
    "\n",
    "        # create the 1-D mask\n",
    "        final_mask = torch.all(tokens[None, : ] != blacklist[:, None], axis=0)\n",
    "\n",
    "        # apply the mask to the tokens\n",
    "        row['doc_toks'] = tokens[final_mask]\n",
    "\n",
    "        # pad the 1-d mask\n",
    "        row_embs_size = embeddings.size()\n",
    "        mask_1d = torch.cat((final_mask, torch.ones(row_embs_size[0] - final_mask.size()[0], dtype=torch.bool).cuda()))\n",
    "\n",
    "        # apply the padded 1-d mask\n",
    "        row['doc_embs'] = embeddings[mask_1d, : ]\n",
    "        return row\n",
    "\n",
    "    def _prune_remove(row):\n",
    "        tokens = row['doc_toks']\n",
    "        embeddings = row['doc_embs']\n",
    "\n",
    "        # create the 1-D mask\n",
    "        final_mask = torch.all(tokens[None, : ] != blacklist[:, None], axis=0)\n",
    "\n",
    "        # apply the mask to the tokens\n",
    "        row['doc_toks'] = tokens[final_mask]\n",
    "\n",
    "        # pad the 1-d mask\n",
    "        row_embs_size = embeddings.size()\n",
    "        mask_1d = torch.cat((final_mask, torch.ones(row_embs_size[0] - final_mask.size()[0], dtype=torch.bool)))\n",
    "\n",
    "        # apply the padded 1-d mask\n",
    "        row['doc_embs'] = embeddings[mask_1d, : ]\n",
    "        return row\n",
    "    \n",
    "    def _prune_gpu_zero(row):\n",
    "        tokens = row['doc_toks'].cuda()\n",
    "        embeddings = row['doc_embs'].cuda()\n",
    "        row_embs_size = embeddings.size()\n",
    "        tokens_size = tokens.size()[0]\n",
    "        \n",
    "        # create the 1-D mask\n",
    "        final_mask = torch.zeros(row_embs_size[0], dtype=torch.bool)\n",
    "        final_mask[0:tokens_size] = torch.any(tokens[None, :] == blacklist[:, None], axis=0)\n",
    "        \n",
    "        # apply the mask\n",
    "        row['doc_toks'][final_mask[0:tokens_size]] = 0\n",
    "        row['doc_embs'][final_mask, :] = 0 \n",
    "        return row\n",
    "        \n",
    "    def _prune_zero(row):\n",
    "        tokens = row['doc_toks']\n",
    "        embeddings = row['doc_embs']\n",
    "        row_embs_size = embeddings.size()\n",
    "        tokens_size = tokens.size()[0]\n",
    "                                        \n",
    "        # create the 1-D mask\n",
    "        final_mask = torch.zeros(row_embs_size[0], dtype=torch.bool)\n",
    "        final_mask[0:tokens_size] = torch.any(tokens[None, :] == blacklist[:, None], axis=0)\n",
    "            \n",
    "        # apply the mask\n",
    "        row['doc_toks'][final_mask[0:tokens_size]] = 0\n",
    "        row['doc_embs'][final_mask, :] = 0\n",
    "        return row\n",
    "    \n",
    "    if zero:\n",
    "        prune_function = _prune_gpu_zero if gpu else _prune_zero\n",
    "    else:\n",
    "        prune_function = _prune_remove_gpu if gpu else _prune_remove\n",
    "\n",
    "    def _apply(df):\n",
    "        if verbose:\n",
    "            df = df.progress_apply(prune_function, axis=1)\n",
    "        else:\n",
    "            df = df.apply(prune_function, axis=1)\n",
    "        return df\n",
    "\n",
    "    return pt.apply.generic(_apply)\n",
    "\n",
    "def get_uniform_pipeline(factory, blacklist, k1=1000):\n",
    "    pipeline = (\n",
    "        pt.apply.query(lambda row: row['text'])\n",
    "        >> factory.query_encoder()\n",
    "        >> (factory.ann_retrieve_score(query_encoded=True) % k1)\n",
    "        >> factory.fetch_index_encodings(ids=True, verbose=False)\n",
    "        >> uniform_blacklisted_tokens_transformer(blacklist, verbose=False, zero=False)\n",
    "        >> factory.scorer(verbose=False)\n",
    "        #>> pt.apply.doc_embs(drop=True)\n",
    "        #>> pt.apply.query_embs(drop=True)\n",
    "    )\n",
    "    return pipeline"
   ]
  },
  {
   "cell_type": "code",
   "execution_count": 43,
   "id": "expired-research",
   "metadata": {},
   "outputs": [],
   "source": [
    "from pyterrier_colbert.faiss_term_index import FaissNNTerm\n",
    "def get_tid_ordered_by_idf(faiss_nn_term : FaissNNTerm, verbose=False):\n",
    "    import math\n",
    "    assert hasattr(faiss_nn_term, 'dfs'), 'FaissNNTerm class must be initialized with dfs=True'\n",
    "\n",
    "    vocabulary = faiss_nn_term.tok.get_vocab()\n",
    "    n_docs = faiss_nn_term.num_docs\n",
    "\n",
    "    if verbose:\n",
    "        print(f'Number of docs: {n_docs}')\n",
    "        print(f'Vocabulary Length: {len(vocabulary)}')\n",
    "\n",
    "    tokens = []\n",
    "    for token in vocabulary:\n",
    "        tid = vocabulary[token]\n",
    "        df = faiss_nn_term.getDF_by_id(tid)\n",
    "        if(df != 0):\n",
    "            idf = math.log(n_docs/(df + 1), 10)\n",
    "            tokens.append((tid, idf))\n",
    "\n",
    "    # Remove items with 0 document frequency\n",
    "    if verbose: print(\"Token length (without 0 df elements):\", len(tokens))\n",
    "    # order by inverse document frequency\n",
    "    ordered_tokens = sorted(tokens, key= lambda pair: pair[1])\n",
    "    final_token_list = [_id for _id, _ in ordered_tokens]\n",
    "    return final_token_list\n"
   ]
  },
  {
   "cell_type": "markdown",
   "id": "pointed-apartment",
   "metadata": {},
   "source": [
    "DROPS corresponds to the $\\tau_u$ in the paper"
   ]
  },
  {
   "cell_type": "code",
   "execution_count": 53,
   "id": "informal-colombia",
   "metadata": {},
   "outputs": [
    {
     "data": {
      "text/plain": [
       "[1997, 1996, 1012, 1998, 1999, 1011, 1010, 2000, 1037, 1006]"
      ]
     },
     "execution_count": 53,
     "metadata": {},
     "output_type": "execute_result"
    }
   ],
   "source": [
    "DROPS=[1, 2, 5, 12, 25, 50, 100]\n",
    "\n",
    "\n",
    "tid_ordered_by_idf = get_tid_ordered_by_idf(nn_term)\n",
    "\n",
    "#we always start from 3 to ignore the CLS, D tokens etc.\n",
    "tid_ordered_by_idf[3:13]\n"
   ]
  },
  {
   "cell_type": "code",
   "execution_count": 55,
   "id": "established-universal",
   "metadata": {},
   "outputs": [
    {
     "data": {
      "text/plain": [
       "'of the. and in -, to a ( ) for withs is : co this onvid 19 by we as that from an are was werevirus patients disease corona or study hasv have 2 methods bemic atde pan virus been infection during respiratory health which sar clinical using results thesely background acute / it data 1 can severe not betweenal based their all used virall s syndrome treatment 2019 may analysise humand two associated however new timer % careingic afteres'"
      ]
     },
     "execution_count": 55,
     "metadata": {},
     "output_type": "execute_result"
    }
   ],
   "source": [
    "factory.args.inference.query_tokenizer.tok.decode(tid_ordered_by_idf[3:100])"
   ]
  },
  {
   "cell_type": "raw",
   "id": "intense-improvement",
   "metadata": {},
   "source": [
    "The following cells execute the uniform IDF approach on 2019, 2020 and dev topics"
   ]
  },
  {
   "cell_type": "markdown",
   "id": "behavioral-suffering",
   "metadata": {},
   "source": [
    "The next 2 cells ran some additional datapoints for the uniform pruning, and copied them into the files."
   ]
  },
  {
   "cell_type": "code",
   "execution_count": 52,
   "id": "hired-shield",
   "metadata": {},
   "outputs": [
    {
     "name": "stdout",
     "output_type": "stream",
     "text": [
      "There are multiple query fields available: ('text', 'query', 'narrative'). To use with pyterrier, provide variant or modify dataframe to add query column.\n"
     ]
    },
    {
     "data": {
      "application/vnd.jupyter.widget-view+json": {
       "model_id": "9b255461a1a747e1a9024833910306f6",
       "version_major": 2,
       "version_minor": 0
      },
      "text/plain": [
       "pt.Experiment:   0%|          | 0/18 [00:00<?, ?batches/s]"
      ]
     },
     "metadata": {},
     "output_type": "display_data"
    },
    {
     "name": "stderr",
     "output_type": "stream",
     "text": [
      "/opt/conda/envs/py37_new/lib/python3.7/site-packages/pandas/util/_decorators.py:311: SettingWithCopyWarning: \n",
      "A value is trying to be set on a copy of a slice from a DataFrame\n",
      "\n",
      "See the caveats in the documentation: https://pandas.pydata.org/pandas-docs/stable/user_guide/indexing.html#returning-a-view-versus-a-copy\n",
      "  return func(*args, **kwargs)\n"
     ]
    },
    {
     "data": {
      "text/html": [
       "<div>\n",
       "<style scoped>\n",
       "    .dataframe tbody tr th:only-of-type {\n",
       "        vertical-align: middle;\n",
       "    }\n",
       "\n",
       "    .dataframe tbody tr th {\n",
       "        vertical-align: top;\n",
       "    }\n",
       "\n",
       "    .dataframe thead th {\n",
       "        text-align: right;\n",
       "    }\n",
       "</style>\n",
       "<table border=\"1\" class=\"dataframe\">\n",
       "  <thead>\n",
       "    <tr style=\"text-align: right;\">\n",
       "      <th></th>\n",
       "      <th>name</th>\n",
       "      <th>AP@1000</th>\n",
       "      <th>nDCG@10</th>\n",
       "      <th>nDCG@20</th>\n",
       "      <th>nDCG@100</th>\n",
       "      <th>RR@1000</th>\n",
       "      <th>R@1000</th>\n",
       "      <th>AvgDoclen@1</th>\n",
       "      <th>AvgDoclen@10</th>\n",
       "      <th>AvgDoclen@100</th>\n",
       "      <th>AvgDoclen</th>\n",
       "    </tr>\n",
       "  </thead>\n",
       "  <tbody>\n",
       "    <tr>\n",
       "      <th>0</th>\n",
       "      <td>uniform_1</td>\n",
       "      <td>0.153856</td>\n",
       "      <td>0.682827</td>\n",
       "      <td>0.639469</td>\n",
       "      <td>0.480510</td>\n",
       "      <td>0.938167</td>\n",
       "      <td>0.30941</td>\n",
       "      <td>138.68</td>\n",
       "      <td>149.096</td>\n",
       "      <td>151.2280</td>\n",
       "      <td>137.95732</td>\n",
       "    </tr>\n",
       "    <tr>\n",
       "      <th>1</th>\n",
       "      <td>uniform_2</td>\n",
       "      <td>0.154286</td>\n",
       "      <td>0.686345</td>\n",
       "      <td>0.637428</td>\n",
       "      <td>0.482350</td>\n",
       "      <td>0.928167</td>\n",
       "      <td>0.30941</td>\n",
       "      <td>140.04</td>\n",
       "      <td>143.472</td>\n",
       "      <td>145.9884</td>\n",
       "      <td>133.20556</td>\n",
       "    </tr>\n",
       "    <tr>\n",
       "      <th>2</th>\n",
       "      <td>uniform_5</td>\n",
       "      <td>0.153857</td>\n",
       "      <td>0.682004</td>\n",
       "      <td>0.636145</td>\n",
       "      <td>0.479454</td>\n",
       "      <td>0.918167</td>\n",
       "      <td>0.30941</td>\n",
       "      <td>129.24</td>\n",
       "      <td>133.428</td>\n",
       "      <td>136.0622</td>\n",
       "      <td>123.57164</td>\n",
       "    </tr>\n",
       "    <tr>\n",
       "      <th>3</th>\n",
       "      <td>uniform_25</td>\n",
       "      <td>0.152011</td>\n",
       "      <td>0.665145</td>\n",
       "      <td>0.608698</td>\n",
       "      <td>0.474030</td>\n",
       "      <td>0.909802</td>\n",
       "      <td>0.30941</td>\n",
       "      <td>104.66</td>\n",
       "      <td>106.226</td>\n",
       "      <td>107.0860</td>\n",
       "      <td>96.28132</td>\n",
       "    </tr>\n",
       "    <tr>\n",
       "      <th>4</th>\n",
       "      <td>uniform_50</td>\n",
       "      <td>0.147728</td>\n",
       "      <td>0.605791</td>\n",
       "      <td>0.583037</td>\n",
       "      <td>0.456683</td>\n",
       "      <td>0.846389</td>\n",
       "      <td>0.30941</td>\n",
       "      <td>90.78</td>\n",
       "      <td>91.252</td>\n",
       "      <td>93.4284</td>\n",
       "      <td>86.47144</td>\n",
       "    </tr>\n",
       "    <tr>\n",
       "      <th>5</th>\n",
       "      <td>uniform_100</td>\n",
       "      <td>0.135203</td>\n",
       "      <td>0.564982</td>\n",
       "      <td>0.531457</td>\n",
       "      <td>0.409051</td>\n",
       "      <td>0.836857</td>\n",
       "      <td>0.30941</td>\n",
       "      <td>82.18</td>\n",
       "      <td>80.886</td>\n",
       "      <td>84.0064</td>\n",
       "      <td>77.82562</td>\n",
       "    </tr>\n",
       "  </tbody>\n",
       "</table>\n",
       "</div>"
      ],
      "text/plain": [
       "          name   AP@1000   nDCG@10   nDCG@20  nDCG@100   RR@1000   R@1000  \\\n",
       "0    uniform_1  0.153856  0.682827  0.639469  0.480510  0.938167  0.30941   \n",
       "1    uniform_2  0.154286  0.686345  0.637428  0.482350  0.928167  0.30941   \n",
       "2    uniform_5  0.153857  0.682004  0.636145  0.479454  0.918167  0.30941   \n",
       "3   uniform_25  0.152011  0.665145  0.608698  0.474030  0.909802  0.30941   \n",
       "4   uniform_50  0.147728  0.605791  0.583037  0.456683  0.846389  0.30941   \n",
       "5  uniform_100  0.135203  0.564982  0.531457  0.409051  0.836857  0.30941   \n",
       "\n",
       "   AvgDoclen@1  AvgDoclen@10  AvgDoclen@100  AvgDoclen  \n",
       "0       138.68       149.096       151.2280  137.95732  \n",
       "1       140.04       143.472       145.9884  133.20556  \n",
       "2       129.24       133.428       136.0622  123.57164  \n",
       "3       104.66       106.226       107.0860   96.28132  \n",
       "4        90.78        91.252        93.4284   86.47144  \n",
       "5        82.18        80.886        84.0064   77.82562  "
      ]
     },
     "metadata": {},
     "output_type": "display_data"
    }
   ],
   "source": [
    "from IPython.display import display\n",
    "for t in ['covid']:\n",
    "    idf = do_exp(\n",
    "        [get_uniform_pipeline(factory, tid_ordered_by_idf[3:x+3]) for x in DROPS ], \n",
    "        topics=t,\n",
    "        names=[\"uniform_%d\" % x for x in DROPS ],\n",
    "        save_dir=\"/nfs/staticPruning/results/repro_covid/uniform_%s/\",\n",
    "    )\n",
    "    display(idf)"
   ]
  },
  {
   "cell_type": "code",
   "execution_count": 114,
   "id": "applied-parts",
   "metadata": {},
   "outputs": [],
   "source": [
    "msmarco_lm = [101, 102, 2, 1012, 1996, 1010, 1997, 1998, 1037, 2000, 1999, 2003, 2005, 1011, 2008, 2030, 1007, 1006, 2006, 2007, 2024, 2009, 2004, 2015, 2017, 1024, 2011, 1005, 2013, 2022, 2019, 1015, 2064, 2023, 1055, 2012, 2115, 1016, 2031, 2025, 2065, 2028, 1017, 2029, 2001, 2097, 2062, 2038, 2021, 2035, 2036, 2043, 2060, 2087, 2050, 2089, 2027, 1013, 2055, 1045, 2045, 2039, 1018, 2084, 3022, 2051, 2037, 2109, 2070, 1019, 2224, 2034, 2002, 2129, 2061, 2054, 2049, 2046, 2047, 2041, 2048, 1025, 2079, 2122, 1002, 2040, 2058, 2069, 2057, 1056, 2151, 2075, 2116, 2063, 2066, 2044, 2111, 2131, 2053, 2102, 2107, 2090, 2086, 2095, 2184, 2042, 2191, 2010, 1020, 2059, 2566, 2074, 2256, 2156, 2169, 2121, 2342, 2083, 2193, 2154, 2170, 2092, 2094, 2300, 2323, 1029, 2303, 2020, 1003, 2152, 2099, 2026, 2068, 2138, 2096, 2110, 2163, 2073, 2100, 2592, 2112, 2171, 2190, 2124, 1021, 2779, 1022, 2146, 2128, 2077, 2202, 2200, 2088, 999, 2052, 2076, 2291, 2147, 2172, 1041, 2199, 2411, 2424, 2691, 2788, 2182, 2126, 2367, 2119, 2081, 2393, 2168, 2188, 2018, 2515, 2093, 2828, 2140, 2478, 2135, 2098, 2104, 2433, 1004, 2105, 2130, 2142, 2078, 2179, 2085, 2421, 2668, 2181, 2174, 2164, 2175, 2067, 2742, 2149, 2204, 2241, 3426, 3465, 2235, 2157, 2420, 2173, 2322, 1057, 2260, 2382, 2166, 2442, 2091, 2740, 2215, 2108, 2014, 2917, 2103, 4012, 2278, 2306, 2625, 2327, 2113, 2321, 2489, 2125, 1038, 2296, 1014, 2213, 1023, 2137, 2216, 2590, 2178, 2197, 2203, 2229, 2711, 2326, 29649, 2847, 2206, 2144, 2275, 2833, 1040, 2832, 2312, 2389, 1051, 1043, 2965, 2753, 2800, 2287, 4895, 3815, 2214, 2531, 3477, 2361, 2744, 2080, 2155, 2217, 2482, 2440, 6210, 1050, 2429, 4127, 2071, 2194, 2261, 2307, 2302, 2951, 2659, 2072, 2284, 2127, 2016, 8030, 2595, 1039, 2449, 4295, 1042, 2475, 2176, 2846, 2512, 2561, 2862, 2504, 2145, 1049, 2221, 2707, 2033, 2946, 2139, 2966, 2344, 2117, 2177, 4638, 3446, 2417, 2236, 2310, 2689, 2195, 2298, 3437, 2123, 2219, 2692, 2335, 2729, 2423, 5587, 4487, 3255, 2265, 2250, 3073, 2781, 1031, 1033, 2578, 2594, 11562, 2378, 2560, 2562, 2232, 2320, 3096, 2330, 2706, 3653, 2349, 2167, 2522, 4017, 5320, 4442, 2290, 2120, 2618, 2896, 1044, 2082, 2317, 2545, 2205, 2358, 2572, 3574, 2540, 2210, 2340, 2682, 2279, 3231, 3141, 2381, 2364, 3976, 2239, 9530, 2593, 4654, 3563, 2453, 3949, 2575, 2220, 2773, 2271, 2415, 2558, 2391, 2565, 2651, 3931, 2468, 2581, 2683, 2509, 2507, 2620, 2373, 2437, 2334, 2350, 2309, 2336, 2148, 2823, 2460, 3325, 4860, 2469, 2491, 2549, 2394, 2272, 2487, 2187, 3867, 2240, 1060, 1048, 2871, 2403, 2385, 2324, 3227, 2488, 10250, 2571, 2484, 2274, 2783, 1052, 2422, 2445, 3688, 2243, 2454, 2056, 2444, 4050, 3635, 3020, 5834, 2477, 2467, 2348, 4013, 3056, 2325, 3526, 2765, 2247, 3204, 2553, 2375, 4171, 2943, 1009, 2270, 4553, 2733, 2242, 2436, 3303, 2313, 2825, 2141, 3115, 2273, 3105, 2546, 3643, 2529, 3671, 2406, 2613, 3784, 2404, 3120, 2383, 3785, 2661, 5366, 3223, 3191, 2629, 2655, 2160, 4748, 3438, 2843, 3058, 3806, 2410, 3178, 2922, 2759, 3134, 3084, 3170, 2483, 3642, 3310, 3019, 2583, 3193, 2519, 2552, 3251, 2490, 2228, 2339, 3514, 2308, 6887, 3085, 3531, 4650, 2714, 2222, 2231, 2362, 3791, 2295, 4070, 3189, 3737, 2448, 2950, 2292, 13675, 3684, 2497, 2186, 2769, 2926, 2304, 3471, 3967, 2791, 3640, 3143, 3778, 3295, 2500, 2953, 3623, 2812, 4372, 3460, 2933, 2185, 3443, 3733, 2431, 2401, 3033, 3609, 4031, 2775, 3463, 2752, 2641, 3798, 3156, 9353, 2161, 2609, 4942, 2854, 1027, 1059, 2360, 3512, 2470, 2638, 2132, 2183, 8040, 5371, 6666, 3302, 1054, 2101, 4355, 4141, 3269, 2106, 2637, 2162, 4633, 2114, 3891, 2536, 3722, 2502, 3274, 3528, 3853, 2158, 3602, 2259, 2297, 3042, 2438, 4923, 2591, 2573, 3258, 2428, 3397, 2192, 2632, 3229, 10300, 3283, 3896, 3138, 2569, 2379, 3572, 2607, 6638, 2118, 4002, 7361, 2941, 2976, 4385, 3431, 2817, 3424, 2355, 3408, 2524, 2819, 2695, 3265, 3046, 3011, 2416, 3145, 3378, 3594, 2542, 3945, 4318, 3336, 2551, 9440, 2980, 11265, 3296, 2196, 2459, 3508, 2890, 2225, 2616, 3318, 3597, 5022, 6366, 5258, 2755, 3366, 1047, 3291, 5454, 2230, 2936, 3279, 2455, 2493, 7276, 3357, 3006, 2208, 2735, 2377, 2615, 2430, 3155, 2589, 2556, 3596, 3147, 2408, 3937, 3679, 3497, 8985, 3367, 2032, 2426, 2451, 3200, 2852, 2521, 2465, 4003, 4167, 5158, 2458, 2987, 6593, 8458, 2635, 4297, 2471, 2353, 2559, 3091, 6740, 2662, 2503, 4773, 3167, 2968, 2898, 5427, 6611, 8738, 3215, 3558, 2495, 18856, 3971, 3014, 2338, 2286, 2538, 5699, 3013, 2869, 5250, 2678, 2675, 2619, 2665, 2693, 2427, 2930, 3263, 3749, 2226, 4521, 2533, 3329, 10768, 2686, 4489, 2878, 3938, 2893, 2804, 3176, 2305, 4374, 3065, 2434, 3930, 3745, 4646, 11867, 3432, 2485, 3696, 2653, 3401, 1008, 8137, 2153, 2918, 2860, 2891, 2418, 2372, 2248, 2343, 4264, 3001, 2258, 5876, 2331, 2492, 3573, 2863, 2514, 2732, 2758, 1001, 2368, 2627, 2580, 4456, 3036, 2136, 2599, 2293, 3645, 3466, 12069, 2630, 2251, 3499, 2739, 4135, 6904, 3582, 2802, 3770, 3160, 7126, 3429, 3430, 2535, 3825, 5072, 3078, 3370, 3131, 3619, 2254, 2180, 2518, 4037, 3965, 29645, 2709, 4319, 3616, 2690, 3685, 2881, 4607, 5646, 2412, 2550, 2712, 3104, 4107, 8292, 2267, 2282, 5445, 24471, 4652, 9587, 2397, 3064, 2795, 2897, 2233, 2262, 2311, 2579, 2539, 2658, 5478, 2457, 3111, 2570, 5648, 10439, 2818, 2537, 14163, 4588, 2517, 7737, 3103, 3239, 12436, 2763, 5009, 2734, 1064, 2597, 3284, 2264, 22939, 3468, 9041, 2301, 3068, 2838, 2648, 4965, 3963, 4769, 7965, 3482, 4053, 3495, 2464, 2555, 2527, 3012, 3372, 3720, 3593, 2640, 3415, 2612, 3327, 6090, 3942, 2731, 10536, 7047, 29652, 2189, 2785, 2315, 4473, 2238, 28667, 3252, 5383, 7438, 6187, 3207, 4118, 2266, 3486, 5282, 4982, 4621, 2501, 1058, 2474, 3423, 6263, 9808, 2402, 2392, 4225, 24260, 2525, 2227, 2425, 2255, 3361, 2747, 4761, 5080, 2588, 3180, 2717, 2544, 3154, 5547, 3024, 25416, 2895, 8153, 5474, 2644, 2319, 2598, 2237, 4088, 3351, 3604, 2694, 2991, 3298, 2198, 3454, 2794, 2622, 2993, 2150, 3316, 4973, 4293, 5918, 4270, 3980, 5776, 3469, 2288, 4180, 3953, 3032, 6240, 2978, 2705, 2654, 3435, 16021, 3715, 2995, 9779, 2257, 3205, 4555, 3177, 3406, 10327, 2944, 4606, 2396, 2738, 2603, 4089, 4176, 3356, 3161, 7367, 3615, 2696, 4937, 3037, 5729, 2244, 3622, 2907, 3647, 2249, 9686, 29656, 2380, 5218, 3334, 2318, 2621, 18909, 3674, 3828, 2328, 6165, 2207, 4800, 10047, 5658, 5126, 4570, 7597, 2924, 6179, 2844, 2466, 25353, 1061, 2314, 3754, 5724, 10882, 4023, 3114, 4469, 7461, 5468, 8873, 2656, 4168, 3218, 2636, 2143, 3275, 3146, 3899, 2486, 13102, 3560, 3998, 3198, 4072, 4341, 4111, 2972, 4550, 13109, 15536, 5020, 4503, 3436, 3568, 2413, 3800, 4248, 4475, 2813, 4182, 2543, 3522, 8095, 5942, 3305, 3292, 3043, 2606, 5653, 2836, 7408, 5923, 2480, 3259, 4958, 4877, 4316, 4276, 2880, 2919, 3113, 2568, 2994, 7479, 3081, 2969, 2715, 2764, 7722, 2685, 4010, 4274, 11721, 2681, 3686, 10867, 3809, 3445, 3711, 2784, 21877, 3319, 4751, 3395, 2806, 3225, 4310, 8285, 7570, 5171, 4200, 6650, 2479, 4244, 5309, 2600, 4957, 2801, 7861, 3857, 2443, 3080, 2285, 2974, 17663, 2532, 2283, 2604, 2664, 8013, 5310, 2929, 3288, 4084, 3132, 2234, 4007, 2476, 5369, 3613, 3760, 2671, 3029, 3869, 24665, 2713, 2855, 20014, 25022, 2811, 3343, 20192, 3793, 2721, 2899, 10373, 4834, 3957, 2516, 2456, 3491, 2676, 2211, 12731, 2452, 5970, 6827, 3726, 24759, 3217, 4044, 8299, 5092, 2165, 3672, 2770, 3053, 5302, 2346, 2710, 3742, 3475, 2829, 6381, 3652, 2677, 4263, 4468, 7796, 5396, 3802, 3655, 2861, 9706, 5850, 3630, 3723, 1087, 5751, 2884, 9413, 2797, 2582, 4102, 2967, 6302, 5576, 3736, 2337, 6462, 5243, 3898, 9206, 2505, 8331, 2756, 5358, 2388, 3449, 3618, 3362, 5987, 4450, 2614, 1035, 3633, 2724, 2719, 3070, 2245, 3054, 5136, 7632, 5385, 4949, 4840, 5198, 4022, 3270, 3007, 2624, 3746, 3188, 2925, 3243, 3021, 4029, 2931, 2218, 5983, 3991, 7265, 5167, 3730, 2369, 3433, 2463, 6305, 6494, 5660, 2698, 2947, 2281, 3151, 4216, 3168, 16012, 3808, 2927, 3375, 3076, 3516, 7870, 8649, 3089, 2839, 3413, 3550, 2883, 2988, 3632, 3625, 7909, 8915, 6994, 4678, 4138, 3139, 3450, 3347, 4544, 11320, 6001, 3314, 5703, 2824, 1062, 5257, 20228, 3697, 22330, 7166, 3515, 2725, 2865, 2386, 7532, 4308, 7760, 2877, 3601, 6583, 5018, 2916, 4518, 5373, 2850, 2329, 6501, 4697, 3756, 3338, 3313, 13433, 4435, 6279, 6523, 14234, 4722, 3872, 2159, 15156, 3819, 6351, 2345, 11636, 3452, 4960, 2530, 2702, 3384, 3565, 11290, 2363, 2462, 4358, 3267, 4658, 2670, 9883, 3774, 4338, 3182, 22571, 4278, 19817, 8909, 20464, 3287, 4651, 5852, 4466, 4219, 13181, 2673, 1046, 2450, 12702, 12098, 3277, 4578, 11113, 6745, 4639, 3570, 2964, 2885, 3972, 3529, 2853, 3422, 10085, 2511, 4765, 2902, 2332, 3727, 4972, 5300, 2269, 8761, 7715, 10381, 3659, 2365, 4140, 3787, 2666, 6749, 3278, 2601, 2523, 3294, 3197, 3388, 17886, 2461, 5096, 3775, 16216, 3752, 3500, 4152, 2510, 3392, 4604, 4426, 3978, 4523, 5144, 4101, 6895, 2723, 2642, 4929, 3008, 4257, 3293, 4425, 2299, 3915, 2748, 3513, 4436, 2920, 6105, 6304, 10958, 3206, 2718, 3536, 3893, 3981, 4179, 3763, 3238, 3584, 2405, 3490, 3968, 2268, 3297, 6970, 4383, 5973, 5335, 3126, 6544, 3538, 6149, 8670, 3590, 12183, 3467, 5402, 6190, 6254, 3627, 3348, 4530, 7842, 2351, 8737, 16500, 15245, 5292, 5906, 3342, 4747, 2906, 5770, 2697, 23760, 6039, 3286, 2809, 2754, 20566, 10247, 8840, 6643, 6741, 2923, 2395, 3796, 5025, 3201, 3811, 11888, 4269, 3095, 2866, 5356, 4286, 7773, 6912, 5572, 5649, 4502, 6412, 4366, 3015, 3776, 3621, 3941, 5800, 3306, 3256, 10032, 2557, 4583, 8569, 7038, 5787, 4666, 2280, 3210, 14667, 8816, 3716, 2399, 6820, 4786, 4287, 4392, 4642, 26572, 4317, 4871, 7709, 2816, 3707, 24501, 2398, 4685, 8310, 2263, 6764, 2586, 4047, 2913, 6763, 5676, 5097, 24264, 2903, 2986, 3860, 7058, 12170, 5841, 9113, 4083, 4983, 13876, 4874, 7987, 4162, 7904, 8866, 5397, 2928, 2574, 21183, 3082, 5060, 2761, 5585, 6064, 3710, 13012, 4106, 6077, 3371, 3071, 8945, 21733, 3517, 7610, 16215, 3027, 4906, 2212, 16643, 1028, 3544, 2446, 8663, 5024, 3048, 9152, 3268, 4684, 8434, 28228, 5003, 10514, 11917, 3232, 2439, 2831, 3952, 5014, 4261, 5910, 3488, 3695, 1053, 5909, 7630, 3194, 5173, 3128, 3444, 6235, 3262, 4439, 4160, 4630, 4289, 2253, 3676, 4254, 2942, 7975, 2814, 5733, 3795, 6911, 3728, 10556, 4664, 2810, 4311, 16480, 5372, 4464, 4668, 5013, 4150, 4371, 4813, 3005, 4569, 4431, 9033, 22953, 3233, 3025, 3185, 2447, 16371, 19610, 3447, 7457, 3221, 2892, 8566, 3418, 4277, 5269, 3226, 4190, 5959, 4339, 5068, 4346, 17710, 3489, 4857, 8715, 3669, 4842, 2498, 11460, 3087, 3637, 9331, 4997, 3540, 3484, 2209, 10086, 5387, 3579, 6612, 4235, 6413, 6450, 7242, 2667, 18479, 2289, 2851, 6100, 4153, 6160, 4440, 4086, 10722, 3300, 7473, 6998, 2751, 2547, 5675, 3199, 4090, 3917, 3391, 10256, 4292, 4785, 3595, 3276, 15544, 2998, 2563, 7513, 4094, 6134, 5441, 3504, 2937, 16360, 3376, 4229, 3119, 11057, 4703, 4328, 21628, 10906, 3074, 8288, 4725, 2554, 24335, 3842, 3066, 4082, 4041, 5604, 17996, 7017, 4551, 4055, 7315, 4030, 4627, 7959, 20992, 2628, 4824, 6914, 8516, 2649, 4413, 2746, 5510, 3661, 3332, 2576, 3954, 5539, 7172, 9783, 4820, 17428, 5051, 6728, 20868, 6194, 9415, 3863, 4818, 8128, 3929, 6747, 2419, 3350, 4008, 6905, 3208, 5682, 3501, 3382, 11937, 28616, 3997, 2904, 2611, 9932, 2777, 6709, 3023, 7919, 3698, 3542, 4060, 2789, 9765, 3989, 2859, 6463, 3202, 3171, 5345, 3290, 3272, 3088, 2634, 2872, 2316, 2757, 3751, 10802, 19184, 3040, 5414, 3166, 6207, 4762, 2356, 2660, 3673, 18422, 5527, 12760, 3599, 6178, 10463, 3901, 5644, 6087, 6325, 12849, 4861, 16405, 4471, 4659, 19960, 2981, 5440, 4305, 2799, 3667, 26775, 5360, 3509, 9016, 6140, 10840, 3924, 4493, 2407, 2864, 3309, 4841, 2409, 2842, 4844, 3612, 5622, 2631, 14194, 1090, 4805, 2767, 2134, 11546, 4224, 5127, 4034, 5594, 7117, 3098, 3492, 5174, 4005, 4494, 3988, 14894, 17727, 2650, 6454, 2894, 3903, 2945, 19857, 4125, 4268, 4563, 5666, 5950, 1030, 12171, 13706, 8224, 9099, 4443, 21358, 5227, 2886, 2989, 13366, 10869, 2366, 10197, 4062, 6081, 14671, 8150, 5244, 4175, 18168, 10424, 2508, 18348, 2835, 8875, 6177, 5271, 11595, 2979, 4653, 10976, 5017, 3995, 3399, 3228, 12943, 2793, 3209, 3543, 3137, 10737, 10626, 3108, 5662, 7274, 3935, 3718, 4724, 7716, 2647, 5890, 2643, 2564, 21890, 3086, 4781, 7336, 5324, 11968, 13004, 2680, 14095, 8171, 3311, 3687, 13531, 3110, 10050, 3519, 7192, 3009, 3928, 4497, 2962, 4185, 3768, 2808, 2496, 5555, 26261, 3363, 4919, 3943, 3417, 11703, 7290, 4391, 6082, 4117, 5672, 4696, 4542, 7327, 3442, 5443, 3861, 3849, 3524, 5944, 3556, 6299, 5744, 5361, 6470, 3628, 5190, 3677, 4340, 5247, 9004, 11311, 2849, 7865, 14925, 27885, 19879, 8833, 2605, 5491, 5139, 4183, 5815, 4749, 3041, 4605, 4472, 3748, 5783, 3257, 7251, 4675, 4971, 3097, 5992, 7011, 3125, 6289, 9537, 5248, 3589, 2741, 3077, 3448, 4700, 5186, 3340, 3605, 5114, 2390, 3328, 4945, 5845, 4720, 4558, 11616, 4198, 7661, 6036, 14255, 3792, 9781, 18558, 8483, 10651, 2499, 5860, 4830, 14101, 7712, 3456, 6433, 4241, 3701, 2623, 7792, 5824, 5812, 7277, 4955, 6851, 6949, 3462, 9231, 12826, 3769, 3031, 6363, 3813, 8272, 12654, 3016, 5177, 11194, 7099, 3459, 3112, 20934, 4432, 7123, 3247, 27718, 5886, 18847, 3050, 3364, 20372, 6115, 8700, 4206, 4677, 9898, 4434, 9463, 5530, 3739, 11382, 3393, 6928, 5790, 6097, 7403, 2276, 6866, 2830, 4526, 7594, 21716, 4879, 3458, 8197, 15068, 18714, 6971, 12136, 16755, 7680, 5221, 6819, 11565, 7137, 2949, 4091, 8808, 20435, 8250, 3617, 3079, 8948, 4540, 3464, 6107, 4904, 6687, 5796, 16748, 3039, 21572, 3823, 5949, 5178, 2294, 2771, 3144, 6855, 29347, 7435, 11767, 2252, 3961, 5661, 19471, 5958, 2376, 6806, 10258, 2867, 4406, 3341, 3107, 3532, 2472, 8079, 7388, 3608, 5179, 2796, 18886, 4589, 4014, 9987, 5354, 2663, 23041, 12859, 3886, 4601, 7809, 4587, 5714, 7079, 8100, 6459, 5438, 3663, 12403, 3216, 5535, 3060, 12737, 5166, 2669, 14841, 3843, 9044, 7378, 2610, 5110, 7554, 6694, 4095, 3527, 19470, 5966, 9617, 3694, 3211, 9130, 20118, 10504, 4187, 4964, 5955, 12984, 27427, 3246, 3439, 17119, 2577, 4515, 9080, 3921, 9314, 4868, 5761, 4367, 7270, 5187, 11890, 3136, 2384, 5514, 7812, 7934, 2414, 12901, 3820, 12530, 8241, 3157, 4525, 7929, 2341, 8962, 3714, 5560, 13853, 6396, 4025, 3807, 3028, 2646, 4522, 11897, 6110, 5769, 2879, 7355, 4451, 6499, 4359, 3352, 3308, 4130, 4447, 3280, 3237, 4215, 10675, 4353, 5090, 2983, 6959, 5549, 5350, 6091, 3977, 6013, 3871, 4681, 4590, 19939, 6032, 8902, 2762, 4076, 10975, 12882, 4109, 10696, 13365, 3253, 2749, 8329, 2201, 6058, 4728, 14905, 3962, 4524, 8192, 6315, 21025, 18423, 7826, 6327, 3693, 5044, 4975, 10826, 3494, 11727, 2679, 6133, 5836, 6581, 6635, 6922, 4189, 4832, 5057, 6245, 7928, 5472, 4148, 4145, 4987, 10804, 4221, 7356, 7524, 3149, 6633, 8073, 5278, 14266, 24209, 11498, 17359, 4402, 3759, 2684, 2652, 8586, 15549, 6599, 3638, 3765, 2912, 5134, 4045, 3169, 4465, 6767, 3614, 14978, 4021, 11338, 3973, 4954, 4573, 2633, 2959, 5002, 3600, 8853, 4655, 4058, 3712, 18900, 11325, 5211, 6657, 7427, 5329, 4139, 6199, 3383, 4121, 3349, 12650, 9375, 4063, 4852, 5401, 3003, 13978, 6873, 2701, 3832, 14321, 12398, 7028, 4283, 5643, 6993, 4281, 20422, 10210, 3057, 4568, 6364, 7374, 3461, 7954, 4586, 11443, 6402, 9388, 5104, 2674, 6875, 9841, 18981, 4212, 6812, 4989, 2882, 4610, 4552, 9378, 8321, 3192, 5786, 5948, 7167, 4892, 2973, 5816, 12040, 3576, 6337, 3534, 7328, 5246, 3539, 5737, 6038, 2716, 5618, 4438, 14044, 6046, 3993, 2657, 3681, 5067, 4788, 2333, 4863, 6185, 11601, 5760, 3479, 3747, 4539, 2441, 2534, 14344, 5571, 4315, 6564, 2520, 3561, 7300, 12541, 4968, 4683, 6070, 9006, 6079, 9398, 7088, 4760, 3248, 3094, 5830, 5388, 21863, 3919, 5099, 4322, 5377, 4784, 2961, 18447, 5338, 17850, 5107, 5799, 4490, 5041, 3470, 5511, 2750, 10962, 9468, 2772, 4275, 14573, 4193, 10930, 9278, 2223, 2708, 5764, 8698, 7065, 9289, 8523, 3190, 8017, 10288, 6537, 2387, 13246, 5157, 8004, 4816, 4859, 4810, 12997, 4735, 5997, 4237, 11333, 12618, 2911, 9732, 4961, 6040, 6293, 3816, 7957, 13316, 7325, 3964, 2585, 3059, 5418, 3165, 6534, 6147, 7790, 11514, 5490, 2776, 3691, 5470, 4304, 4969, 8827, 5630, 22091, 6251, 2400, 3840, 7236, 12486, 5423, 4496, 4500, 9524, 4156, 14876, 7201, 4299, 15775, 4511, 4424, 9610, 4671, 6352, 7522, 18059, 20996, 13764, 4520, 3771, 4531, 4157, 6219, 5050, 8093, 2963, 5577, 4048, 4108, 4133, 20704, 2900, 6191, 7913, 5200, 3365, 5943, 8991, 3940, 3841, 4783, 25760, 9871, 4613, 4855, 12034, 15182, 4360, 7170, 9885, 7224, 3567, 5505, 15242, 6163, 2494, 2645, 4087, 9048, 2821, 4495, 3241, 24582, 5608, 2915, 5056, 14699, 13749, 6773, 4870, 4807, 6273, 8117, 2985, 5255, 4240, 2359, 2992, 9078, 4953, 19804, 14778, 4774, 11868, 3220, 9496, 2608, 6821, 3668, 2745, 13354, 5328, 2432, 4363, 4509, 10441, 6275, 10089, 22889, 12322, 4246, 18804, 26745, 7721, 3116, 3834, 3588, 4144, 14399, 9623, 11360, 3127, 2822, 8043, 11463, 9597, 4280, 4195, 4245, 5416, 8462, 6774, 9544, 5930, 4962, 4026, 4155, 14931, 19274, 8390, 7507, 3260, 4226, 6132, 2357, 5155, 4411, 6942, 3552, 4483, 3858, 8740, 3855, 3549, 11112, 2435, 27833, 3603, 3675, 10841, 6162, 3654, 8023, 5840, 6255, 13441, 4165, 4714, 4403, 21522, 8917, 3789, 5065, 21419, 5875, 3330, 5281, 3926, 9343, 6024, 19029, 3123, 17974, 5007, 8630, 25320, 5029, 12141, 3130, 3585, 13822, 3586, 10903, 6204, 3835, 5897, 5337, 3420, 6535, 3665, 8524, 11594, 7027, 17341, 5995, 9626, 2954, 27615, 2921, 29646, 4126, 2792, 8889, 6632, 6021, 11394, 3905, 3404, 2374, 20752, 6075, 7852, 11020, 18098, 9754, 4307, 2760, 19575, 21462, 16492, 4284, 5061, 2875, 5095, 6390, 3970, 9857, 4455, 8254, 4398, 6445, 2277, 6123, 5651, 6282, 4020, 6401, 6610, 5332, 6592, 4230, 4620, 4758, 14412, 11733, 6705, 5509, 2352, 13922, 5075, 7233, 3847, 4839, 5844, 24667, 6529, 10995, 4128, 21934, 9432, 15464, 7666, 4174, 10624, 6313, 8066, 2584, 5709, 7396, 6693, 18107, 7279, 7677, 9733, 7922, 4618, 7163, 7875, 4231, 10701, 11472, 9145, 3788, 5375, 12879, 4897, 7389, 16948, 3407, 14384, 4790, 6227, 4667, 2728, 7023, 8208, 5333, 6714, 5047, 5553, 3052, 23713, 6146, 7068, 7053, 4770, 23569, 4602, 4795, 5710, 5785, 29662, 2938, 4097, 3933, 7016, 10035, 3481, 8819, 5821, 4611, 10618, 10760, 7076, 4853, 6640, 2887, 6491, 5829, 26721, 27178, 3102, 4708, 2672, 5717, 10099, 3289, 5378, 9381, 3072, 15451, 7020, 8616, 2720, 2975, 7539, 6434, 8995, 3975, 11192, 6391, 17678, 7564, 7318, 3075, 4100, 6736, 4236, 5260, 5851, 4324, 8094, 3934, 4699, 3337, 6168, 3729, 13184, 6353, 7941, 5818, 8196, 4092, 7874, 7542, 25430, 9358, 10468, 7692, 4994, 5352, 4921, 7127, 3690, 3254, 8519, 10943, 2626, 9821, 9067, 5718, 16313, 6356, 5677, 3510, 6524, 10174, 13186, 18834, 6209, 9317, 3883, 6692, 3829, 4609, 5055, 2703, 5757, 3830, 11122, 7667, 4599, 5562, 10036, 4408, 3129, 3173, 11506, 4249, 9153, 4453, 6200, 5381, 7045, 8777, 13699, 8870, 9014, 16510, 9108, 4875, 6584, 3947, 6466, 28775, 4078, 29454, 23060, 2730, 2999, 7977, 2778, 11707, 4506, 10627, 12635, 6410, 3164, 5435, 3373, 13435, 3026, 7523, 6876, 11664, 16602, 22123, 16464, 6604, 8988, 24970, 17651, 5012, 10372, 9367, 3979, 8793, 10507, 5193, 5403, 3639, 3493, 9344, 27717, 24780, 3142, 16888, 5833, 5379, 5989, 10216, 6444, 16222, 6034, 3658, 4571, 7939, 2726, 3678, 25032, 4009, 9430, 4412, 11253, 23340, 8849, 2699, 7000, 3061, 4672, 4948, 5806, 2541, 4207, 4149, 7382, 3222, 4352, 3389, 6022, 5664, 7751, 25311, 3913, 24529, 5641, 3304, 13096, 15383, 3345, 3836, 11387, 3920, 4619, 4481, 5498, 4332, 9998, 6276, 6845, 5688, 9804, 3713, 9529, 5331, 5668, 19330, 16781, 20175, 7685, 4066, 18178, 2787, 7696, 3240, 6451, 6528, 2856, 6074, 7561, 5971, 6217, 10834, 8081, 5308, 7583, 2820, 6078, 7831, 13353, 3419, 4298, 9397, 12433, 3010, 25043, 5450, 2940, 5461, 4743, 21442, 6421, 5053, 5460, 5610, 6406, 4335, 13323, 20548, 2526, 3385, 23438, 19739, 2840, 3884, 5915, 11661, 8466, 6335, 4103, 3670, 4136, 7629, 19875, 16429, 6047, 3244, 5835, 24755, 19395, 8183, 16565, 6493, 7856, 3038, 4256, 4480, 4705, 6661, 3353, 6909, 6365, 16342, 27390, 6067, 4890, 29477, 5334, 5814, 8843, 6526, 7655, 6695, 6043, 2990, 29653, 8038, 2567, 27641, 16256, 4400, 12241, 6486, 6848, 9275, 5169, 9949, 4173, 5220, 3888, 5094, 27292, 5216, 16844, 4876, 5582, 11837, 8249, 14405, 10790, 11980, 7040, 4247, 9724, 5217, 6181, 4951, 7846, 5606, 3805, 4920, 4122, 2780, 24952, 18749, 3122, 4243, 21030, 9002, 9059, 14380, 7829, 4682, 15488, 9547, 11243, 3224, 6045, 7706, 9675, 28362, 16985, 5591, 10751, 6950, 8417, 12696, 11031, 5563, 3331, 2958, 8817, 7688, 7711, 2596, 12033, 6897, 3451, 2370, 2617, 8450, 4636, 9436, 11487, 19413, 5746, 6205, 12448, 12870, 12475, 6028, 12816, 4057, 5809, 5245, 14855, 7515, 8381, 4909, 5993, 5741, 9005, 5568, 5716, 19126, 3400, 5638, 20116, 19699, 4344, 12083, 4744, 8476, 4024, 4757, 5939, 11670, 6441, 5691, 29610, 6853, 4984, 5083, 4825, 5004, 20110, 13341, 6844, 5085, 8557, 6086, 5986, 20187, 8449, 16175, 4742, 4507, 11347, 3725, 15476, 8145, 7199, 10318, 3587, 3045, 9737, 21766, 7451, 8380, 6679, 3591, 7292, 2473, 4214, 3649, 5204, 2908, 7281, 4766, 4396, 7478, 4547, 9181, 5749, 8525, 3148, 5887, 28394, 19738, 11135, 7591, 14098, 15498, 4903, 8982, 5030, 5907, 5437, 5570, 18097, 3985, 18044, 15923, 5133, 1026, 6551, 3425, 4056, 4448, 6228, 4817, 4054, 8080, 6947, 19101, 11052, 8609, 3772, 3762, 12509, 4663, 7547, 8114, 5601, 6429, 5197, 6976, 3518, 3523, 6023, 4933, 5449, 26077, 5285, 19622, 9863, 7512, 15876, 2798, 7584, 5856, 14083, 5740, 6739, 12586, 12778, 4905, 5138, 22086, 4977, 4204, 9499, 4242, 3063, 4460, 4181, 4608, 5647, 12678, 6373, 3897, 4648, 24176, 10066, 4617, 3158, 14262, 7744, 6112, 6625, 3133, 5592, 6072, 7316, 1067, 29664, 4404, 3810, 15960, 5711, 8486, 10885, 5156, 3521, 6546, 27395, 9927, 18622, 6109, 3179, 29657, 18133, 17463, 9854, 4647, 8116, 16250, 2803, 2774, 8360, 7502, 4279, 20185, 6020, 7096, 6083, 5210, 3577, 10268, 9740, 9598, 5164, 7872, 4592, 14409, 4351, 3344, 5266, 11307, 10808, 4491, 3923, 14693, 6180, 7708, 3946, 3904, 25654, 5869, 9309, 2587, 3535, 11467, 8148, 3441, 3702, 5750, 3213, 4368, 8496, 6026, 5305, 25212, 14057, 5280, 6770, 8237, 29278, 13511, 11251, 3181, 6509, 11988, 4995, 11163, 14171, 3786, 5214, 7834, 4822, 7001, 5665, 18888, 4536, 18684, 17577, 13994, 8907, 7911, 6967, 6567, 5975, 11263, 7823, 19116, 6508, 13594, 4629, 5398, 4390, 18496, 4373, 3741, 5422, 10364, 8553, 5109, 8758, 7884, 4417, 11714, 11704, 4137, 15804, 10586, 12318, 3959, 7669, 16031, 10390, 18191, 5628, 16285, 2736, 4067, 5721, 4415, 10222, 3335, 11441, 8082, 3067, 8159, 8732, 9639, 28915, 21500, 8029, 6627, 7397, 3214, 3580, 7953, 4838, 2639, 3703, 23736, 9010, 8398, 5482, 7494, 19067, 5725, 14834, 3553, 5537, 15415, 7832, 14536, 5433, 3135, 10328, 9232, 6987, 6753, 3767, 10024, 4049, 5919, 2506, 6594, 9095, 11865, 3083, 6832, 3801, 6151, 20786, 10354, 21774, 5929, 19351, 6631, 2602, 4001, 5656, 6726, 8720, 4132, 13502, 5452, 18651, 3983, 6322, 3731, 8161, 5235, 6522, 3902, 19722, 5339, 6516, 5681, 7607, 1073, 9735, 29525, 5754, 7287, 9903, 9349, 18079, 9007, 3271, 11655, 4416, 13751, 7026, 2371, 5353, 7749, 5145, 9543, 7046, 5956, 14629, 9144, 5573, 16180, 10610, 6234, 8743, 16130, 4562, 13724, 4911, 12412, 4418, 4591, 5326, 16749, 8059, 6561, 8785, 4846, 4395, 5938, 3700, 14074, 3692, 8560, 13878, 6761, 4389, 12554, 3708, 5911, 19802, 12264, 15184, 12992, 7559, 9550, 10764, 2905, 16183, 4098, 3092, 3709, 5130, 10654, 8146, 10020, 4033, 4882, 8316, 14358, 3906, 8267, 5991, 21307, 3996, 4233, 22498, 5016, 3307, 4414, 4867, 6758, 9580, 4039, 14663, 2996, 4350, 15413, 7718, 7231, 7971, 4517, 16678, 11712, 4767, 3606, 9165, 7312, 7906, 7772, 6169, 3409, 13714, 5901, 10940, 17266, 10450, 15363, 3506, 3090, 3121, 7599, 4827, 23444, 5362, 5415, 3634, 7060, 7588, 2548, 10092, 3163, 7883, 4950, 4449, 4847, 14902, 4158, 4071, 8445, 19340, 6869, 29234, 7446, 9268, 5298, 5439, 10128, 8313, 8574, 5116, 7807, 11066, 8491, 19328, 4726, 13250, 5368, 7159, 3781, 9585, 16913, 8400, 7516, 6558, 4956, 5404, 5082, 7349, 2984, 11825, 11924, 3183, 12349, 100, 6065, 8051, 13434, 12278, 18908, 4888, 4946, 5645, 6910, 5399, 5810, 7949, 2932, 4330, 6975, 7858, 4943, 7606, 3598, 3914, 6336, 8428, 9336, 3044, 7882, 6017, 14017, 7341, 6540, 14548, 9312, 18726, 16662, 7644, 7142, 2914, 3648, 4488, 7216, 6053, 12384, 5142, 17490, 5620, 5669, 7868, 8583, 29655, 7254, 10474, 4887, 25234, 20631, 14114, 5128, 3264, 6742, 11005, 7262, 17042, 4631, 5731, 6698, 24163, 24931, 7368, 4632, 17076, 5994, 18089, 16940, 13061, 6481, 6779, 17588, 8521, 10278, 5512, 7338, 6089, 4252, 8281, 6823, 8939, 13787, 5448, 3412, 21146, 9032, 6550, 15340, 6148, 12204, 3034, 4458, 5779, 6861, 12515, 7450, 6214, 3117, 3607, 14751, 11889, 11233, 12690, 4064, 4259, 9905, 4342, 4865, 3569, 8913, 11231, 3562, 5581, 8010, 4313, 18921, 4321, 4387, 5121, 24479, 13855, 10421, 12379, 5705, 5228, 7321, 12562, 4329, 2982, 9125, 18833, 7820, 8974, 8934, 5410, 7828, 4866, 2700, 14122, 7198, 4357, 12680, 7476, 5494, 4514, 12532, 7903, 7864, 5262, 3799, 7615, 8518, 7358, 3900, 7818, 9103, 11234, 4220, 5123, 2743, 5135, 27593, 4143, 12325, 8248, 7496, 13938, 5089, 11598, 5843, 3689, 6464, 12391, 7770, 7687, 2837, 3721, 6776, 9677, 2687, 6195, 5196, 5162, 3932, 5446, 3485, 4498, 8202, 9526, 2971, 17790, 7815, 16416, 5857, 5392, 3473, 4336, 5866, 2888, 3035, 7222, 6483, 6556, 9280, 10500, 28173, 2513, 8490, 14000, 5524, 12763, 7366, 6480, 2901, 6319, 6370, 18591, 7778, 5393, 5287, 5457, 2827, 5242, 12521, 9352, 4643, 4209, 4986, 5794, 7558, 3818, 13995, 4576, 10516, 10126, 4114, 11475, 24158, 20874, 9015, 5492, 3831, 6651, 2957, 3049, 4710, 4419, 3944, 1032, 4115, 10831, 4105, 3571, 2246, 4691, 2722, 6392, 9565, 5791, 2948, 8699, 5536, 5657, 6198, 5294, 4595, 10549, 25969, 5931, 10539, 3315, 6667, 2727, 10376, 29536, 4811, 17680, 9146, 5686, 3403, 7442, 4178, 23270, 7974, 6913, 5798, 22930, 19962, 5685, 18414, 12598, 4886, 5359, 6585, 15057, 11368, 23245, 8325, 7967, 9874, 3266, 8122, 12711, 6565, 14708, 21957, 18213, 6519, 5284, 6557, 20702, 6782, 3153, 8156, 6453, 18282, 7545, 4907, 5596, 12123, 7608, 4217, 7580, 3174, 17631, 3017, 4027, 7218, 4637, 17822, 24689, 25933, 3564, 22597, 4641, 7471, 4325, 9425, 28268, 6719, 6854, 5273, 5788, 6597, 4177, 6129, 6088, 3416, 22943, 14148, 7901, 16521, 5323, 4926, 4323, 6962, 27605, 8167, 7915, 11082, 6839, 5149, 5704, 7456, 6197, 4793, 5432, 5621, 7359, 10893, 9909, 8742, 14192, 10415, 5579, 7173, 6882, 5532, 13114, 19362, 12233, 7704, 4382, 2347, 28032, 21864, 10196, 9972, 10074, 2688, 11663, 6328, 7386, 5670, 6277, 6906, 5826, 17252, 7886, 4734, 7578, 8757, 7057, 17207, 12191, 9422, 11365, 11493, 8712, 7110, 6223, 29598, 12248, 3496, 10814, 4990, 10236, 6871, 6202, 4430, 3051, 8247, 8323, 9739, 3322, 5603, 3212, 9178, 6155, 5219, 4282, 14511, 3773, 4862, 10332, 6342, 7755, 9394, 8339, 3839, 29387, 12603, 8112, 7480, 3320, 7107, 7529, 3093, 12533, 28139, 3235, 4713, 7609, 5884, 3641, 3152, 4851, 20720, 10163, 17473, 11791, 9710, 17712, 10629, 12810, 10755, 4566, 3738, 10497, 6041, 5738, 6525, 5459, 14142, 3566, 29464, 7174, 9247, 15581, 21656, 28522, 14924, 3734, 20137, 13970, 9728, 3000, 2956, 16294, 5313, 10084, 6986, 9410, 7309, 11522, 5551, 16033, 8667, 6270, 4208, 9361, 6721, 8311, 4040, 7266, 17964, 4693, 20233, 5033, 5374, 3498, 26591, 7683, 26213, 6310, 4309, 21963, 7082, 10093, 23564, 8787, 3660, 5380, 7205, 13666, 3124, 4232, 22794, 3405, 3421, 4119, 10551, 4737, 3520, 6602, 4597, 6497, 16515, 11589, 8545, 8487, 7070, 3187, 6125, 9377, 16233, 14545, 3779, 3936, 4991, 5476, 21475, 8050, 17419, 10479, 3909, 5376, 10800, 9785, 5159, 4660, 5541, 7013, 2786, 14366, 8278, 12184, 7940, 24964, 8332, 4146, 13642, 12453, 4505, 17596, 4755, 9699, 11027, 3434, 21850, 16129, 3455, 9092, 8386, 6681, 3282, 25176, 6888, 5428, 8522, 7620, 11572, 5903, 5593, 15422, 4738, 6095, 6121, 7285, 6011, 7697, 10483, 6007, 4635, 7816, 5115, 16613, 5088, 13070, 3390, 7541, 17542, 4213, 6386, 18499, 7869, 6258, 14289, 5507, 11178, 6030, 5391, 5793, 14526, 10489, 7140, 19255, 4394, 9345, 13866, 4998, 22476, 13416, 10566, 6781, 6673, 11022, 26033, 8528, 7730, 5100, 7689, 6379, 6387, 13871, 22648, 27108, 5880, 5748, 19731, 13467, 21281, 7485, 7849, 13075, 4073, 10004, 5122, 17153, 5462, 11039, 2935, 4564, 16204, 8155, 6919, 8676, 4113, 6350, 4931, 5409, 7639, 8498, 3910, 8179, 5485, 11631, 8236, 8654, 7946, 3960, 16474, 11746, 13592, 5434, 9386, 16770, 20614, 22822, 8713, 6360, 5900, 8826, 7118, 14904, 9742, 6825, 14246, 8800, 6442, 6238, 3827, 5054, 8068, 6803, 4484, 10534, 22042, 10178, 15050, 4952, 7352, 4147, 24983, 4676, 16731, 5251, 6377, 14176, 10521, 4896, 4081, 3554, 16157, 20624, 6131, 10101, 12165, 17404, 11302, 4596, 7337, 18845, 10665, 15865, 21608, 16874, 6807, 14983, 5395, 7747, 18047, 11970, 7511, 7182, 4809, 20989, 11860, 3803, 21162, 8335, 5612, 6495, 13490, 9148, 3866, 14817, 6614, 5365, 6226, 8110, 5773, 26632, 9385, 6368, 6292, 6005, 7659, 12473, 9961, 9063, 24345, 5340, 13656, 3822, 4848, 3662, 9683, 5683, 9141, 7432, 8674, 6267, 14477, 11840, 24965, 10857, 11919, 6678, 12553, 15965, 4377, 7209, 7604, 28699, 3047, 5111, 7416, 12090, 18721, 9140, 20049, 6683, 9475, 12884, 10961, 9607, 10042, 7406, 5865, 11209, 6603, 11190, 3541, 16463, 8324, 20010, 24454, 4794, 16018, 25551, 4567, 5936, 6455, 23675, 15903, 22471, 4916, 12987, 9608, 4873, 4410, 5147, 5802, 5463, 3511, 6098, 14956, 27166, 7905, 8551, 8474, 11687, 4803, 6541, 11775, 15177, 6010, 5023, 4303, 6653, 8554, 5999, 4169, 2848, 12277, 4687, 10496, 4285, 10509, 26927, 19557, 5813, 25778, 4069, 2845, 18442, 2874, 8828, 11412, 27268, 11379, 7766, 5119, 8382, 10848, 3099, 3457, 7136, 7898, 20949, 4234, 6903, 4935, 5747, 16211, 6415, 8198, 12293, 5073, 9307, 12142, 6224, 21908, 7526, 1066, 15859, 4203, 4634, 19341, 4939, 8000, 12102, 15333, 11702, 5456, 5367, 5213, 6960, 6591, 18075, 3530, 12935, 25219, 10228, 8358, 5558, 4806, 10548, 15431, 9233, 6805, 6964, 4974, 6247, 4301, 20936, 8635, 7414, 16302, 4883, 9474, 4941, 4004, 16921, 7180, 16428, 6176, 6206, 8903, 7484, 5963, 4979, 7601, 15289, 5617, 9938, 13408, 3559, 16437, 7399, 11508, 15395, 6076, 6691, 3159, 11350, 9239, 6120, 5307, 7619, 13910, 10506, 6167, 3203, 20739, 12260, 5237, 11695, 6677, 9495, 2807, 9531, 5742, 18672, 10019, 9323, 5304, 13113, 3894, 11047, 5759, 6084, 12046, 4075, 23961, 8318, 5317, 27090, 9090, 4792, 4821, 8908, 5500, 11585, 9611, 8231, 3324, 26136, 5858, 24185, 7976, 9325, 8180, 6961, 11503, 6958, 2873, 3951, 8844, 16137, 4445, 11212, 20282, 10698, 11596, 6113, 7814, 8123, 10887, 7188, 18501, 14689, 4772, 8473, 20410, 5583, 19723, 11913, 15250, 9645, 15189, 18400, 15099, 19635, 8591, 11817, 2857, 4730, 11457, 20138, 7405, 13046, 4674, 15878, 6438, 10672, 6114, 11520, 4753, 5101, 6724, 5533, 23726, 6457, 11343, 8599, 8980, 8317, 19099, 11993, 16269, 5026, 9581, 11139, 9592, 11737, 4446, 18976, 6605, 8349, 26351, 6357, 14343, 4584, 4379, 5059, 5293, 22834, 9053, 4581, 23277, 12210, 10898, 3140, 5877, 4397, 7887, 9046, 25292, 4476, 7087, 5346, 13844, 10199, 20389, 6428, 5229, 5700, 9047, 13292, 9879, 16326, 17728, 7062, 9890, 6570, 6718, 12002, 4719, 10732, 4680, 7085, 12637, 13336, 8387, 4427, 7863, 3537, 28815, 7978, 10466, 7039, 20876, 3557, 18906, 14686, 6826, 5301, 5027, 15185, 7727, 5194, 4454, 6419, 10426, 5723, 23561, 6452, 14939, 4093, 2934, 11390, 28283, 4709, 9593, 7235, 4018, 28393, 4407, 6309, 6938, 10010, 9542, 9362, 27159, 13164, 8539, 10067, 4535, 6329, 8416, 2834, 14277, 3992, 17208, 25312, 4294, 26874, 12646, 10383, 21693, 15956, 27838, 24395, 8529, 6847, 2826, 18440, 29212, 7460, 12604, 3360, 24547, 5642, 5306, 2782, 3150, 6164, 18551, 19077, 13558, 7705, 3969, 14513, 4433, 8823, 21094, 5873, 23658, 4272, 7741, 23216, 5342, 6375, 18227, 10750, 3414, 12667, 15900, 17373, 8301, 8790, 6358, 8520, 10639, 16972, 3974, 8822, 4038, 9431, 5609, 6137, 9820, 5224, 9689, 17634, 17271, 10168, 8015, 8834, 17910, 12070, 5766, 8085, 7640, 21933, 20064, 8223, 21396, 3273, 6671, 8564, 23409, 4541, 6622, 10003, 8552, 22260, 8060, 6936, 16068, 25641, 3555, 7176, 16671, 7805, 9646, 5957, 12285, 18923, 6963, 16344, 5640, 26780, 3261, 12520, 9019, 5516, 9262, 7505, 5400, 5605, 21709, 7381, 11300, 9235, 3312, 10447, 12324, 13774, 8039, 11756, 9255, 6323, 8992, 6531, 6786, 4337, 12376, 11477, 6836, 10142, 2909, 20960, 6221, 7258, 10861, 3794, 9594, 20850, 4736, 4378, 11859, 24385, 20648, 3844, 5631, 14634, 3533, 6926, 3666, 11500, 9956, 27263, 2889, 9483, 15669, 8582, 29090, 11656, 25308, 9634, 5466, 4015, 8319, 7189, 21453, 7444, 7221, 6578, 8641, 5743, 5933, 21469, 6924, 19294, 5347, 3236, 16653, 6331, 23848, 14776, 5719, 27065, 14604, 5925, 18224, 10752, 6865, 13523, 6265, 22991, 13191, 24108, 8701, 9466, 1063, 21408, 9876, 4695, 10124, 5495, 9942, 6503, 10374, 19696, 4218, 5129, 16558, 20026, 11326, 10697, 10202, 4628, 3581, 4556, 20248, 8606, 10723, 6271, 14728, 11395, 8579, 7926, 14899, 12273, 16649, 1077, 3062, 7139, 8022, 14557, 4598, 8467, 11087, 22244, 10440, 3002, 7840, 6093, 6019, 9535, 3984, 8304, 27133, 9563, 23489, 3428, 11224, 12399, 5263, 11187, 16263, 4492, 5726, 13626, 3478, 7691, 12146, 5233, 16792, 8154, 4819, 7390, 13728, 15909, 11228, 9625, 8411, 14447, 7037, 6485, 5862, 14540, 6856, 12928, 4462, 6862, 24798, 14028, 21422, 10198, 6393, 4253, 14021, 4966, 18269, 13131, 3782, 3870, 10416, 15315, 11887, 25643, 11706, 4163, 4405, 8578, 7021, 12326, 7264, 3719, 14555, 15176, 4343, 21887, 19230, 6552, 25249, 11640, 3626, 3578, 11689, 7077, 12256, 26726, 15321, 12818, 11559, 16014, 11748, 3333, 7372, 6475, 8031, 16093, 8697, 8169, 5674, 20915, 4545, 6670, 13013, 5589, 5584, 8225, 8454, 5160, 2876, 12939, 20861, 5732, 12612, 14744, 9488, 17776, 9609, 11461, 6623, 9335, 16914, 7339, 12380, 2960, 3636, 14090, 6562, 13268, 3030, 19966, 12052, 4262, 17897, 26781, 3907, 8021, 5947, 7595, 12162, 7930, 27118, 3790, 5279, 6016, 16027, 10057, 7756, 10640, 11261, 8011, 6229, 16514, 21434, 11110, 10230, 16380, 7679, 8778, 5039, 16725, 13472, 6116, 5552, 8627, 11033, 12190, 11628, 5426, 5458, 12042, 15006, 10667, 6656, 8612, 6762, 7177, 22494, 10343, 3018, 8261, 4011, 23408, 4019, 28613, 2354, 10545, 8625, 3885, 9573, 17350, 4227, 10868, 12851, 17788, 6290, 6117, 16523, 5780, 5256, 6900, 9387, 10262, 11876, 12990, 18155, 4574, 7635, 7514, 3766, 8689, 5871, 20066, 15116, 24078, 6553, 23951, 3927, 3548, 15041, 16298, 11943, 20166, 4348, 17781, 11409, 3402, 6864, 3732, 4199, 16655, 7521, 4142, 21559, 8189, 25732, 7492, 6669, 9183, 29651, 17362, 21759, 3505, 23614, 7637, 6555, 24444, 7681, 5831, 25167, 16086, 4486, 4978, 17913, 6772, 17595, 12528, 3986, 24972, 7860, 3740, 23363, 14995, 8820, 5291, 9123, 17914, 20302, 7888, 8246, 21862, 6420, 5151, 8141, 3359, 9402, 4745, 10720, 8115, 11744, 6447, 7551, 19591, 6980, 16661, 4384, 12200, 15106, 12898, 10097, 8448, 8753, 6094, 7149, 18891, 22282, 24978, 15907, 12809, 17371, 12237, 5386, 5008, 7518, 16142, 10253, 9584, 12878, 5534, 1065, 12868, 5730, 12740, 19454, 6590, 15219, 9442, 3824, 4210, 14808, 11201, 5693, 25086, 9163, 9671, 5525, 28352, 9850, 17561, 5777, 8312, 26308, 10606, 16308, 6145, 6833, 7641, 19761, 14524, 5519, 8983, 7347, 21101, 26021, 6431, 16706, 1094, 10402, 17643, 8592, 6689, 7078, 15594, 4797, 5081, 14164, 18898, 17214, 24894, 10819, 5382, 6172, 8893, 3833, 7682, 15630, 3480, 10316, 5483, 5043, 12848, 10232, 8621, 11835, 16611, 26381, 11345, 12824, 21447, 3069, 8509, 9685, 4717, 8984, 5209, 8829, 4380, 10985, 3545, 12837, 12758, 19317, 17344, 8702, 10569, 19027, 8426, 26243, 10960, 4985, 5951, 8990, 9167, 9983, 5678, 13417, 13379, 20965, 26180, 7964, 7098, 8378, 25141, 27937, 4080, 17134, 11795, 11819, 5005, 4369, 14454, 23296, 5436, 9035, 7095, 4665, 15124, 19496, 28711, 6735, 4161, 4376, 10527, 5508, 4288, 9229, 22684, 5425, 11895, 11657, 9088, 8810, 10690, 4661, 12649, 17782, 9298, 7900, 16403, 4925, 6211, 28093, 5981, 6675, 8872, 25078, 2970, 10611, 10523, 7080, 18037, 8746, 3683, 8067, 8103, 6646, 21197, 10727, 10014, 7801, 16007, 17402, 6192, 14769, 4910, 10335, 9491, 13473, 14704, 7579, 2766, 4302, 9117, 3889, 6385, 18302, 3369, 25409, 10796, 10990, 17908, 12247, 7552, 15861, 20943, 8966, 4474, 17186, 8200, 12336, 12361, 10347, 6154, 28696, 6655, 12653, 5526, 4364, 6496, 28144, 8244, 5034, 7774, 20806, 17718, 6135, 7141, 12440, 27441, 7759, 7160, 4331, 4812, 7698, 5467, 26262, 6824, 20662, 4381, 7477, 4201, 10892, 11938, 15002, 14211, 7968, 13210, 22073, 13882, 14550, 9138, 11892, 7997, 8162, 2815, 7263, 3958, 8290, 13051, 6867, 8168, 9986, 4423, 8803, 5859, 5574, 6575, 16115, 15316, 4104, 4996, 6894, 10623, 7621, 9407, 9279, 5566, 5105, 11433, 10245, 11641, 22769, 21449, 6892, 16716, 11100, 5277, 16703, 22935, 12353, 3821, 5654, 2481, 6685, 8182, 4801, 7200, 16846, 26835, 12314, 5473, 6138, 9292, 20856, 4752, 8703, 6399, 25659, 8505, 8780, 14685, 17465, 5898, 10058, 19117, 15698, 15141, 16778, 9034, 16743, 10200, 6870, 18667, 6118, 10063, 14418, 6545, 6568, 5319, 7810, 4804, 7899, 11834, 7719, 13687, 17235, 9776, 11266, 2805, 14130, 9829, 12151, 5567, 12450, 19137, 22931, 17245, 15723, 5484, 6073, 15210, 28378, 7777, 3624, 20679, 5240, 4645, 7483, 4845, 20415, 6000, 9089, 15928, 7534, 13609, 9259, 15384, 4120, 6274, 5627, 5289, 16614, 14415, 9875, 7073, 13833, 16571, 12246, 8206, 3955, 3862, 25125, 9297, 9031, 5394, 26018, 17306, 10699, 15910, 13770, 24004, 20687, 5283, 17770, 9480, 25634, 10458, 3377, 6259, 22084, 5882, 12402, 18583, 11667, 12126, 11322, 12348, 15813, 26236, 22975, 16932, 5052, 21122, 7811, 15502, 6236, 14644, 15772, 28389, 8859, 5722, 4239, 24857, 4688, 4211, 5038, 11701, 3440, 13017, 12707, 11749, 3242, 5739, 14113, 13121, 5867, 4808, 28774, 9963, 7340, 11156, 14976, 8355, 7169, 7752, 10817, 8186, 20315, 26876, 7616, 6818, 6630, 11142, 6822, 8465, 8714, 20350, 6143, 7956, 9363, 18259, 9518, 6512, 11528, 16149, 16356, 12495, 16066, 7113, 21969, 2870, 5891, 6885, 5254, 9823, 9350, 7022, 8217, 2952, 27312, 19621, 6080, 5199, 8367, 4561, 6872, 14668, 14639, 3453, 13704, 10710, 5771, 5315, 2997, 29048, 11431, 1086, 8268, 6748, 26029, 21435, 8314, 28578, 9628, 11518, 24171, 11001, 4779, 3118, 7733, 3106, 16165, 6170, 9556, 29658, 9098, 9211, 11075, 7295, 2704, 7223, 3321, 10259, 13320, 15077, 5091, 17928, 5370, 19102, 8906, 23842, 5296, 4833, 12546, 15916, 10715, 8308, 9985, 7066, 11179, 6543, 8613, 26820, 5894, 6536, 16928, 12259, 10061, 6923, 10782, 5010, 6834, 6809, 10974, 8584, 8113, 7245, 8163, 14739, 8086, 14627, 4858, 8815, 18712, 12411, 10488, 7787, 16048, 6751, 9651, 5889, 4894, 19841, 10663, 20781, 11848, 11124, 11444, 10526, 19057, 22291, 21057, 8289, 17739, 12709, 9777, 8303, 15147, 10984, 4251, 7895, 17083, 6852, 11790, 4880, 10630, 7625, 9619, 8270, 5896, 16991, 12113, 21770, 26190, 4732, 14428, 5807, 14449, 10266, 4441, 12955, 7576, 5702, 10175, 2858, 24757, 13025, 3743, 12212, 15472, 23767, 19466, 15459, 6061, 5597, 6182, 10007, 4202, 5325, 11203, 4600, 10894, 8119, 10803, 17338, 6660, 14187, 7605, 5103, 9333, 10994, 4777, 3396, 19583, 15727, 12699, 3865, 15345, 4356, 24330, 14156, 20843, 10419, 5148, 6672, 8170, 29659, 10936, 14763, 28817, 4828, 5521, 3055, 25090, 11418, 13461, 6918, 15262, 8534, 7633, 4796, 3575, 5036, 8328, 5230, 13741, 16983, 4273, 12201, 11073, 6712, 10631, 13585, 9680, 3358, 4580, 4129, 8744, 18153, 5753, 10329, 16596, 12163, 8765, 8953, 7207, 6857, 20133, 6321, 5084, 19193, 4036, 11459, 4884, 12367, 8439, 8536, 14123, 18095, 3546, 9922, 7678, 6569, 27068, 24528, 4028, 23320, 5182, 10244, 2528, 10733, 7923, 14516, 19387, 5079, 14243, 9756, 9111, 6230, 7592, 3196, 12559, 8636, 3380, 8977, 23353, 23068, 29300, 7125, 7044, 9470, 17531, 9525, 17125, 10812, 4267, 13202, 11089, 10480, 6314, 14910, 5267, 5086, 9805, 20544, 28177, 18670, 12044, 10281, 8026, 7384, 6937, 12835, 24960, 3172, 3487, 17952, 3230, 7226, 5767, 28086, 12066, 13005, 9389, 5544, 6085, 6468, 14260, 4420, 12394, 10792, 4572, 7878, 11772, 8053, 26478, 6790, 5202, 25869, 12456, 3856, 6617, 5442, 7317, 25750, 10135, 9253, 6233, 29491, 14768, 9575, 7775, 13753, 4981, 5001, 5636, 9786, 7249, 6044, 10708, 12468, 24552, 8745, 11414, 8877, 16270, 26601, 12483, 28466, 28689, 29181, 3245, 19337, 15058, 18554, 21017, 12889, 8187, 7360, 20581, 4228, 13426, 8751, 29647, 5239, 17357, 19570, 19429, 11236, 6286, 11439, 3650, 12109, 8911, 21818, 7275, 10120, 3285, 10274, 9726, 19792, 22199, 3859, 24658, 26445, 22861, 11543, 8336, 6298, 4334, 8865, 3326, 10873, 5881, 7753, 7091, 4077, 6443, 13368, 5318, 23974, 21705, 9201, 11502, 18058, 17080, 21065, 26760, 3394, 7151, 16622, 22196, 9910, 3411, 15465, 9426, 3339, 18478, 4258, 12844, 12863, 12155, 15265, 7375, 11539, 11393, 4914, 6778, 7393, 20179, 17394, 13874, 7785, 11160, 5697, 6448, 9276, 21274, 3876, 9541, 9546, 12519, 4151, 4059, 18196, 10146, 14200, 9050, 6948, 14372, 10427, 16026, 16143, 11705, 25438, 16882, 24343, 15187, 10671, 6645, 7132, 3908, 13428, 8046, 5412, 14891, 4519, 4349, 9453, 14291, 22851, 18996, 10315, 13122, 20930, 29461, 5117, 5701, 8910, 8127, 11008, 14982, 9384, 4312, 4534, 4649, 6510, 20194, 11987, 13617, 9621, 12131, 12192, 4740, 19620, 14916, 4255, 10299, 21541, 17576, 15530, 28863, 8680, 16648, 12217, 9750, 22468, 24494, 7497, 7363, 5501, 6139, 16401, 13773, 5464, 17175, 15338, 5550, 20377, 4626, 10922, 17151, 7879, 11800, 9124, 21081, 7538, 8132, 8106, 3381, 5344, 6348, 3611, 15117, 7783, 13465, 6835, 3620, 21125, 11186, 19021, 12407, 20523, 26052, 15943, 8617, 12490, 8376, 8260, 6055, 6049, 13048, 7145, 9456, 6469, 5974, 3631, 7654, 27199, 9513, 25148, 20413, 10725, 15744, 25572, 3355, 7734, 17191, 18349, 6334, 15457, 7650, 24096, 14722, 3346, 26389, 15277, 6829, 23690, 3507, 11238, 7877, 10719, 11069, 20968, 11829, 7824, 3354, 14438, 20051, 10377, 3551, 9243, 3004, 7081, 4296, 11671, 12644, 10938, 19818, 6215, 20423, 23126, 4771, 13310, 5823, 8302, 17022, 22575, 4915, 25640, 5684, 19652, 19961, 5690, 15796, 11085, 14061, 23777, 4763, 5967, 3234, 5825, 10257, 12631, 14997, 18827, 8107, 9880, 3644, 14900, 12005, 7377, 6974, 4718, 18532, 4459, 11637, 14068, 7487, 13284, 8892, 8662, 15672, 8950, 19491, 24072, 9595, 6458, 11912, 20367, 6048, 8352, 16636, 7577, 26189, 4512, 6708, 12012, 5241, 25510, 3317, 6372, 6346, 3503, 10807, 11058, 21748, 8279, 9507, 18688, 4624, 7590, 25612, 10769, 21885, 7540, 19481, 16728, 11138, 12297, 10368, 13449, 19968, 9648, 12117, 8209, 6502, 9128, 19054, 7289, 17401, 11358, 11297, 4799, 4733, 11363, 18546, 26657, 4898, 13151, 11532, 28155, 13746, 12875, 14863, 12135, 4706, 3848, 3386, 9705, 20086, 4776, 4546, 17086, 8345, 12862, 7412, 6706, 7488, 7535, 7784, 10524, 21881, 24045, 6608, 15879, 11149, 6033, 7573, 16713, 5822, 10108, 11754, 12253, 18030, 12476, 9458, 15768, 10393, 12022, 10788, 9322, 11647, 10505, 9766, 10517, 19342, 10818, 22311, 8864, 3916, 15180, 24098, 22149, 25377, 9561, 4593, 5486, 17688, 22088, 11225, 24707, 3301, 9096, 13578, 15689, 24848, 8648, 21273, 15642, 5189, 5451, 9947, 9285, 5465, 5848, 29109, 12599, 21304, 17261, 25344, 12980, 9560, 5290, 8485, 10942, 3162, 26424, 15505, 5680, 9788, 10993, 6620, 8573, 4192, 14643, 21729, 6927, 8273, 27904, 5817, 4461, 3877, 8989, 9869, 7962, 4000, 3476, 10438, 20177, 9859, 10763, 19782, 18801, 9485, 4205, 15480, 12927, 8203, 27467, 5475, 13274, 5349, 5635, 19357, 15000, 4702, 5559, 10147, 13247, 14245, 8158, 16268, 5899, 9226, 13923, 13757, 19150, 8618, 7642, 13483, 16505, 9320, 12581, 3299, 12031, 10620, 19304, 3868, 10578, 13003, 16023, 15330, 19044, 28788, 4644, 8185, 11792, 7353, 6699, 26402, 6935, 3956, 11566, 27487, 5506, 4326, 10434, 12173, 5926, 7063, 21926, 10738, 3817, 26785, 15489, 16147, 10087, 12211, 13137, 10295, 14154, 17603, 13105, 22394, 22345, 23393, 19236, 11841, 16665, 7835, 5984, 11550, 8650, 20921, 5188, 22522, 18411, 25688, 13153, 6765, 12854, 3656, 5481, 8242, 8898, 6042, 16576, 12087, 13586, 12107, 3780, 7714, 3699, 7186, 9878, 6843, 16585, 12154, 8830, 15718, 7634, 5471, 6664, 6316, 4134, 5667, 16798, 9338, 15136, 10453, 3892, 6595, 13387, 15592, 5626, 3764, 6500, 15115, 3852, 20907, 25180, 28873, 8052, 20125, 5259, 14993, 26066, 8351, 16676, 6788, 7782, 8958, 6397, 7646, 27058, 20202, 8389, 5679, 26828, 14479, 11385, 6576, 9029, 9700, 19707, 17695, 1034, 13221, 6968, 22649, 18940, 16709, 28286, 6409, 6203, 5979, 14971, 7191, 6261, 10114, 8276, 6355, 6727, 18108, 19128, 9920, 23480, 5976, 3502, 29296, 11816, 18419, 24706, 7171, 16044, 12121, 11103, 11359, 10255, 13228, 24873, 22753, 14193, 14827, 28353, 6563, 9861, 3374, 10194, 24357, 9294, 14890, 3629, 27512, 8370, 9886, 16351, 14753, 8587, 9800, 21290, 8970, 4900, 3948, 7613, 24646, 4065, 5336, 27011, 8987, 4061, 4872, 10464, 9376, 10388, 6184, 14345, 6359, 11638, 11091, 8124, 3777, 14793, 15697, 22610, 12177, 10571, 18933, 21725, 5063, 8577, 12952, 7789, 7371, 23582, 11910, 23680, 16280, 23701, 14571, 5093, 20100, 7937, 6009, 20710, 5847, 28079, 15584, 15429, 14958, 11611, 4172, 15204, 4482, 4993, 6559, 6515, 6799, 14813, 15782, 23689, 13597, 3797, 6403, 21418, 8003, 14482, 7214, 8402, 11286, 4164, 12103, 11969, 11422, 25805, 17355, 29533, 4159, 11455, 25128, 14767, 17062, 12222, 23735, 16545, 20363, 8102, 18601, 7303, 7051, 8642, 5297, 11649, 4679, 19461, 8754, 21246, 16396, 7138, 17503, 11254, 5614, 8139, 12748, 9832, 10572, 12945, 9539, 13047, 9888, 21650, 10758, 7657, 8089, 6755, 6634, 10735, 19321, 5789, 17298, 17327, 4615, 5351, 12202, 7175, 15094, 14178, 18719, 5637, 29166, 11900, 12846, 7848, 8461, 4306, 8399, 7006, 4823, 7323, 7969, 6099, 5341, 8087, 14580, 8213, 10862, 14092, 8346, 27921, 15871, 9497, 11880, 11827, 8035, 9319, 6784, 11028, 6505, 5420, 3911, 16324, 19645, 9502, 9227, 25665, 18150, 5066, 19894, 6979, 11619, 16862, 19519, 13710, 27523, 25222, 9527, 19833, 7064, 15222, 15183, 8999, 10595, 2841, 17085, 10598, 4513, 10408, 11774, 7308, 6037, 9958, 10322, 5781, 10947, 8526, 19265, 10056, 12779, 21297, 7827, 9412, 13539, 13862, 3109, 17864, 9722, 9347, 8343, 14471, 5071, 9866, 11336, 13307, 9844, 6062, 11851, 11207, 26456, 7563, 4614, 7128, 15095, 9798, 23606, 9795, 10661, 12556, 16001, 5021, 18353, 3925, 26854, 4856, 23943, 22979, 7012, 5632, 7052, 9334, 11899, 12392, 6487, 24137, 8401, 14161, 4815, 8327, 21673, 7951, 8131, 9570, 4549, 4265, 18034, 7799, 10711, 6208, 7851, 10580, 15856, 6111, 11015, 5543, 19838, 8624, 7247, 11630, 11177, 19734, 12335, 5035, 8585, 13427, 5098, 26011, 9839, 15568, 27849, 13360, 10902, 9129, 12792, 13864, 6521, 11176, 8048, 12944, 8831, 14666, 25220, 22483, 20255, 9663, 4716, 5413, 10843, 12207, 18742, 9017, 7436, 9944, 9305, 21619, 5249, 10203, 4712, 10908, 5961, 17462, 15291, 13496, 21579, 11570, 24051, 11642, 7902, 18994, 9214, 14084, 9816, 12941, 29336, 15690, 4184, 8372, 12058, 15026, 8019, 5234, 8133, 21118, 7553, 14326, 26989, 7105, 7155, 13721, 12978, 16962, 11486, 5215, 6467, 4575, 5927, 3410, 6777, 14903, 7178, 16801, 23924, 8882, 15053, 27208, 8440, 7043, 15501, 4835, 5689, 8452, 13621, 6400, 18428, 5286, 26072, 23350, 5183, 8638, 7980, 7398, 7936, 13756, 15243, 5207, 4361, 6579, 17132, 4504, 18439, 8144, 8681, 6517, 10470, 7401, 28321, 5920, 22520, 23267, 13331, 16761, 5904, 12423, 6902, 5554, 24024, 10649, 5694, 13602, 8045, 10528, 14856, 5795, 16736, 19616, 8575, 6997, 21486, 8027, 16247, 10122, 28516, 7568, 3379, 6547, 19037, 8044, 24165, 14213, 11381, 16188, 17324, 15933, 5765, 12377, 11118, 11109, 11540, 18399, 9572, 11765, 9967, 12435, 12251, 14127, 4889, 4729, 13913, 13599, 29337, 6901, 15853, 8494, 12235, 8857, 7280, 29665, 5195, 3680, 3753, 14079, 16473, 12970, 6174, 17020, 8001, 25609, 10127, 5137, 19933, 22868, 24306, 5252, 19379, 14570, 10359, 13595, 4548, 20766, 7998, 6810, 10634, 8425, 5922, 5205, 6658, 11949, 4320, 12919, 17960, 6414, 6896, 6707, 9966, 18676, 29267, 23957, 4354, 12369, 10392, 12061, 8878, 13092, 18700, 23766, 29167, 6711, 21756, 9604, 10880, 10992, 9068, 14125, 3750, 5504, 27788, 4388, 6057, 19450, 11896, 3472, 20755, 25710, 10048, 10518, 5222, 22503, 13258, 4689, 8477, 23651, 5070, 4901, 6731, 4980, 21006, 5998, 4314, 18143, 10429, 29098, 14108, 9897, 4899, 4912, 12461, 6159, 21369, 8752, 6868, 17193, 2790, 9009, 11371, 12430, 8912, 16861, 21412, 5069, 14854, 16950, 5946, 19901, 16853, 11607, 25850, 13697, 8377, 8432, 9380, 4124, 1036, 13007, 11115, 14025, 18249, 16584, 9827, 8640, 10131, 5076, 26226, 9578, 21271, 16774, 18752, 14615, 7458, 5477, 7329, 21454, 12274, 9935, 23621, 10617, 7415, 25238, 6951, 9359, 23761, 18796, 11255, 19085, 13474, 17287, 15836, 6830, 17666, 8152, 23911, 7114, 8964, 7728, 16253, 11226, 14930, 8795, 10445, 12606, 10917, 17901, 3100, 13271, 8184, 28530, 24879, 8394, 25185, 9328, 3547, 18859, 5165, 21031, 14181, 18300, 6465, 8092, 10742, 6715, 14408, 6196, 14081, 22420, 6295, 24728, 6243, 11907, 19354, 16220, 10915, 18938, 8286, 9620, 23758, 15424, 6216, 18452, 7392, 9228, 16530, 19022, 17060, 21713, 21161, 10811, 4110, 17760, 9274, 17421, 19829, 16838, 27631, 27710, 10077, 13908, 10095, 4707, 14595, 9093, 5343, 6849, 10017, 25937, 6953, 3474, 12408, 14638, 24666, 13845, 4197, 3323, 23091, 5153, 13135, 18949, 18157, 6052, 5223, 13747, 14430, 11578, 18002, 5288, 23996, 15380, 14847, 6907, 20791, 13820, 5607, 8147, 11635, 10296, 18228, 16952, 6587, 8506, 13590, 14617, 9121, 9420, 14955, 22307, 7713, 18595, 10369, 11909, 6939, 22254, 26462, 4170, 14088, 18106, 17048, 4754, 4603, 5390, 6108, 23115, 12086, 13143, 14046, 6300, 4478, 7069, 14117, 26419, 6737, 27144, 22932, 4623, 8287, 9968, 10162, 26736, 5430, 19586, 13869, 15621, 8205, 9252, 4869, 9127, 7179, 29110, 18162, 13035, 5132, 9792, 7228, 17024, 10091, 3987, 22462, 10270, 5058, 5032, 8252, 15046, 6811, 15012, 3950, 6530, 7972, 12455, 9991, 10837, 5940, 4527, 11372, 5019, 22259, 28101, 9245, 6106, 6723, 4422, 11398, 10320, 3705, 4715, 12093, 12685, 4922, 11918, 8571, 9807, 15665, 12718, 18907, 12725, 11933, 29358, 8832, 15985, 7504, 14257, 14844, 9072, 13095, 3864, 15174, 26427, 4345, 5564, 8694, 16997, 21956, 9445, 8220, 22407, 15453, 19884, 28697, 7035, 17736, 4826, 11519, 5042, 11314, 12125, 12682, 26640, 5253, 5673, 15678, 5908, 7243, 6813, 20299, 7876, 12320, 6804, 3850, 24226, 12971, 13791, 22449, 10557, 14404, 15074, 19400, 26629, 7780, 11709, 25531, 11252, 9691, 11479, 21898, 25003, 20421, 18468, 21823, 6696, 15417, 7562, 28929, 12717, 5634, 11036, 14945, 16868, 7071, 23352, 7525, 9147, 13509, 20418, 25536, 5455, 28483, 6989, 9199, 9693, 12679, 7574, 19638, 15072, 4386, 15651, 22907, 14469, 11377, 12432, 15869, 15578, 12342, 12516, 5421, 16221, 5201, 18972, 8623, 18243, 7781, 27094, 23833, 13290, 13806, 8783, 14085, 24587, 8457, 13720, 7495, 19577, 12099, 4166, 10954, 16513, 8558, 5602, 18738, 21382, 3664, 7109, 28332, 8280, 6354, 10845, 7732, 9173, 6577, 9351, 10355, 24353, 15042, 11873, 26457, 10362, 23130, 9904, 18699, 19350, 5045, 18724, 6246, 23746, 5696, 8295, 20130, 12073, 27480, 25845, 5141, 19332, 7007, 27179, 6636, 6880, 11396, 27233, 22480, 13262, 14987, 8598, 15901, 9753, 15231, 3851, 13988, 10851, 21376, 20362, 24881, 28828, 27174, 17258, 15270, 17264, 8776, 20398, 13932, 12742, 16262, 9164, 24188, 8216, 8543, 16906, 24840, 17225, 13138, 14787, 8789, 11990, 12054, 6734, 4099, 24604, 14155, 12913, 5299, 8775, 19531, 10179, 9109, 18351, 9964, 9372, 10385, 13296, 9365, 5879, 10939, 10740, 11045, 13986, 19771, 18628, 16930, 27594, 5996, 11362, 7961, 29648, 13669, 18081, 14396, 9723, 7197, 16306, 6242, 22327, 7694, 16784, 14144, 8101, 7284, 11287, 20283, 8181, 7690, 7459, 8460, 19969, 16475, 12832, 15460, 16150, 29449, 21312, 25540, 5163, 24605, 11240, 9236, 11768, 23977, 18064, 8423, 19211, 26210, 16542, 11215, 12263, 13460, 18086, 13900, 22731, 10956, 28319, 26322, 10152, 27634, 9186, 17183, 13382, 22681, 6474, 4477, 22863, 11692, 10346, 17376, 4698, 10382, 7686, 17041, 24442, 11813, 20145, 13587, 13530, 23067, 4116, 28935, 14495, 17841, 6613, 3878, 7407, 13340, 23082, 5077, 12153, 13229, 7665, 4759, 11916, 6436, 6816, 14684, 21262, 4640, 13711, 21102, 21497, 9055, 14606, 6183, 15238, 6732, 12630, 6513, 25814, 23025, 7566, 9797, 13058, 8024, 5444, 14840, 7670, 20445, 22287, 11922, 25862, 5192, 19863, 22025, 5827, 8274, 13420, 16834, 19565, 5893, 12959, 20958, 9100, 27321, 17332, 8393, 8691, 18404, 11035, 7528, 7370, 22816, 13808, 11048, 2977, 7740, 20962, 6752, 5176, 5762, 18394, 15890, 5811, 5529, 20563, 12668, 13767, 9354, 14816, 8796, 18444, 4444, 7246, 6686, 12771, 11742, 10201, 23969, 8605, 8651, 6222, 11488, 22828, 25628, 8293, 11806, 25172, 9242, 8091, 22869, 9457, 14949, 24434, 16754, 10859, 20196, 19629, 6153, 3744, 4850, 11034, 8918, 5118, 6977, 7029, 11129, 7072, 24594, 13045, 29566, 7164, 23310, 11952, 10550, 8138, 11092, 27046, 4701, 10059, 7015, 28767, 11219, 14680, 8710, 7411, 3837, 8665, 28556, 12681, 10457, 12016, 14316, 6787, 7556, 16462, 5917, 11678, 9250, 15307, 7510, 11146, 10838, 8258, 15644, 13777, 5226, 11310, 26396, 6003, 10472, 15295, 5357, 9692, 12328, 13608, 27781, 14141, 26147, 12064, 8002, 28290, 23632, 27141, 5932, 5154, 17457, 14494, 20151, 10451, 21415, 14045, 16062, 18275, 8952, 5913, 10561, 21901, 7395, 23827, 10276, 6878, 17044, 7452, 24422, 17417, 20919, 5712, 5595, 11639, 22802, 6383, 11327, 12573, 12332, 7033, 18794, 17819, 9703, 11244, 19023, 4501, 16546, 20303, 8446, 20382, 10552, 5321, 23151, 10821, 24734, 11341, 21893, 10418, 14774, 14676, 15973, 12926, 5424, 8028, 3814, 4421, 8430, 18785, 5172, 26319, 16809, 21325, 7103, 9120, 22022, 14802, 21011, 14499, 13171, 6278, 23715, 28946, 7453, 19134, 5972, 17198, 29180, 10442, 19389, 21443, 10673, 18674, 8211, 20104, 17447, 3724, 9174, 10052, 29486, 5839, 5120, 11454, 15173, 14726, 3982, 26735, 4727, 14210, 11757, 14168, 25742, 28727, 11202, 12227, 21318, 27902, 13043, 29563, 9759, 20858, 11329, 6344, 5964, 27218, 3717, 7999, 16367, 15514, 23624, 8704, 4300, 9837, 10897, 6520, 18376, 17987, 4938, 7443, 9975, 8677, 8797, 4006, 14119, 11974, 28540, 16804, 7889, 15620, 12382, 14354, 4836, 15373, 6801, 10264, 28896, 18413, 9834, 26557, 10448, 18454, 5625, 23032, 18380, 16677, 6440, 5962, 7520, 8782, 7979, 10585, 10350, 10748, 5363, 6388, 6101, 13462, 11823, 23238, 7373, 10473, 10053, 24174, 19870, 12883, 7506, 9508, 26892, 22035, 6171, 23187, 17669, 5480, 13436, 15212, 5270, 7301, 12732, 16550, 21202, 9654, 26187, 6946, 18012, 7293, 11227, 16548, 3735, 6260, 10140, 4463, 8885, 10745, 11157, 11877, 8012, 5312, 23743, 15196, 5503, 7489, 14037, 16922, 6775, 12656, 6071, 27598, 27531, 9982, 12567, 14173, 12104, 24635, 7268, 9615, 15955, 22393, 8259, 18939, 5935, 6624, 18223, 16570, 10176, 9207, 24951, 10029, 20971, 13729, 16339, 13964, 18234, 12963, 10754, 27881, 27099, 11658, 4917, 14067, 12672, 18548, 9324, 11259, 17464, 20246, 15671, 10756, 28115, 10055, 13606, 7804, 24087, 19041, 5968, 7995, 13178, 16010, 7658, 18279, 26192, 13338, 22278, 8298, 13032, 12032, 14048, 5364, 8851, 19779, 9131, 10609, 7304, 10540, 20203, 7217, 17879, 21252, 14397, 5274, 8025, 6943, 12188, 12038, 21857, 11137, 9450, 9283, 16958, 14623, 20238, 3912, 24702, 24648, 4051, 4565, 20296, 23971, 23828, 25581, 18318, 5355, 5734, 16186, 11915, 6934, 11140, 6122, 9631, 12482, 20760, 6917, 29584, 13622, 15017, 14860, 20502, 13610, 12514, 25482, 10380, 11424, 16189, 16511, 16575, 7108, 8164, 17585, 3890, 5905, 6700, 7090, 10986, 13582, 9681, 14946, 20559, 12194, 29068, 8240, 7346, 12157, 24237, 27532, 17159, 5663, 16053, 12458, 11581, 23247, 14877, 12850, 8228, 11220, 15009, 4467, 9552, 19852, 13103, 14505, 9877, 17295, 5268, 16024, 14231, 26942, 5921, 11268, 22994, 28312, 5546, 25523, 28744, 5613, 18600, 21229, 9818, 21166, 8550, 24654, 12457, 15011, 4670, 9559, 14406, 6697, 15875, 22616, 10945, 7729, 6733, 19915, 5264, 9403, 8447, 14670, 15157, 7645, 20176, 7271, 9870, 25874, 10043, 9709, 8143, 22529, 11246, 12462, 7593, 9992, 11305, 25473, 4789, 6814, 14599, 5937, 6252, 16127, 6931, 4499, 17533, 9270, 22591, 16330, 20247, 13318, 4428, 19839, 6371, 5808, 11126, 2868, 9286, 8930, 12105, 18518, 8760, 9687, 23773, 23499, 7119, 18613, 8899, 18903, 16994, 13195, 13343, 14490, 3804, 17985, 22827, 9260, 17220, 26980, 11603, 5623, 25538, 10218, 29441, 9210, 9521, 8413, 14422, 22028, 14748, 5493, 12589, 3525, 24129, 8404, 24915, 26773, 22441, 23958, 15455, 10357, 6789, 4042, 6239, 8769, 8322, 7244, 20392, 5405, 19686, 15559, 14332, 21647, 15756, 6378, 12693, 6925, 26778, 10367, 7891, 19392, 24887, 7344, 19763, 8333, 9582, 14621, 6574, 4532, 18798, 22974, 13088, 19741, 9760, 11718, 6218, 9449, 12893, 14692, 23694, 7215, 6349, 14417, 19892, 20141, 23194, 5706, 16852, 5671, 28259, 13356, 4238, 20346, 22110, 15148, 11088, 25604, 3195, 7720, 13275, 11274, 11826, 9224, 16620, 8130, 20746, 10324, 21084, 20817, 4537, 8684, 14140, 13492, 12214, 11753, 14175, 19882, 10973, 12501, 17180, 4222, 8235, 11229, 20092, 16019, 12441, 11025, 9064, 20842, 7193, 9337, 7786, 9383, 10072, 7859, 18866, 23233, 11127, 19380, 4780, 12269, 11084, 19478, 10694, 9770, 8747, 15396, 23692, 28735, 9012, 23566, 12958, 12904, 5203, 6674, 17953, 10899, 18119, 24140, 22715, 6284, 8629, 7206, 18426, 16173, 5161, 5745, 24532, 10437, 8690, 11524, 27327, 19421, 7227, 12942, 3874, 11625, 4928, 15920, 16790, 20740, 21230, 11788, 6407, 4902, 19737, 10889, 5523, 28517, 10622, 3845, 13819, 13974, 27595, 8348, 12346, 22817, 28625, 6815, 3682, 9666, 19912, 9170, 20900, 6898, 13643, 27790, 4186, 14442, 11354, 8920, 9273, 3882, 8644, 25548, 5487, 13225, 19718, 29398, 22482, 15519, 3994, 14879, 21833, 17250, 10051, 4290, 16629, 29201, 6893, 25545, 24774, 4557, 23105, 8479, 10695, 19070, 9669, 13458, 5212, 9612, 5206, 12356, 11420, 6985, 25972, 5805, 26034, 10026, 20310, 10726, 12950, 7322, 8883, 15509, 23402, 11584, 15982, 8971, 12096, 21557, 11660, 7481, 17564, 9462, 13555, 25426, 15389, 4930, 8932, 5143, 16420, 18385, 21100, 4802, 3918, 14883, 27869, 24274, 9962, 20487, 18392, 9414, 20136, 18237, 16234, 16927, 12962, 6628, 5758, 2768, 11419, 7394, 7162, 26822, 17725, 13304, 12228, 12969, 5049, 28931, 8190, 16051, 7376, 9602, 16327, 10581, 28751, 28251, 18087, 23165, 8576, 14932, 20800, 26836, 8478, 6802, 21357, 20632, 8772, 11981, 5131, 25284, 11239, 4908, 10924, 17188, 9715, 20877, 3873, 8874, 7893, 10394, 6031, 18924, 15379, 18574, 13239, 10736, 27295, 20626, 14745, 4074, 24625, 27843, 9052, 7955, 6881, 8619, 14258, 10076, 20482, 10632, 6432, 11079, 10925, 11210, 16605, 14305, 6201, 19920, 9812, 20881, 6461, 20323, 15010, 16896, 28756, 8020, 6996, 9650, 13285, 9936, 13156, 6794, 7294, 15191, 8993, 23458, 10223, 6380, 16081, 14908, 2737, 16098, 20672, 8403, 15386, 15894, 24565, 10636, 4864, 16454, 25860, 8353, 7472, 8563, 12613, 28940, 26191, 25517, 7297, 13330, 24110, 11778, 15902, 23488, 16030, 8470, 6280, 11675, 24519, 8275, 10965, 24932, 19404, 5854, 8501, 7357, 17820, 20047, 13859, 22752, 25276, 5208, 16528, 17854, 20287, 13063, 19653, 16700, 7673, 29221, 9115, 5832, 12636, 24829, 6817, 14873, 13207, 20119, 17170, 23818, 13701, 26224, 23806, 12689, 4470, 5232, 7009, 7817, 28105, 10910, 21431, 5152, 9189, 8998, 18861, 5934, 9084, 18288, 8419, 22963, 14172, 10927, 23663, 21472, 26097, 17003, 16206, 17492, 17427, 5538, 27024, 23329, 7282, 24310, 7286, 6957, 20598, 18418, 16315, 8767, 14012, 12386, 9212, 9197, 10593, 18857, 28712, 17201, 13014, 24903, 4913, 18139, 15589, 5855, 15942, 14531, 9023, 20403, 9996, 20886, 14785, 5469, 13265, 28345, 14230, 14082, 9794, 14378, 11691, 4085, 5792, 27930, 15403, 8071, 15556, 20393, 14757, 9062, 16166, 6945, 23217, 13726, 26754, 14267, 20639, 21392, 6014, 8839, 4723, 8361, 11373, 25464, 5863, 29453, 18812, 13029, 8065, 6756, 5842, 20643, 6644, 6297, 16635, 5496, 11153, 12991, 11501, 16989, 29107, 5407, 6285, 6831, 14244, 29125, 20925, 11717, 9954, 9516, 20964, 18401, 8556, 6566, 5819, 11563, 11452, 20062, 6025, 8482, 21868, 17212, 4052, 9230, 7565, 11335, 21371, 10905, 15485, 16383, 23518, 7585, 7490, 18955, 5659, 21972, 12827, 18901, 10875, 15770, 15194, 23144, 28591, 11901, 6460, 28315, 9043, 26641, 12594, 19909, 9339, 18653, 20917, 19009, 17816, 7474, 6035, 8072, 26004, 8897, 9950, 8943, 28253, 4510, 15529, 17668, 5580, 8441, 15841, 18370, 25204, 9907, 10744, 15849, 4068, 17088, 8210, 24799, 4944, 21208, 13148, 17310, 13120, 22423, 13734, 12226, 4560, 27020, 13445, 4429, 6879, 3651, 11042, 8269, 4829, 7885, 11914, 17635, 7283, 22592, 13451, 16389, 9532, 6472, 10567, 13700, 5735, 17702, 19198, 21032, 12922, 17637, 26734, 4035, 6398, 10177, 7208, 8959, 16295, 26563, 17047, 5502, 12271, 5619, 12564, 15258, 17620, 13169, 6296, 20470, 6703, 16359, 9223, 5599, 6425, 21792, 8763, 13385, 24203, 11196, 7925, 9291, 11955, 6648, 14970, 5952, 16689, 20738, 28933, 15288, 22643, 12739, 21569, 9925, 24905, 14388, 8503, 9918, 8510, 7161, 5708, 4079, 7567, 28126, 10890, 22857, 7409, 18951, 10560, 27304, 11967, 11942, 17190, 16969, 10111, 14773, 14182, 5736, 15833, 13352, 19976, 22779, 4577, 17865, 21391, 14967, 16122, 17846, 17528, 26354, 12014, 20219, 6231, 13735, 24170, 12881, 17874, 4154, 20207, 18384, 24054, 15980, 16185, 5542, 6981, 17446, 12115, 22203, 6018, 9416, 5978, 23235, 6582, 7950, 20427, 7750, 11529, 26718, 17629, 16231, 8218, 15303, 25746, 23879, 10159, 14303, 23804, 9370, 9891, 16054, 15557, 4409, 16200, 7603, 3895, 24081, 22010, 27694, 9771, 7272, 4333, 23088, 6991, 3838, 6504, 10797, 8300, 8357, 5853, 19934, 4479, 20828, 16300, 3881, 25229, 3427, 25918, 11198, 25300, 13918, 17491, 13279, 10603, 5191, 23150, 19498, 26458, 8706, 6840, 16899, 20528, 18914, 7652, 18634, 14010, 9763, 12072, 11094, 9747, 4692, 26837, 9487, 13272, 29476, 3583, 11681, 9222, 18639, 4096, 17387, 10964, 16016, 12385, 9746, 12954, 25423, 3854, 9843, 7422, 4291, 7248, 26855, 4508, 10693, 12176, 20569, 11214, 21573, 5327, 22017, 18215, 20159, 8846, 10181, 11014, 13232, 14771, 22083, 14985, 18291, 24473, 19624, 12057, 22187, 12067, 25258, 6418, 12088, 11552, 6158, 4963, 20437, 20983, 18540, 6012, 10957, 11787, 10687, 6340, 21360, 13930, 6791, 12313, 3249, 21144, 5687, 11902, 23325, 15653, 6930, 25543, 18429, 12902, 10669, 11991, 23442, 17196, 6471, 25456, 10098, 20143, 14556, 8923, 17070, 13526, 13187, 17379, 22886, 8178, 19676, 12418, 16923, 6212, 13931, 6492, 18164, 10747, 25957, 24156, 4401, 22275, 13237, 28549, 15337, 15821, 9001, 14054, 6549, 11106, 7130, 10449, 11055, 8251, 9203, 6891, 6405, 10810, 19796, 14300, 22667, 18678, 14533, 11281, 11853, 21490, 13266, 4375, 15637, 5000, 8904, 6369, 29324, 12538, 11216, 18489, 10513, 17584, 24514, 23048, 21399, 11735, 25503, 7475, 12916, 19548, 27469, 7008, 8418, 12642, 29489, 8946, 18287, 10785, 4731, 14658, 21605, 15436, 26489, 10652, 17368, 12508, 14078, 4452, 16161, 29443, 13680, 23259, 15532, 8949, 19222, 23416, 12139, 15121, 12172, 19301, 17917, 7319, 12319, 4528, 15166, 8756, 7537, 6730, 9025, 7500, 19345, 6850, 20732, 27325, 10746, 28428, 10213, 6538, 10806, 9373, 20483, 4559, 26268, 9517, 16264, 24213, 7587, 10577, 7354, 5565, 14080, 5624, 12225, 20984, 23893, 10238, 11356, 11339, 16593, 9514, 5888, 14336, 15201, 16556, 14413, 17174, 10371, 16910, 11101, 15885, 13692, 14853, 18879, 7203, 17768, 17698, 15286, 3999, 11223, 22231, 9511, 9139, 3758, 16872, 5652, 14734, 15751, 13857, 9748, 25016, 15004, 9215, 6796, 12666, 21677, 9849, 6654, 28207, 27776, 11802, 21906, 13958, 22524, 21531, 15298, 9026, 12368, 8561, 9789, 12921, 8847, 12617, 7425, 8540, 12821, 9915, 16259, 20272, 11012, 15356, 13297, 13883, 13960, 8057, 14764, 7102, 19536, 20265, 25705, 13528, 12138, 15945, 15899, 6941, 20357, 6956, 5417, 12560, 25808, 11875, 12053, 9790, 16214, 13571, 15170, 18759, 29264, 17856, 6343, 26426, 12494, 17793, 13807, 5782, 6842, 10189, 14800, 11698, 18257, 26803, 18140, 6680, 9424, 13596, 15385, 7636, 10242, 8659, 10094, 20511, 12283, 28819, 6437, 22276, 16819, 7115, 21053, 8581, 17696, 13412, 14614, 8633, 17470, 19501, 4554, 17409, 9185, 25403, 14047, 13668, 4657, 14391, 5181, 17932, 14227, 17829, 21368, 22038, 5892, 15034, 19613, 13039, 12697, 4918, 11417, 12381, 9589, 7467, 17160, 22747, 17422, 5408, 12981, 14788, 10338, 14798, 19646, 9326, 13685, 23301, 14386, 9313, 16886, 5965, 8546, 10193, 7819, 19888, 16803, 7676, 7797, 17178, 8484, 10188, 6676, 16029, 15558, 4370, 7314, 19671, 6430, 6702, 15873, 28991, 26264, 17442, 5615, 12762, 15359, 23198, 28518, 16616, 7531, 7662, 16782, 26794, 12439, 27962, 8798, 28637, 12550, 20214, 26976, 9045, 28632, 5561, 9630, 5479, 8495, 7984, 9308, 17026, 14761, 19394, 11158, 18170, 8567, 20060, 15131, 9179, 13907, 15695, 23285, 14506, 18471, 14066, 21564, 12502, 5784, 24871, 14721, 8687, 8660, 11898, 15929, 22698, 7410, 11423, 14678, 5522, 22208, 18932, 10109, 8385, 6560, 21639, 13627, 12051, 16776, 23851, 11473, 11131, 12261, 5557, 6908, 9614, 7850, 29514, 8412, 6659, 16325, 13091, 28501, 6054, 11468, 14801, 26287, 29431, 10900, 10901, 27211, 4976, 11799, 17367, 24388, 6619, 21461, 5639, 9990, 24628, 17926, 22678, 8055, 13139, 25117, 29535, 11627, 19220, 12641, 23370, 27102, 11957, 6294, 22574, 4585, 22104, 19425, 11072, 16710, 16912, 12722, 8842, 8637, 19241, 13288, 26455, 17632, 12265, 11997, 10365, 21752, 25283, 20647, 9154, 4787, 13765, 8058, 8771, 25394, 8821, 13950, 12610, 4612, 8297, 24014, 29333, 7800, 9020, 16377, 10498, 27703, 20560, 21604, 15351, 11669, 23604, 28749, 27711, 8069, 15764, 8264, 27009, 5006, 13355, 6713, 9815, 10234, 12798, 12363, 14223, 22286, 13618, 15410, 23057, 8996, 28256, 14677, 20155, 7212, 9355, 11306, 16257, 8075, 11375, 18250, 10486, 15660, 24026, 22160, 15500, 16666, 3755, 11624, 5803, 3757, 8406, 10137, 17847, 17748, 25730, 19581, 12609, 15970, 19172, 9864, 10060, 28120, 19982, 27109, 9515, 19627, 14674, 24556, 11586, 16889, 18061, 25940, 7121, 14746, 9745, 10562, 28716, 24000, 4704, 14732, 12232, 8628, 14031, 6532, 20978, 10988, 23722, 7684, 20380, 7663, 12330, 20717, 6642, 28926, 27413, 14780, 16582, 10592, 18720, 6422, 16457, 10647, 6361, 26404, 11961, 20317, 15547, 16941, 21575, 25108, 23835, 22432, 19314, 8568, 15161, 9605, 7596, 13344, 8480, 10866, 14432, 21620, 9049, 16451, 13384, 16373, 17259, 20481, 19666, 11366, 15327, 8645, 9112, 3398, 20053, 7229, 16102, 6554, 19714, 19234, 16095, 22629, 10491, 20715, 15779, 29215, 13730, 18240, 12020, 15897, 6002, 8871, 12321, 9266, 10028, 5108, 13943, 15113, 27987, 4750, 15850, 10399, 7754, 15005, 17222, 9509, 26394, 10287, 7156, 6704, 11352, 9731, 10341, 6341, 4437, 23801, 6701, 13990, 13260, 5175, 8175, 11536, 9510, 16476, 19506, 21505, 29361, 16839, 25339, 29206, 12839, 13945, 5074, 13024, 14724, 20504, 12910, 22619, 28848, 25279, 21210, 21267, 9814, 19169, 7501, 15007, 16734, 29037, 9469, 7419, 28600, 6641, 4529, 9419, 8811, 22173, 15975, 27989, 11504, 26299, 11960, 8307, 6808, 6119, 8791, 26859, 5885, 12735, 12362, 15458, 28223, 6846, 13691, 15877, 10125, 19647, 15407, 22594, 10823, 7847, 8824, 20904, 17370, 9102, 8562, 27589, 22381, 6518, 10465, 21397, 4778, 8384, 20390, 17944, 13170, 4831, 16471, 16660, 7560, 9882, 10822, 11921, 20554, 24088, 21754, 10436, 15358, 6886, 15478, 5348, 14952, 10816, 9366, 4616, 10996, 14280, 7989, 5046, 8736, 10643, 18979, 3250, 24458, 10280, 14437, 19716, 14710, 4271, 10286, 20688, 23056, 19258, 25468, 21867, 16489, 14695, 14832, 10502, 15139, 13535, 10484, 19820, 19701, 7288, 14451, 8671, 14972, 17014, 15001, 9097, 27364, 18412, 18767, 12133, 4878, 9028, 27424, 6684, 3646, 9021, 14731, 23208, 20591, 12565, 11730, 10967, 15087, 6124, 25123, 13852, 19457, 10039, 7365, 6128, 5447, 7154, 5878, 22641, 16612, 11334, 7933, 25476, 8924, 12375, 6374, 15088, 23410, 21981, 12079, 23278, 13373, 7413, 13212, 16350, 8590, 12759, 23461, 16381, 17624, 11476, 8034, 11380, 10358, 13390, 5912, 16125, 4347, 14107, 13499, 9657, 14962, 14784, 10105, 25974, 7855, 4669, 11926, 9971, 27734, 13891, 9504, 8515, 10431, 10777, 8735, 26698, 18491, 7050, 8622, 18484, 25897, 9438, 19788, 20499, 16118, 15631, 20253, 13097, 12811, 7571, 6104, 17683, 11436, 11923, 16305, 22201, 17607, 4457, 6637, 27381, 21879, 6890, 10605, 9075, 7112, 11197, 19803, 18701, 9071, 23850, 10599, 12487, 11003, 5150, 10425, 7059, 22264, 5231, 7010, 23395, 13639, 8603, 14263, 7499, 6424, 12781, 4746, 24095, 8837, 15213, 12906, 22144, 12366, 17469, 9126, 7348, 11301, 10173, 16103, 15735, 12174, 14762, 4188, 15471, 10018, 16446, 18624, 15924, 5600, 26046, 9662, 19242, 5124, 10023, 20637, 16459, 8589, 15893, 10886, 5499, 27019, 25496, 8632, 10951, 22132, 14183, 20656, 5985, 27814, 12977, 8363, 12510, 23348, 27404, 5531, 17255, 12640, 3219, 27571, 5569, 19151, 9374, 25107, 12588, 13495, 7041, 6598, 25947, 22134, 19136, 13843, 9451, 28507, 10205, 14812, 6750, 7575, 15995, 11604, 16452, 26378, 15149, 9761, 12148, 21445, 9107, 3922, 10759, 6394, 10655, 7738, 18015, 13644, 4625, 8388, 10670, 8464, 18960, 26110, 28024, 6600, 5720, 10638, 9156, 12996, 16202, 21012, 10668, 8766, 9105, 14279, 7230, 17738, 12339, 9678, 9196, 13520, 12333, 16392, 16409, 11344, 14747, 15826, 26204, 7983, 6050, 15703, 9711, 10285, 18163, 18777, 15986, 13494, 13302, 26988, 22117, 10959, 24481, 15918, 18175, 14528, 11614, 5389, 19948, 23284, 6241, 9945, 9299, 12350, 24842, 23557, 22458, 18916, 10353, 14895, 16293, 15937, 7924, 6449, 9269, 22365, 14383, 15991, 17844, 10460, 12145, 8604, 27247, 6248, 12873, 20090, 22936, 6771, 18697, 6688, 13215, 19170, 14116, 5261, 11973, 9738, 28580, 7958, 22434, 11105, 9478, 9647, 4791, 20383, 16902, 13027, 27171, 8042, 14486, 4112, 28154, 14893, 11432, 13213, 17880, 7910, 9506, 10401, 3101, 25269, 16134, 15349, 17365, 22981, 8005, 7465, 5146, 14320, 23572, 10172, 28141, 12075, 15312, 13130, 8548, 26221, 10195, 20536, 15872, 16990, 14989, 5513, 14735, 23763, 18995, 10165, 10791, 6725, 21979, 6456, 13375, 12030, 13313, 11932, 13921, 13068, 28479, 10071, 14162, 24284, 4266, 6841, 9673, 7305, 5517, 18041, 18539, 8277, 13008, 13782, 10537, 16578, 14071, 7746, 9498, 8514, 7530, 20950, 12908, 9774, 19199, 13768, 28550, 6027, 18513, 15774, 25509, 11852, 5031, 14087, 14988, 27723, 27345, 21378, 17703, 19465, 10904, 15593, 26709, 6668, 8084, 12607, 10404, 10564, 21871, 9489, 9257, 9396, 13203, 17881, 18708, 7345, 7862, 10153, 9022, 13625, 8730, 7731, 16286, 25070, 8768, 10529, 11173, 27528, 11651, 21646, 15399, 4516, 25037, 10345, 17405, 9599, 25209, 15069, 12477, 16840, 16621, 10532, 25428, 8661, 21416, 23274, 4543, 21978, 8544, 20684, 23780, 14611, 8309, 17007, 5954, 11374, 17010, 18743, 21456, 8177, 7793, 6130, 17967, 14709, 17073, 25381, 3761, 11989, 14842, 25100, 16258, 13529, 17673, 17978, 25301, 7838, 19540, 6548, 8814, 18872, 14651, 16691, 25389, 8813, 11090, 8232, 13545, 13508, 23865, 22008, 7089, 16227, 5170, 13629, 19485, 9282, 7093, 2939, 18435, 22764, 8595, 17955, 26163, 16375, 7237, 4260, 15038, 13176, 6416, 9629, 19352, 10968, 10273, 9221, 28846, 12166, 5078, 9161, 12221, 5980, 10535, 7932, 6213, 6588, 19719, 25813, 10459, 22787, 24325, 11062, 5037, 17273, 26568, 4131, 28311, 10166, 8456, 29122, 16771, 19319, 17965, 16336, 14203, 18681, 7649, 10933, 16444, 17869, 26929, 17448, 14389, 18204, 15179, 9409, 16148, 12789, 10493, 5406, 28688, 15925, 8707, 17961, 9264, 7100, 22940, 3846, 24980, 27753, 14480, 26807, 12761, 13676, 24950, 15844, 12708, 20535, 22157, 23563, 18780, 5727, 14572, 12706, 26741, 18083, 16719, 17290, 19059, 13082, 17445, 14839, 20794, 5185, 15273, 25950, 5872, 20926, 7097, 28679, 9553, 18390, 15745, 20884, 5655, 13339, 15525, 17397, 10978, 7302, 11983, 15028, 19158, 21480, 15392, 26045, 22239, 14600, 24443, 8572, 14191, 23377, 16340, 6542, 19703, 24063, 6287, 16333, 11679, 26340, 10949, 8652, 23654, 22411, 29607, 22064, 4854, 13557, 13342, 9454, 14443, 20220, 15760, 22676, 15324, 12004, 13452, 25879, 6262, 23592, 6860, 26578, 25690, 13464, 15376, 29247, 28608, 24732, 9013, 14843, 7701, 8931, 14089, 6473, 27613, 9316, 9476, 20042, 12736, 19190, 7768, 17231, 23852, 20553, 10827, 7379, 6920, 7700, 5837, 11531, 18643, 18980, 20409, 23655, 6738, 20023, 18078, 15035, 6069, 19785, 16087, 12302, 7158, 10705, 9182, 9554, 19935, 25610, 17834, 10660, 14833, 17578, 5650, 4690, 20165, 18512, 23374, 13312, 25297, 14659, 19185, 8077, 11855, 14518, 14719, 8226, 23667, 26282, 13399, 19989, 16412, 10313, 23467, 18765, 15439, 4694, 8507, 11719, 14655, 8884, 27829, 13334, 7960, 13159, 9428, 29251, 10776, 13560, 15615, 10279, 9254, 10878, 5838, 22726, 15241, 7589, 6874, 9721, 18744, 15122, 3610, 15805, 25360, 20611, 18449, 21117, 5977, 20776, 18330, 9934, 27927, 12465, 7945, 6863, 29050, 5846, 13486, 6490, 11355, 11564, 9209, 4768, 26450, 3826, 7482, 14189, 8347, 17701, 12972, 8860, 17137, 16020, 8125, 13661, 7144, 25181, 9393, 24650, 21466, 13512, 25015, 12257, 16601, 19296, 26684, 26947, 16544, 13794, 18514, 13233, 16153, 27830, 18323, 23496, 22496, 27081, 26930, 13087, 21009, 15884, 4579, 7917, 10009, 16275, 15563, 24806, 7836, 16744, 26290, 11018, 10336, 26746, 8922, 15759, 7822, 14830, 12365, 9583, 10462, 9267, 18315, 21245, 15749, 12786, 8134, 5265, 18809, 29329, 9603, 17326, 21285, 8894, 13566, 14756, 6006, 17002, 15827, 11812, 18911, 7626, 8653, 8438, 20263, 11283, 20229, 24936, 24491, 4656, 11516, 7194, 8174, 11119, 14633, 10683, 25855, 11349, 20777, 28433, 10515, 26167, 26035, 5982, 10184, 17389, 9074, 4756, 11610, 24497, 14350, 5048, 9405, 17644, 25002, 7795, 9755, 17552, 25451, 24251, 9787, 6716, 25309, 17977, 15535, 28250, 4837, 16168, 23809, 10820, 11353, 11429, 17502, 14874, 13684, 17867, 16065, 16680, 5488, 5775, 22490, 19690, 23807, 7054, 12843, 16406, 4988, 7402, 5883, 24414, 16034, 15089, 11583, 24826, 21198, 19141, 19281, 6256, 21539, 14869, 22049, 11108, 8221, 21150, 14457, 11038, 10659, 9551, 28804, 13775, 28562, 12517, 6156, 6060, 10395, 8037, 17403, 8942, 8014, 8841, 25346, 9447, 26166, 12746, 5695, 6580, 15835, 7025, 14743, 20736, 9180, 26305, 17267, 8499, 8074, 11451, 5755, 9379, 23683, 15279, 8212, 8994, 22050, 26234, 21163, 23708, 23306, 16171, 11383, 26651, 16368, 20606, 6338, 27266, 11016, 4673, 19502, 12796, 27678, 22758, 11004, 8263, 20492, 29076, 16385, 20077, 14160, 8880, 6533, 20174, 8940, 11303, 21892, 13423, 10136, 18929, 24643, 28005, 19510, 17395, 18407, 11507, 9695, 9824, 11136, 24065, 20714, 17630, 8294, 11814, 20446, 8135, 20480, 21493, 10753, 19124, 26060, 11643, 12370, 29510, 3875, 17034, 8215, 11080, 13026, 17206, 7908, 23344, 11147, 4622, 15142, 18642, 20620, 16111, 9151, 23555, 13818, 23262, 6063, 23204, 12130, 25699, 19806, 21987, 9682, 9346, 18382, 19386, 17351, 12540, 12421, 13306, 13911, 18477, 13276, 28227, 20231, 10543, 17942, 11558, 11530, 17305, 21839, 19974, 15646, 25215, 25444, 6157, 24548, 11515, 29165, 19611, 19940, 22459, 14206, 21961, 21335, 19692, 17707, 23298, 4959, 25384, 7674, 9670, 19673, 18043, 21755, 9240, 24153, 11213, 19013, 20920, 12284, 9486, 24134, 28849, 13955, 20974, 20368, 26043, 10533, 7324, 18445, 26408, 24769, 5990, 7702, 8643, 21910, 16745, 10349, 21784, 20452, 21796, 14007, 16750, 6404, 13569, 21778, 13044, 28403, 14919, 20982, 14981, 10214, 9329, 16025, 25856, 9159, 12890, 12673, 17830, 24467, 23378, 17218, 11056, 16307, 6477, 18433, 8973, 14335, 7083, 9284, 16975, 10090, 23268, 15134, 19790, 13827, 20057, 23260, 10637, 19878, 7369, 13185, 9040, 22835, 10645, 12973, 11128, 23909, 7116, 25039, 27940, 6606, 26375, 16692, 20407, 20713, 20578, 10813, 7938, 26443, 10078, 11665, 29373, 5064, 7761, 13924, 10575, 23605, 6317, 9184, 17837, 8750, 15419, 5275, 28546, 13404, 12623, 23212, 6389, 17785, 11928, 12964, 9051, 27572, 7988, 9191, 8718, 17244, 10243, 11211, 10293, 5575, 14996, 13463, 13796, 19825, 9768, 6618, 9997, 16387, 20469, 18520, 17299, 13173, 8397, 5728, 11296, 17053, 14927, 21155, 14120, 19015, 15281, 3783, 15794, 13117, 14273, 6884, 16876, 23012, 16255, 21923, 7675, 7387, 23054, 10191, 7190, 20622, 19262, 13999, 11548, 11465, 5953, 23263, 15299, 19947, 23548, 19843, 10100, 12536, 8729, 17613, 24679, 17570, 28136, 13713, 21341, 7966, 5087, 18142, 13149, 11376, 11780, 13293, 10096, 19240, 17337, 26156, 17488, 19762, 28488, 14306, 6484, 4775, 8481, 11067, 6769, 14777, 18606, 12615, 11241, 9160, 11560, 15603, 22106, 12442, 5849, 20668, 11292, 27484, 6152, 14446, 1098, 22956, 8927, 24091, 16120, 15725, 22094, 16078, 7821, 25743, 9926, 17406, 9086, 16345, 21510, 17758, 13100, 9574, 28246, 21663, 10306, 16408, 26688, 13194, 27983, 26369, 19419, 27950, 15550, 12315, 13739, 11099, 23460, 7548, 20463, 10842, 17079, 9667, 16632, 13541, 19279, 22207, 15707, 11272, 14626, 12664, 8848, 27112, 20160, 16266, 26928, 19130, 16112, 9566, 13722, 27084, 22043, 21389, 6384, 14287, 13769, 28994, 13567, 9459, 5590, 13432, 20024, 8008, 10676, 11256, 27642, 10155, 13481, 5914, 28808, 11494, 11074, 15966, 22272, 17825, 4533, 16472, 21791, 16005, 21354, 10265, 9311, 8455, 15102, 11590, 11575, 8890, 14268, 15357, 25025, 19396, 25661, 8731, 16169, 6142, 7042, 19173, 28496, 28405, 15560, 13972, 3966, 6757, 20783, 25718, 14590, 4940, 16136, 15946, 27210, 13800, 19842, 27453, 28723, 10106, 18969, 15300, 23612, 20579, 26143, 18100, 16105, 13500, 23543, 21852, 15481, 8088, 20059, 13534, 17935, 24761, 10944, 11143, 24545, 21109, 16278, 17826, 6029, 22466, 8354, 5236, 20940, 14906, 14886, 11007, 17374, 6754, 24899, 24172, 10501, 11440, 15691, 10104, 18740, 15577, 20199, 14310, 7014, 7122, 13332, 18321, 6193, 17323, 22415, 8597, 8096, 13443, 20440, 28741, 7699, 13367, 18750, 19835, 9404, 28793, 13996, 27130, 6792, 15255, 7794, 5102, 19217, 17128, 6916, 28022, 11954, 23073, 12887, 9917, 12317, 11328, 18565, 8739, 7232, 5545, 10217, 28329, 22068, 26536, 12823, 18200, 6488, 13405, 10088, 17011, 10559, 11172, 7519, 14293, 28858, 17522, 17907, 21261, 27216, 27815, 11951, 12267, 23021, 10326, 7298, 9729, 23608, 28075, 11046, 7748, 6435, 18605, 7871, 15938, 12345, 14965, 23854, 14185, 17612, 10563, 19098, 8594, 17884, 14960, 14729, 9330, 10069, 4936, 12242, 21429, 26799, 19287, 23523, 11204, 7660, 4947, 22901, 26997, 27760, 20298, 8193, 8195, 27158, 10709, 16814, 22723, 24059, 6999, 5125, 15060, 6096, 20905, 18124, 8338, 3812, 10798, 20640, 10292, 19156, 7184, 9137, 17158, 17638, 18040, 21996, 28258, 29301, 23567, 17572, 15091, 7094, 6382, 14317, 5276, 16567, 18623, 16518, 13459, 14665, 8036, 26706, 10356, 10461, 16785, 17407, 16506, 7417, 8424, 12488, 17539, 28295, 12419, 12765, 13671, 24435, 21724, 16109, 12614, 10863, 23475, 19765, 7464, 11221, 7806, 17013, 14374, 5763, 16121, 21820, 7668, 20652, 15664, 20916, 24375, 21586, 8033, 6969, 5874, 17317, 15994, 7493, 19079, 18389, 16004, 26982, 20123, 29065, 14966, 17872, 13956, 8265, 8686, 28900, 13327, 6858, 14023, 5453, 12197, 28907, 14147, 17883, 22170, 9238, 12236, 17313, 16911, 13028, 16311, 5062, 25608, 18000, 7623, 9980, 7935, 22214, 11510, 10600, 16595, 4662, 8602, 17767, 13209, 24805, 17794, 22806, 7470, 11793, 6332, 21365, 9908, 19046, 19595, 15635, 9613, 14184, 6318, 21041, 7857, 25863, 27699, 4885, 11818, 6186, 25459, 21338, 5184, 9941, 13115, 14628, 28234, 12011, 7133, 15882, 6768, 29484, 15800, 12231, 21225, 28999, 19273, 11483, 17472, 13020, 26348, 9694, 6092, 12422, 28314, 17312, 26618, 17804, 19824, 12695, 10565, 22382, 22718, 10284, 17752, 12388, 20461, 25501, 11321, 20241, 27859, 15282, 11133, 13160, 10443, 16957, 11043, 18207, 14961, 14819, 15030, 5314, 20226, 22283, 20793, 15811, 8727, 7462, 13788, 29451, 20763, 7404, 18630, 22027, 26915, 15370, 11752, 7803, 28156, 14403, 22910, 13077, 17111, 13134, 17094, 11332, 20486, 10231, 15887, 19090, 8459, 17414, 14338, 18964, 14111, 9624, 16690, 6150, 5548, 11870, 16343, 27511, 6965, 16901, 27201, 9187, 18787, 12129, 14546, 11411, 7598, 8805, 9590, 20700, 10608, 4798, 21049, 10022, 20872, 20660, 19736, 9467, 21275, 6264, 11509, 11925, 4849, 15216, 19132, 16942, 13057, 6266, 14866, 29202, 17434, 9104, 23112, 14806, 16915, 18582, 13703, 9077, 26906, 14818, 25095, 24423, 22613, 17549, 4686, 13471, 24714, 11758, 14361, 16796, 14133, 20998, 12474, 14562, 4814, 7600, 27969, 26610, 11850, 15780, 19311, 15643, 9439, 22302, 11629, 5772, 20120, 9896, 19528, 22921, 21296, 9304, 16949, 14369, 14026, 28413, 27150, 16486, 20587, 28655, 6326, 8422, 19309, 5322, 20477, 17441, 5916, 14541, 6955, 9642, 16187, 7894, 9484, 15680, 21471, 12766, 13089, 7656, 10955, 26278, 26783, 7424, 23446, 12985, 17792, 6395, 21211, 22137, 5633, 6232, 25557, 20294, 16386, 11316, 9881, 7742, 20534, 10389, 11397, 14964, 16859, 27617, 27507, 9831, 12280, 19031, 20438, 6766, 8759, 21114, 17709, 6793, 16415, 10907, 4843, 7134, 8542, 21046, 24410, 16417, 24792, 8201, 9569, 13180, 19684, 27662, 8867, 12065, 10830, 8391, 10378, 12719, 14055, 13295, 24013, 11541, 25481, 18702, 4538, 16717, 6173, 16833, 26266, 28384, 6506, 7031, 11474, 9725, 19210, 8469, 16002, 8442, 15475, 19679, 17006, 4999, 14882, 16503, 8408, 14100, 15683, 5895, 10662, 5515, 9057, 10597, 11591, 16681, 16509, 5225, 12596, 7843, 22540, 23084, 6291, 24551, 19603, 15495, 4739, 9867, 6498, 12572, 8126, 14464, 12733, 19515, 7426, 17454, 24902, 13371, 10658, 9348, 9762, 18647, 22911, 13154, 14613, 15252, 24997, 8655, 24733, 8588, 19209, 19847, 13438, 17035, 28084, 4881, 10283, 11484, 27891, 5106, 24575, 10305, 15100, 7844, 12108, 14796, 7973, 14567, 20142, 21976, 8395, 25465, 26903, 16335, 10616, 16467, 21948, 18260, 25354, 9627, 6312, 9702, 14772, 9895, 5988, 27092, 18547, 21477, 13521, 15171, 5011, 23038, 6921, 17852, 13763, 20347, 7447, 21167, 15192, 22797, 12459, 27972, 4764, 27280, 21566, 15839, 12817, 23609, 19064, 10980, 13364, 21292, 18579, 23281, 22225, 18619, 9417, 18154, 10139, 17976, 12799, 29469, 10855, 20001, 23672, 29423, 24405, 9769, 8070, 6511, 12047, 12279, 11416, 10319, 27059, 7486, 22721, 10182, 7527, 21095, 11828, 16108, 11849, 10739, 18020, 19500, 23519, 25926, 22436, 13010, 28031, 12181, 13826, 7672, 13374, 21090, 19093, 7912, 26461, 21813, 7914, 26620, 22126, 8463, 9501, 3387, 15526, 6800, 8807, 15365, 11107, 11891, 28426, 10272, 21810, 19754, 22879, 10860, 23431, 17479, 18730, 12472, 20348, 28829, 15863, 17032, 5140, 18373, 12208, 19594, 22505, 16281, 24125, 15843, 7897, 22697, 17254, 16246, 23944, 6743, 9751, 10314, 27165, 12853, 13547, 14973, 19293, 12467, 6141, 18820, 17037, 27995, 17959, 24555, 13236, 23712, 12776, 8326, 8916, 18368, 28122, 22269, 12691, 17511, 21688, 26061, 13637, 12571, 19797, 18046, 19123, 8489, 24700, 25526, 12446, 16251, 14444, 13640, 26985, 9091, 11097, 23219, 12774, 20515, 18114, 24198, 7313, 13967, 8954, 18537, 19872, 11180, 20429, 7234, 27184, 23849, 20991, 19453, 4032, 11480, 27651, 13216, 15342, 17904, 24291, 10983, 6798, 17113, 23522, 11549, 18263, 13589, 25525, 17731, 16610, 15719, 27522, 10779, 18105, 22294, 28942, 7146, 13928, 21179, 21739, 22599, 11485, 28180, 19689, 19527, 25042, 26076, 14520, 9155, 25834, 20798, 18755, 13912, 15125, 11927, 21638, 6439, 18148, 20321, 11935, 16097, 13929, 20069, 8972, 14357, 8233, 13450, 8513, 18146, 10743, 10444, 7273, 8764, 20875, 17093, 18182, 5616, 19275, 24413, 5586, 19593, 9772, 14134, 19711, 22746, 21134, 22074, 25520, 14804, 20546, 18783, 20589, 23640, 4992, 23525, 15717, 20689, 5112, 25619, 11155, 15306, 8919, 16195, 23491, 20405, 28714, 10467, 18581, 5497, 17523, 6253, 20018, 11521, 26797, 13059, 12769, 4970, 8559, 19827, 9851, 12931, 13776, 18629, 8266, 16820, 29009, 8257, 28448, 11071, 28852, 28879, 14715, 9564, 13951, 20939, 29248, 20549, 17537, 10686, 23615, 11130, 25955, 10615, 23825, 6932, 5556, 13702, 5752, 12084, 6330, 19721, 9906, 10334, 24600, 4399, 17352, 17842, 14969, 14158, 15110, 15729, 15704, 4967, 14110, 16353, 22898, 20849, 8500, 19584, 24858, 11006, 10348, 13963, 21005, 24624, 15143, 7550, 22318, 26071, 12106, 12669, 17848, 27152, 7331, 10891, 4327, 12160, 13574, 10576, 29080, 17453, 4223, 23176, 20134, 21582, 21710, 16626, 9993, 8468, 21064, 14523, 19002, 27465, 20285, 28739, 19773, 20885, 13099, 13816, 23318, 24302, 6883, 17568, 21218, 5040, 12218, 14875, 6649, 5316, 16089, 11963, 4927, 13278, 12783, 25961, 6899, 13506, 7423, 16254, 11644, 15065, 12266, 20342, 28241, 13657, 6068, 13094, 15726, 14259, 15059, 12101, 4932, 15758, 15824, 7880, 20910, 21600, 18863, 11123, 19755, 13241, 18739, 24839, 14049, 13112, 28670, 7543, 19288, 16526, 18111, 23730, 17140, 8121, 7982, 20666, 25571, 13231, 16358, 8160, 15673, 12563, 22249, 17599, 15083, 9065, 11821, 15271, 6051, 15545, 6609, 17890, 15765, 10876, 5778, 9979, 4594, 21618, 8951, 21181, 11324, 14585, 20889, 28023, 24314, 10874, 5774, 29500, 15798, 9435, 15390, 24668, 10613, 26723, 15685, 7048, 23591, 21050, 12076, 13386, 10478, 16059, 16735, 9256, 25812, 9727, 10117, 11650, 17589, 16787, 26637, 14872, 16199, 19120, 12570, 23859, 11401, 4721, 21593, 22778, 13183, 26838, 9764, 26665, 14760, 11936, 11577, 13797, 8362, 15616, 8315, 27245, 11195, 29277, 21529, 11095, 20341, 6307, 5028, 26743, 23228, 9446, 12800, 15728, 12590, 18458, 20601, 6320, 7920, 18570, 16299, 19235, 6940, 7036, 20000, 22081, 15127, 14901, 17763, 13532, 13064, 20132, 21138, 16879, 10005, 11674, 26005, 12447, 12288, 20888, 10729, 14799, 12912, 15494, 24090, 5924, 24816, 27725, 5518, 22704, 11771, 9342, 11434, 14508, 19488, 8320, 20564, 24432, 15716, 11061, 9427, 26556, 12078, 1100, 25645, 26804, 26296, 8433, 17582, 25546, 14821, 13403, 12548, 11615, 14340, 15538, 11525, 7104, 25807, 27896, 23462, 27870, 6877, 12158, 11573, 7084, 13674, 24273, 28305, 24278, 17943, 11078, 28379, 22090, 21727, 16156, 26212, 24312, 18781, 13038, 20095, 19936, 16363, 21777, 15571, 25293, 11534, 7881, 22288, 13402, 21092, 16060, 25832, 13803, 22627, 12694, 8688, 21423, 8368, 7431, 21534, 25062, 19388, 21584, 6056, 8136, 17843, 11545, 7168, 28800, 10310, 25852, 10141, 24731, 22119, 14542, 9356, 24577, 26013, 24850, 16058, 23908, 13727, 9924, 17517, 14492, 18663, 17832, 12144, 22100, 12929, 8957, 9568, 17660, 6992, 26664, 17364, 15061, 17839, 20634, 29263, 22369, 27050, 18276, 12344, 5692, 13600, 22904, 9246, 15961, 17824, 15832, 20455, 15138, 28551, 14414, 13868, 15580, 10038, 13444, 27565, 14566, 9188, 9887, 12923, 22500, 18068, 22147, 7055, 6615, 19637, 20235, 27162, 5303, 18610, 10180, 22368, 16449, 16402, 8774, 20753, 8392, 10115, 13072, 6652, 25067, 15237, 20831, 8901, 12195, 12687, 25383, 13006, 7211, 16746, 24923, 22852, 9953, 9371, 11683, 25371, 21565, 8405, 11568, 12401, 10650, 8716, 15323, 10741, 20385, 27237, 14954, 16493, 25147, 14758, 5272, 10428, 21999, 18462, 15908, 18166, 22499, 12374, 6126, 15220, 25408, 10054, 13548, 15802, 28042, 16880, 25173, 28927, 18007, 22045, 27373, 18464, 10351, 6759, 5384, 12701, 10789, 15708, 22261, 28404, 12045, 11677, 17721, 23479, 20304, 11940, 13583, 8626, 15797, 23898, 19988, 7330, 17099, 7391, 12312, 6601, 22573, 22694, 7602, 14086, 14766, 19764, 12772, 10793, 13033, 23099, 29366, 17902, 9390, 12168, 10519, 14622, 29602, 8944, 5611, 29345, 19231, 17089, 23143, 9919, 26939, 14912, 20305, 20770, 14247, 14920, 19040, 11505, 18559, 16924, 6629, 26839, 11700, 8887, 8129, 21929, 8937, 15382, 13888, 9039, 25104, 16003, 17920, 27942, 12055, 10107, 20582, 17795, 17092, 14219, 6889, 19146, 23613, 14848, 10154, 11490, 9079, 16684, 19348, 5528, 13400, 23095, 20892, 22404, 16531, 26739, 22325, 23190, 17871, 15734, 25135, 8379, 23899, 11308, 10102, 18795, 10997, 14186, 22018, 18715, 10641, 9202, 28855, 22618, 9622, 27348, 17771, 27947, 22989, 10015, 19267, 26707, 5804, 28231, 22402, 9536, 7032, 6427, 17063, 19735, 8305, 13498, 10452, 24319, 16823, 12464, 13240, 22601, 7333, 20381, 23853, 19430, 18295, 20891, 15596, 14356, 10065, 17708, 19283, 29022, 26825, 12503, 12698, 25636, 23311, 15867, 13158, 7916, 19822, 23218, 6306, 16996, 10541, 19422, 9471, 25462, 14473, 17567, 9200, 20834, 8527, 12281, 14301, 8222, 14591, 11784, 16726, 29589, 14030, 12298, 25783, 17122, 11555, 15681, 23737, 15240, 20607, 18842, 14240, 19251, 4196, 7269, 7617, 7074, 11392, 24472, 18017, 7627, 16425, 9461, 13662, 10294, 9411, 14355, 21499, 13146, 16729, 10083, 27353, 17467, 25952, 11442, 28990, 7776, 18941, 22234, 9528, 15267, 18636, 13311, 22487, 20851, 17260, 12276, 11740, 18216, 21962, 27126, 13588, 18003, 19277, 9698, 18934, 20015, 15144, 16113, 19160, 8453, 29407, 23631, 19119, 26183, 11037, 10836, 9545, 18686, 7400, 18970, 11822, 13201, 10825, 11808, 26255, 17275, 17530, 27668, 12143, 11154, 18103, 18797, 19883, 27339, 14376, 24797, 5598, 15172, 10847, 15082, 16598, 9846, 20778, 6411, 27963, 15776, 18395, 24949, 4924, 20898, 20186, 21992, 24533, 13780, 13204, 9465, 11773, 10495, 21254, 9220, 13813, 14561, 7892, 14829, 22507, 14794, 5311, 6308, 13732, 29364, 7779, 19660, 13357, 28287, 21821, 19562, 22564, 21159, 16812, 25154, 23367, 15133, 22300, 6175, 23437, 16287, 6478, 14998, 23934, 13442, 13581, 24895, 26786, 8291, 15569, 18988, 12788, 19068, 22360, 2955, 26285, 23469, 21035, 15810, 8835, 21775, 8801, 22354, 13152, 15224, 28765, 8056, 23520, 14256, 22987, 13398, 7695, 7517, 9073, 14714, 21891, 8963, 18926, 22431, 8118, 22026, 26202, 22030, 17075, 18161, 28123, 14238, 11405, 18357, 4194, 9018, 18062, 12655, 10046, 11450, 13469, 19435, 10229, 19204, 18802, 14115, 14151, 16303, 19062, 11537, 14935, 10420, 24535, 18819, 13896, 17058, 19329, 25243, 25198, 13861, 13066, 10766, 19459, 9030, 11403, 20320, 16762, 15454, 22071, 7437, 28687, 8512, 25709, 12745, 28157, 21789, 23949, 17598, 19848, 24593, 18424, 7165, 8109, 21489, 27048, 27100, 11319, 17263, 14027, 14429, 24316, 12437, 8341, 6586, 21007, 21425, 19922, 10225, 13517, 10856, 23999, 18560, 19003, 24141, 13804, 25719, 12341, 20741, 23797, 17363, 16714, 11579, 11633, 16071, 14015, 12497, 11189, 19537, 8658, 9101, 25281, 18868, 15842, 27633, 9796, 12652, 18096, 19261, 20852, 11779, 26383, 27764, 11538, 25092, 29348, 25094, 14014, 11693, 15753, 18816, 9132, 26376, 15607, 10854, 16167, 14991, 12767, 25177, 19993, 14889, 10190, 22238, 16965, 11580, 20573, 13695, 21781, 9190, 12193, 12967, 8306, 27417, 10340, 20802, 16627, 22859, 11013, 18717, 11002, 13525, 23755, 6828, 17950, 15313, 20932, 28805, 9852, 8741, 25343, 13717, 11662, 26363, 23733, 17071, 13395, 24355, 8724, 13811, 22301, 20873, 11582, 18493, 16508, 17087, 17519, 27080, 20098, 25500, 23251, 17059, 25031, 17811, 16240, 18687, 12287, 24007, 9143, 22447, 25833, 9690, 11739, 18252, 16594, 17233, 26328, 12213, 10282, 23616, 15401, 14521, 25194, 29384, 19706, 16664, 28402, 26666, 15808, 18313, 14907, 13261, 20335, 14736, 17606, 8891, 26360, 14828, 10251, 18510, 18377, 18280, 5429, 12352, 6004, 22897, 28847, 22135, 19957, 27106, 10799, 9937, 6744, 11469, 9806, 19747, 21679, 24611, 19682, 29668, 14286, 14820, 13543, 16317, 22096, 29129, 14897, 11838, 12948, 24342, 26858, 7106, 18612, 13060, 25535, 8646, 12443, 12469, 13648, 26178, 25700, 9856, 21323, 22115, 27060, 15868, 16825, 22810, 21298, 15709, 6059, 22732, 18029, 28213, 17241, 12017, 12638, 10113, 6572, 19609, 17994, 7896, 9708, 6746, 20097, 23253, 16992, 9399, 10525, 21532, 22125, 14472, 9697, 21098, 16537, 22316, 13570, 28245, 14035, 17667, 21047, 11427, 14974, 29191, 13630, 27654, 11346, 7993, 20912, 17288, 14868, 10587, 29045, 14865, 23420, 11905, 26667, 13142, 20147, 18677, 7129, 23283, 10767, 10297, 15579, 6301, 20300, 19568, 10151, 16284, 13482, 11750, 18205, 25912, 15150, 14165, 16487, 25101, 7854, 17876, 23768, 22701, 21611, 12243, 20735, 13786, 23303, 11011, 17133, 9382, 20724, 7628, 27354, 18405, 21734, 21928, 9588, 16083, 18549, 15135, 23750, 17617, 22777, 6482, 18729, 20823, 28954, 12876, 17625, 29144, 12602, 28203, 26692, 25373, 20697, 19207, 17176, 8435, 26309, 9567, 28823, 18118, 9287, 22014, 13553, 27671, 16365, 13718, 9321, 18256, 21446, 13300, 8941, 17984, 9951, 18232, 23618, 13663, 17547, 23593, 7380, 7723, 11060, 10144, 12035, 16733, 7420, 29280, 18589, 22060, 11569, 15023, 21193, 10239, 27738, 17084, 22445, 9901, 7763, 21955, 25763, 10677, 23316, 29200, 16557, 21326, 25519, 12252, 10494, 10721, 13448, 12203, 14041, 20595, 17141, 22139, 14436, 24784, 21156, 12864, 10780, 10702, 20364, 7582, 24415, 23419, 27757, 20927, 16310, 9767, 13677, 6303, 13854, 10411, 13944, 25023, 24901, 14036, 13705, 20360, 7429, 23584, 23476, 16348, 21036, 27072, 10914, 10646, 23930, 16933, 11632, 9835, 21345, 24457, 20863, 24426, 7624, 15608, 3939, 13893, 5180, 17339, 20733, 16961, 26387, 18557, 14814, 14487, 20784, 19963, 21816, 11941, 20530, 8062, 6933, 27189, 25822, 15847, 7648, 21239, 20618, 12949, 19377, 18067, 7866, 17686, 11447, 17415, 13322, 29114, 12723, 24406, 10321, 9718, 26852, 14701, 20944, 9940, 22552, 27462, 12692, 22511, 26468, 28892, 8296, 1097, 28993, 8838, 15190, 15950, 21249, 12700, 8570, 27301, 16783, 12956, 10409, 13633, 7664, 16011, 7845, 27006, 9081, 25925, 15251, 16519, 5588, 21884, 20291, 15757, 22884, 26944, 28601, 9855, 23751, 22840, 10476, 18757, 19832, 16114, 13453, 8099, 13771, 16393, 17443, 27241, 15932, 27606, 6954, 12334, 18436, 8608, 13971, 26410, 27351, 15215, 28359, 17237, 14959, 20419, 17714, 25245, 29466, 22839, 13362, 14578, 25186, 20744, 14348, 11438, 11666, 22011, 14006, 13760, 8669, 12911, 12793, 9833, 11982, 20976, 23265, 8955, 12951, 20649, 17615, 23691, 19585, 12028, 16413, 19219, 23889, 6166, 13110, 10499, 11499, 12825, 22048, 12524, 7252, 13493, 25780, 6571, 19456, 26941, 9826, 12205, 23988, 19547, 19801, 11844, 7735, 18372, 10224, 10864, 18771, 21450, 15799, 19942, 7385, 17573, 8502, 22248, 16619, 13348, 9773, 7440, 16999, 8773, 12219, 6489, 7739, 22016, 5520, 12710, 25662, 18580, 15629, 9825, 9810, 24746, 21110, 23986, 16432, 16128, 15979, 6268, 12395, 27405, 11809, 20204, 17202, 26490, 9643, 10912, 11185, 14053, 7018, 9842, 9340, 16419, 23789, 10221, 13979, 16702, 21547, 19910, 15406, 16379, 9391, 18963, 6127, 23639, 20938, 24531, 10895, 9452, 13162, 10311, 28745, 7124, 20706, 10896, 28845, 17229, 23914, 13425, 7003, 17139, 12359, 17077, 10932, 27698, 14690, 10805, 14198, 7808, 7332, 24138, 25195, 26113, 13132, 26509, 11230, 27521, 7181, 9219, 8256, 10396, 19680, 14635, 22461, 19795, 6426, 28833, 26830, 26014, 13681, 16502, 18561, 16398, 24508, 19271, 13536, 27620, 20961, 29593, 12775, 23688, 21337, 12048, 22184, 15773, 18609, 24231, 27581, 23628, 10375, 23490, 12659, 16181, 18521, 9540, 27828, 12728, 22419, 7185, 10573, 8054, 17484, 28939, 16555, 18136, 9778, 24540, 20787, 5419, 11946, 29175, 8900, 16478, 9054, 15934, 28436, 17801, 7250, 24093, 20792, 16283, 16604, 9596, 9263, 29513, 15463, 13696, 9205, 14705, 9116, 22755, 13690, 8749, 20311, 25785, 21576, 15441, 7101, 9303, 10762, 27082, 15200, 8593, 11971, 14402, 25206, 22477, 19410, 10403, 13053, 20681, 12178, 20593, 18710, 14503, 12814, 9809, 10130, 15344, 8016, 7150, 18668, 26209, 24155, 19181, 13759, 16080, 7351, 24568, 28619, 15434, 18402, 22582, 29003, 24391, 8925, 20075, 16057, 6339, 16535, 6423, 22799, 21596, 18225, 20617, 25469, 29385, 10923, 10966, 10929, 13993, 8429, 14233, 14491, 13976, 19662, 9716, 14656, 23661, 18253, 28004, 24124, 7555, 8788, 20278, 17459, 12329, 8692, 11725, 19243, 3706, 25806, 19504, 6647, 20167, 18665, 18620, 9406, 29310, 7135, 25011, 23788, 23684, 26343, 14549, 13418, 12930, 8673, 24641, 21519, 20318, 22761, 27036, 14750, 25508, 21266, 9853, 26056, 11404, 4393, 15573, 17321, 18247, 26352, 9106, 16715, 24490, 11165, 28965, 13966, 23093, 21217, 26237, 10607, 19446, 22299, 7195, 10021, 25274, 14341, 5698, 12187, 22470, 26886, 13665, 28776, 15482, 24094, 15613, 14485, 27585, 28582, 25935, 8799, 24030, 15118, 7631, 14126, 19745, 16935, 23297, 22475, 23808, 18209, 27369, 18450, 11271, 6102, 10614, 27800, 8854, 10143, 12149, 23254, 14538, 21381, 9464, 7853, 18679, 11512, 11141, 12836, 18800, 9757, 21950, 28475, 27686, 12569, 24411, 21185, 20195, 15606, 13372, 16892, 26356, 19821, 12857, 24394, 21257, 8695, 21040, 16987, 18989, 18952, 28248, 18698, 18255, 19998, 9293, 10237, 27244, 15318, 11832, 20636, 15045, 17478, 29427, 15314, 9481, 18460, 13946, 23980, 7764, 14558, 6722, 19058, 16364, 17900, 11293, 7996, 21886, 15854, 9119, 7985, 26479, 8219, 19492, 20274, 10717, 22668, 17815, 26271, 7267, 25621, 26521, 24851, 8812, 19529, 17046, 22630, 20567, 15208, 16061, 29238, 8009, 13218, 20956, 15203, 24636, 15492, 18954, 11446, 25009, 13369, 19092, 27576, 24841, 24281, 10027, 19188, 10317, 14205, 21293, 6795, 27074, 11208, 24117, 20658, 13108, 24653, 8675, 7622, 24002, 12801, 15740, 24837, 7004, 24326, 10423, 23237, 12238, 10000, 8166, 12527, 7219, 9455, 18495, 13593, 21846, 19681, 27431, 10211, 14938, 9633, 27954, 13457, 15239, 6527, 22195, 6015, 28324, 11351, 15168, 9118, 12452, 5828, 6717, 22955, 12504, 25672, 26298, 15599, 14679, 14565, 10186, 10366, 19566, 11340, 26896, 14058, 24402, 14270, 6838, 13016, 15015, 21965, 20319, 10254, 17653, 29193, 27005, 16289, 13128, 11588, 21515, 15450, 21644, 27911, 7067, 11734, 16110, 9192, 14201, 9606, 26846, 8876, 13065, 28589, 6982, 23427, 7825, 24768, 7867, 20584, 23292, 17372, 24381, 22069, 14033, 24194, 13783, 6008, 23079, 12406, 24364, 6288, 7307, 21485, 20500, 29359, 23677, 6729, 10002, 9441, 7638, 23061, 25392, 27569, 5578, 8969, 25028, 8207, 23156, 14849, 28545, 11544, 16176, 17555, 27743, 21346, 21920, 26849, 29111, 17571, 4711, 14269, 16318, 18296, 23695, 16730, 24271, 28163, 12647, 18533, 13321, 19444, 25560, 8722, 26270, 24690, 15402, 26451, 13248, 22729, 11976, 24296, 10064, 26118, 9930, 15080, 26821, 21076, 20942, 9679, 20890, 24441, 25889, 12936, 17040, 25698, 13468, 8151, 9577, 15027, 8975, 17751, 8214, 12454, 14276, 26031, 8041, 13197, 15428, 6188, 8825, 17694, 27258, 25089, 21554, 10301, 10979, 23887, 24374, 17691, 28142, 18604, 25457, 22737, 12704, 16209, 7310, 10653, 3880, 24404, 22138, 17983, 7326, 10787, 10013, 11000, 12867, 7788, 8547, 16568, 22281, 18817, 12591, 17256, 10574, 12808, 27669, 16724, 15275, 25074, 13653, 29371, 13901, 26219, 9169, 6929, 29225, 15829, 22662, 10553, 23836, 10771, 15911, 6990, 29226, 25605, 11527, 28533, 12726, 8061, 8879, 18112, 10471, 22414, 14669, 21075, 10246, 28296, 11276, 10712, 13396, 23210, 13333, 15132, 7947, 11785, 19034, 16162, 16639, 24810, 16551, 12043, 16151, 8097, 14980, 6347, 18640, 25114, 15831, 29343, 25711, 28066, 21722, 28097, 10079, 9135, 11861, 29594, 26885, 8344, 24487, 11959, 19819, 23744, 22320, 5113, 15534, 15636, 23785, 8488, 8282, 26770, 18488, 29597, 16481, 23368, 24844, 14496, 20414, 28864, 22656, 20952, 9360, 18736, 8981, 11182, 19871, 19233, 19494, 8227, 18069, 15612, 16591, 25162, 13381, 22625, 7005, 22579, 7148, 20370, 16998, 17922, 11051, 17157, 7986, 11021, 22565, 28731, 11763, 9676, 10833, 20035, 24290, 22343, 25455, 24475, 20113, 21685, 24880, 10412, 18195, 25256, 19604, 8725, 8531, 17796, 16721, 20909, 26819, 7533, 29218, 24164, 14957, 26357, 7758, 8443, 13084, 27545, 24669, 23396, 5768, 7890, 14398, 12290, 14064, 11279, 29100, 16931, 26051, 22634, 6225, 29541, 26526, 24403, 9704, 6249, 9872, 15895, 15473, 25275, 7798, 9579, 9707, 8032, 11554, 28728, 15778, 27777, 6621, 26994, 14056, 15523, 22102, 25497, 22323, 20476, 27067, 18024, 29147, 28282, 19339, 20694, 26642, 15361, 8770, 27197, 24038, 19399, 17161, 14950, 19893, 28872, 28649, 22941, 26279, 24053, 19476, 16937, 25717, 16241, 6066, 15741, 12390, 7813, 15397, 26897, 18937, 11686, 6984, 23114, 21836, 16077, 12308, 19895, 17215, 19441, 11934, 19121, 28695, 27844, 24396, 14395, 8238, 26453, 12932, 27461, 14099, 22495, 26676, 20200, 17802, 22558, 27900, 16042, 23647, 12807, 28949, 25708, 19289, 23891, 24225, 24856, 12995, 12479, 18959, 21843, 25262, 6988, 19873, 7157, 9523, 22059, 19815, 15922, 21808, 7441, 28276, 17633, 25033, 15913, 28919, 9085, 22344, 6446, 24148, 6837, 20906, 10582, 16934, 13743, 14295, 19544, 10713, 10911, 10666, 23376, 22530, 17626, 9493, 10169, 5820, 19312, 19320, 7428, 11083, 9281, 21016, 25565, 13050, 29542, 25578, 18197, 26802, 20654, 9122, 23169, 16152, 12734, 24429, 28586, 10261, 23273, 24073, 22903, 11408, 8809, 19984, 7421, 28048, 23532, 13698, 12327, 12815, 24763, 21648, 13635, 25202, 20003, 21306, 11370, 17316, 24869, 18711, 16338, 24539, 18855, 28987, 27396, 27393, 7454, 20896, 9830, 19135, 11684, 15420, 9133, 8836, 13244, 10583, 17716, 7257, 14963, 23062, 19247, 7196, 24255, 16670, 25980, 15305, 29258, 23205, 11893, 11741, 10219, 19688, 7833, 8415, 13172, 18564, 22993, 19639, 12409, 14423, 7253, 9952, 12491, 16442, 11602, 25453, 20870, 29101, 24580, 23709, 13856, 18858, 27794, 27103, 18365, 22305, 23947, 15655, 25102, 8407, 13314, 9479, 18278, 18080, 13345, 21186, 21334, 17704, 19512, 16956, 29537, 14138, 8191, 24191, 22847, 10081, 29061, 8194, 15268, 6479, 9423, 11728, 20459, 29231, 8600, 18799, 19851, 16959, 13563, 20629, 9741, 11117, 15987, 22401, 18066, 23526, 15996, 18367, 21835, 18841, 12185, 26895, 16421, 26484, 23102, 15145, 16817, 12754, 13926, 7653, 27948, 17277, 11645, 24782, 10001, 24071, 24041, 16824, 8818, 29145, 12895, 18346, 17056, 17393, 13880, 7320, 8436, 15851, 23472, 19442, 13716, 14582, 16091, 25755, 7343, 25582, 10682, 29103, 8905, 18219, 23035, 13837, 27887, 11618, 14977, 15169, 9714, 27360, 12230, 18077, 11032, 17527, 17311, 28498, 14334, 9586, 12492, 19927, 25143, 7240, 6476, 28568, 14387, 18596, 12720, 24992, 15962, 12663, 6995, 29015, 18568, 19276, 12526, 11041, 23314, 11694, 21058, 9288, 25963, 24595, 12608, 7131, 5411, 26117, 22421, 25970, 19129, 14592, 6376, 24032, 16742, 23820, 19563, 9555, 7647, 9659, 23646, 20456, 23290, 10342, 15105, 22047, 20444, 9249, 22277, 25414, 11289, 15738, 17903, 12601, 23362, 10116, 18851, 27491, 17181, 17144, 27852, 25986, 15806, 16765, 27992, 23207, 25491, 11747, 8350, 19845, 28682, 25402, 11285, 9175, 23718, 28382, 14441, 28269, 19307, 6161, 15754, 16984, 21714, 14740, 18434, 19967, 20266, 9300, 17210, 15440, 16022, 26257, 12082, 26289, 22219, 22376, 6220, 22950, 24427, 14271, 9644, 21558, 23890, 13568, 25674, 17546, 28596, 22388, 29393, 9911, 4485, 29400, 25246, 20156, 13264, 22717, 9892, 14593, 7952, 24673, 14091, 18410, 13106, 24240, 9784, 24136, 11612, 22033, 6607, 29243, 23697, 10016, 15227, 10397, 11081, 20846, 21842, 7981, 20178, 21086, 12743, 29562, 23380, 6281, 26267, 20425, 27590, 28941, 7311, 22959, 21243, 9306, 25169, 25714, 27291, 29362, 11249, 8709, 27609, 13383, 14700, 4365, 9884, 22328, 17912, 22493, 23293, 29592, 23354, 29071, 24751, 9912, 9277, 23184, 9477, 12039, 20250, 22894, 23874, 23676, 19250, 11597, 13619, 27076, 26286, 25191, 16238, 14062, 13576, 21935, 26233, 17938, 27533, 26609, 9244, 22924, 26844, 6690, 13538, 12206, 11449, 22998, 20621, 8083, 13476, 27796, 22631, 27225, 10103, 12934, 11378, 16517, 13098, 28148, 9168, 18420, 23894, 24086, 25113, 10030, 10628, 16013, 22569, 12244, 16430, 10422, 25635, 22087, 12471, 27105, 19437, 15073, 20857, 24232, 5870, 19521, 14433, 10487, 29198, 16630, 17743, 15276, 6952, 18319, 10227, 29108, 14362, 12024, 15347, 29323, 23366, 12549, 15543, 14554, 20543, 16634, 23706, 21652, 14797, 14478, 25983, 17798, 26577, 11883, 23167, 14646, 20969, 27213, 28472, 24820, 10846, 19955, 11620, 18507, 20325, 22425, 23045, 22397, 22337, 19511, 15572, 16261, 17475, 10490, 22997, 7143, 10850, 8064, 28566, 17177, 18927, 24979, 21189, 14811, 24520, 12505, 17894, 25695, 16617, 29516, 20058, 27749, 17319, 29667, 7611, 17253, 15302, 15825, 10112, 9364, 7187, 5928, 22813, 20519, 14359, 19338, 21484, 15003, 24398, 27064, 12629, 17228, 21157, 15063, 25533, 26036, 15049, 22506, 3657, 8856, 6539, 12507, 22356, 23576, 23307, 12019, 13224, 13936, 11847, 29294, 13805, 27003, 10037, 10530, 22210, 18235, 7449, 27709, 27977, 17597, 23940, 9272, 27988, 21008, 19807, 9969, 18617, 12077, 16884, 21398, 19205, 24368, 13393, 26173, 19043, 14313, 17747, 8978, 21986, 12466, 15398, 7350, 23234, 14128, 12665, 19499, 24969, 10031, 29521, 9811, 24925, 27552, 13851, 18008, 14309, 18585, 29519, 8337, 25644, 27333, 23092, 15412, 8063, 25129, 11659, 11839, 22164, 4043, 28135, 1095, 16599, 22391, 7614, 8615, 12785, 25797, 8929, 18503, 23064, 19213, 20396, 24446, 8364, 24655, 19658, 27370, 14290, 11998, 19264, 12275, 12982, 12396, 21141, 9873, 9533, 9660, 26683, 19355, 20824, 24230, 18772, 15369, 15864, 7469, 19412, 24420, 25978, 7296, 16458, 23086, 23346, 15696, 15158, 13638, 17439, 23723, 23090, 21549, 14944, 17342, 14625, 7455, 12114, 14375, 7306, 11247, 10209, 16552, 24559, 10263, 24509, 18584, 14392, 18299, 8926, 17018, 19405, 23674, 9429, 25375, 10920, 23633, 27658, 6972, 23753, 17431, 19303, 16440, 7466, 25401, 29334, 26008, 24366, 19300, 27204, 18172, 22864, 23895, 17278, 23042, 14001, 10413, 11587, 6103, 29327, 14864, 28684, 28899, 14118, 7120, 4741, 27774, 26339, 28194, 8886, 25775, 7618, 25254, 25504, 26380, 7260, 9734, 12120, 13085, 12036, 13198, 12316, 15418, 18120, 29023, 27234, 15926, 24971, 6783, 8997, 9271, 10384, 14034, 14803, 26095, 27259, 13580, 22925, 9500, 12060, 19972, 18840, 5168, 19905, 10921, 12795, 14401, 23389, 11726, 27520, 25679, 13125, 11972, 28548, 12186, 20562, 16453, 18441, 12041, 19239, 14124, 12428, 15214, 10118, 15445, 22183, 21995, 8708, 19449, 10290, 16341, 12585, 8076, 12119, 13909, 9743, 28906, 27120, 15350, 25728, 11561, 15411, 21798, 17560, 22442, 23586, 20807, 24911, 8330, 20568, 20017, 7572, 20829, 8472, 7710, 7153, 15020, 14888, 18655, 16705, 6665, 26244, 11553, 26871, 11864, 18922, 12493, 20864, 29031, 19862, 24133, 16101, 9058, 26771, 25817, 21322, 24498, 21115, 27343, 17700, 20967, 15508, 15575, 12753, 20281, 21168, 14416, 15130, 10684, 14424, 2910, 12688, 8018, 22166, 11856, 21674, 17369, 13542, 12938, 24234, 9736, 13793, 15477, 12026, 13987, 26884, 8862, 13683, 15178, 24022, 18476, 25045, 17456, 25630, 17540, 23579, 16483, 8802, 7299, 20339, 18245, 23111, 8679, 23732, 21723, 7927, 28046, 6269, 18009, 10749, 27471, 8549, 9434, 24854, 24885, 16808, 21463, 7802, 18403, 12965, 12323, 11736, 23992, 22546, 24674, 18778, 22409, 25133, 26314, 9684, 8284, 16873, 10594, 21945, 15233, 14720, 14425, 15919, 7992, 14568, 16070, 27770, 9713, 12657, 12310, 8165, 24040, 10877, 22267, 17204, 11621, 13238, 9916, 25475, 14530, 26954, 10220, 23055, 21882, 11975, 28557, 26373, 22890, 10888, 9061, 7725, 26677, 8504, 12478, 9069, 28309, 15912, 11102, 21726, 7726, 21769, 26316, 12300, 15470, 12006, 18053, 9258, 11862, 28210, 17682, 26186, 8437, 15114, 22920, 27691, 16764, 17336, 15140, 7942, 20271, 21237, 21272, 8493, 14887, 7256, 28837, 19844, 7092, 19155, 25613, 23445, 26114, 28952, 8961, 26524, 25170, 18179, 18917, 18342, 13475, 23936, 9296, 8779, 16977, 18094, 13205, 13738, 27810, 11878, 26607, 8421, 10386, 17905, 14104, 9994, 25131, 9251, 22089, 28469, 13992, 18201, 9744, 12021, 17762, 26787, 15857, 12803, 21858, 20821, 8685, 23271, 28866, 12305, 15931, 14994, 29297, 12561, 21666, 22595, 22640, 22549, 12547, 9701, 16615, 12874, 14574, 20594, 13842, 17194, 24006, 19867, 20867, 19726, 8410, 27759, 19026, 11174, 29386, 14297, 24817, 19269, 11708, 13351, 26628, 24921, 26293, 10604, 12847, 21822, 27200, 24735, 13269, 10454, 13223, 25873, 22171, 15602, 15736, 11762, 12485, 8794, 14353, 27908, 20819, 23794, 14749, 25745, 16652, 9234, 19791, 27524, 19513, 20547, 9433, 14440, 18307, 10158, 13823, 21362, 18274, 15552, 19019, 20723, 9656, 9341, 7241, 26291, 22749, 14322, 20703, 18657, 21578, 7557, 15700, 13124, 22539, 28877, 19539, 27822, 7291, 20083, 5902, 18685, 12373, 18762, 16301, 9865, 15816, 25463, 27205, 9218, 9295, 13954, 20045, 20008, 14347, 11944, 8049, 7183, 18536, 21535, 21902, 10040, 6720, 29269, 14097, 28554, 14921, 12593, 12250, 15152, 14239, 12150, 13792, 12899, 14075, 24549, 21767, 13686, 25697, 9893, 19808, 16498, 10446, 18555, 9000, 29299, 22024, 12071, 24709, 26751, 12196, 12683, 18669, 9261, 21509, 24814, 15085, 6859, 17677, 27502, 29302, 18867, 14917, 18134, 7717, 20682, 13524, 18438, 25048, 6983, 22103, 17396, 12961, 29196, 7334, 26139, 19860, 12577, 7213, 15294, 17152, 29172, 28138, 26438, 24318, 17586, 24042, 26230, 15430, 18782, 17413, 23546, 16516, 25006, 21386, 25884, 14373, 18675, 9558, 13165, 21994, 17812, 12886, 13510, 22015, 24622, 20922, 16848, 13892, 14272, 6662, 27746, 16650, 25493, 19550, 16084, 13249, 12661, 14329, 28205, 26534, 9171, 14544, 12871, 18457, 26041, 10073, 10972, 9974, 27377, 9661, 24524, 24468, 7743, 11685, 26065, 15892, 16433, 18340, 22740, 18345, 23776, 20506, 12167, 20683, 21512, 26306, 10633, 26231, 13104, 26003, 8204, 18962, 17999, 29067, 17641, 14008, 25027, 8657, 12343, 21351, 11269, 17025, 28489, 13742, 20048, 16485, 23500, 26924, 27406, 9946, 22578, 19986, 11313, 17726, 20027, 29596, 20532, 9241, 8471, 18723, 15400, 9038, 21743, 28206, 24412, 25223, 19391, 18526, 12670, 25870, 27768, 14060, 21336, 17433, 11948, 10765, 24327, 9933, 25670, 20865, 19467, 18268, 28221, 10275, 22274, 19497, 15112, 9519, 6915, 21570, 15641, 20680, 13347, 18673, 27517, 12417, 9310, 13659, 9011, 24242, 17764, 19418, 27878, 18515, 17424, 7238, 9965, 16047, 16986, 24695, 28761, 29392, 25586, 14195, 13549, 21024, 25627, 24229, 24222, 10772, 23811, 19326, 25103, 16686, 12389, 18072, 23177, 25715, 14298, 27892, 15497, 18455, 28652, 8243, 23323, 23369, 13887, 21430, 9719, 23289, 26000, 19115, 24301, 21973, 17418, 27079, 19896, 15266, 10681, 23131, 14616, 17340, 28487, 15076, 20056, 20205, 13933, 16378, 8845, 7586, 19229, 22748, 27240, 28007, 8108, 19607, 29446, 11781, 9392, 16885, 26951, 22620, 16718, 11361, 28780, 18853, 18875, 11406, 20209, 22961, 9658, 9894, 12511, 24311, 15084, 11388, 22433, 20623, 19924, 17991, 23528, 12611, 15404, 22504, 19036, 29060, 9803, 25999, 28188, 16436, 18378, 19864, 25060, 13707, 28102, 11134, 13761, 22954, 10644, 11399, 14609, 17746, 13544, 10267, 11906, 24430, 17534, 17072, 23738, 19975, 29492, 22977, 23900, 15416, 21221, 14770, 16140, 17347, 20644, 12291, 17345, 18331, 19081, 11030, 19702, 14132, 13537, 25562, 23195, 19195, 13540, 21344, 13752, 19930, 21366, 17860, 24596, 20811, 26952, 8007, 11576, 13301, 22341, 13867, 16631, 24576, 16573, 17227, 24523, 25273, 18824, 17851, 27998, 12917, 13790, 19183, 19555, 28184, 9512, 14013, 23449, 20426, 22849, 11065, 14318, 7837, 18876, 13860, 14453, 17169, 8647, 27922, 20037, 13554, 19221, 12988, 12481, 11481, 21333, 27054, 10207, 18117, 16663, 14304, 14581, 25378, 27509, 7430, 13798, 13689, 22446, 23964, 13245, 20603, 17322, 27375, 16141, 6272, 20588, 29403, 26108, 21825, 14038, 29066, 8717, 20448, 25331, 19648, 17946, 20316, 24546, 19661, 9036, 10881, 15328, 18055, 24908, 12415, 16050, 20041, 16936, 15952, 24333, 19334, 6710, 22644, 26064, 9984, 29021, 17130, 26953, 20981, 28064, 21678, 19589, 8888, 10433, 14529, 14601, 9150, 19363, 11471, 17657, 11086, 7767, 12239, 19075, 12416, 14947, 26384, 27448, 27136, 7693, 15978, 15126, 10554, 23096, 10469, 28766, 7931, 11996, 14691, 17325, 16439, 27455, 20473, 20273, 14711, 23221, 19223, 25307, 21111, 27433, 16646, 15484, 27755, 3483, 29035, 22366, 24505, 23163, 27454, 24847, 11132, 28201, 10706, 19756, 14379, 13281, 16883, 17147, 5295, 26758, 22279, 26901, 25652, 25816, 9989, 27793, 22296, 29346, 28642, 23371, 14002, 13308, 26223, 15528, 8610, 28480, 9970, 22390, 24384, 19665, 12802, 20395, 22669, 10132, 29170, 15822, 7383, 19759, 15951, 17789, 15721, 27361, 14992, 26679, 9902, 21689, 9003, 28117, 18890, 17580, 14791, 16679, 14448, 13157, 18661, 20096, 20201, 9576, 18792, 11920, 9793, 28947, 8078, 11009, 25374, 5797, 9482, 16898, 8517, 8804, 24254, 29335, 10361, 17468, 27435, 27173, 13031, 14527, 11811, 20488, 20676, 26583, 16337, 26931, 23448, 15123, 12500, 10970, 28500, 23394, 21990, 12625, 13631, 13447, 27110, 27481, 11513, 21120, 24378, 15750, 26028, 13079, 19383, 10770, 18128, 9957, 25327, 10206, 6589, 18735, 21790, 20330, 19748, 7019, 19990, 22772, 26729, 18406, 23821, 10531, 20080, 29458, 7448, 9959, 20880, 11939, 12905, 16829, 9444, 23120, 16223, 16456, 15032, 27177, 14885, 15537, 21624, 8711, 21096, 12161, 17720, 19153, 15479, 27906, 23159, 10941, 16904, 26144, 13693, 22444, 11278, 10249, 27745, 27032, 17951, 20600, 23665, 28085, 21170, 23451, 25049, 27663, 20810, 28015, 21751, 11496, 13200, 28583, 25881, 20276, 28212, 29290, 19353, 19632, 18027, 14135, 10879, 21414, 18344, 19776, 22658, 26499, 17154, 15366, 27730, 14324, 29567, 17167, 11410, 18470, 12451, 29178, 6283, 27250, 16291, 17172, 20172, 9943, 8664, 14032, 13731, 19965, 23636, 26813, 7433, 29313, 16907, 27290, 17115, 19601, 16939, 17284, 17993, 20734, 21634, 19859, 12358, 25083, 20353, 24868, 23954, 16903, 7757, 26145, 26548, 13948, 9801, 13455, 7736, 13935, 18144, 12175, 19517, 9368, 7612, 26215, 22061, 27300, 19268, 15075, 17650, 12295, 12220, 23338, 26639, 29468, 27273, 10161, 18870, 16525, 11798, 22380, 17384, 12371, 19066, 6333, 8497, 27547, 7703, 13832, 12621, 20871, 18465, 11958, 26616, 22200, 11389, 8342, 20454, 10240, 20344, 14662, 24608, 10969, 20009, 11262, 9749, 20657, 12579, 20218, 23855, 15066, 15666, 11751, 8356, 21395, 15676, 28757, 27235, 18953, 26497, 15686, 16769, 11966, 9505, 15474, 14421, 9899, 12179, 25617, 9640, 29261, 21700, 23286, 7841, 25379, 24128, 14779, 10928, 19168, 18076, 7970, 19105, 27223, 13982, 18971, 8861, 17021, 11248, 22334, 28880, 12499, 22517, 26157, 17477, 11796, 13723, 9265, 19869, 6244, 23985, 17750, 11304, 10852, 24872, 29353, 23560, 25145, 19336, 24623, 28742, 22133, 10156, 21154, 17382, 15817, 22824, 12703, 28358, 12463, 8366, 22663, 19542, 15033, 13838, 24204, 22995, 12496, 17300, 15977, 17827, 11783, 28691, 20835, 28121, 27035, 22121, 16490, 15941, 20331, 18265, 23466, 13744, 22900, 6189, 20222, 7434, 11275, 23280, 29460, 28921, 18293, 23185, 27811, 19732, 24670, 20022, 16088, 18329, 9176, 19780, 21055, 15301, 22313, 9601, 18806, 14420, 10171, 13984, 21711, 27540, 19898, 6785, 28215, 29401, 18001, 28911, 7439, 8734, 14400, 12660, 26179, 9929, 13977, 11170, 20924, 23824, 28474, 23896, 17614, 22966, 12404, 16786, 23905, 13641, 17676, 11782, 12639, 8960, 10134, 11470, 8938, 14653, 21280, 9083, 23858, 14694, 22957, 7918, 15714, 18355, 18231, 23644, 24590, 28247, 26573, 18912, 16881, 26700, 12662, 8120, 19996, 21927, 26779, 20517, 28161, 20082, 21451, 22400, 19554, 22659, 5707, 8792, 22739, 24028, 17828, 24599, 25164, 12306, 23664, 17753, 15855, 26633, 26755, 18919, 23554, 10360, 19473, 21255, 11723, 22686, 22153, 26569, 17779, 16561, 11729, 15202, 17975, 20655, 14330, 7991, 27519, 20369, 26878, 12676, 23553, 18614, 19724, 23391, 21209, 26452, 18271, 13081, 27111, 27034, 16438, 22095, 21194, 28653, 14672, 9195, 9027, 9042, 22611, 26720, 20612, 21998, 26535, 17471, 26220, 15927, 12542, 14462, 27871, 19284, 11280, 22128, 7546, 11571, 15198, 13298, 22085, 16099, 25547, 10192, 11668, 17722, 19958, 11413, 18116, 14456, 14427, 28432, 10080, 17008, 17049, 15019, 22271, 22097, 18894, 22858, 22870, 14682, 10950, 9836, 11462, 12677, 13848, 24947, 27858, 21191, 10538, 23240, 18892, 17773, 10312, 24659, 28520, 16131, 4893, 20914, 18126, 23037, 17566, 13507, 17692, 11947, 19590, 13227, 8006, 26229, 13682, 12651, 9618, 18226, 25687, 12568, 19443, 15486, 24920, 27754, 24451, 24224, 9332, 23179, 22586, 21097, 8359, 22759, 19464, 25137, 18130, 9939, 11623, 10657, 16319, 19937, 14652, 20338, 24279, 18141, 27559, 18036, 12209, 18309, 13155, 27846, 25484, 18045, 27997, 22098, 24236, 25828, 23049, 9157, 14094, 6324, 27446, 25992, 21556, 8172, 20289, 23671, 8928, 13325, 19964, 11824, 20840, 11421, 10828, 19366, 21815, 26472, 25930, 11526, 8090, 10714, 6367, 18873, 23968, 14077, 9418, 28168, 20570, 13235, 13902, 15524, 13324, 16276, 21690, 22945, 25891, 9024, 14696, 8176, 15801, 15226, 28208, 8781, 12764, 16768, 13670, 14365, 17690, 18567, 27809, 20432, 5713, 6311, 17331, 17257, 16865, 20242, 12907, 5945, 9921, 19837, 10555, 21530, 21883, 28388, 27401, 11690, 16789, 7463, 23976, 12909, 16191, 28645, 13359, 25291, 28820, 16966, 4891, 27839, 8396, 23266, 17234, 21621, 18264, 28100, 12140, 24112, 13758, 12003, 22078, 11626, 6417, 29096, 12049, 13391, 28547, 11171, 15699, 27529, 15325, 22535, 11337, 17706, 10691, 22916, 19053, 21251, 27914, 19143, 20275, 18483, 7261, 16370, 18754, 11609, 16390, 21760, 10082, 22825, 28308, 8858, 13252, 23704, 18992, 15443, 19025, 21670, 27647, 10331, 13736, 29408, 17381, 16197, 23585, 25820, 26096, 15308, 22172, 24685, 19728, 22962, 19401, 10512, 18092, 28977, 15562, 12383, 14742, 25624, 15024, 11956, 21128, 22844, 19278, 19159, 25761, 16260, 27681, 14588, 10456, 17163, 16037, 20416, 18598, 15391, 14236, 15360, 13899, 19530, 10503, 15896, 29304, 11962, 17715, 18704, 11342, 25818, 7445, 6573, 21356, 14235, 26227, 17145, 12555, 26702, 25470, 17833, 19777, 20561, 26672, 27329, 18527, 21165, 16795, 19225, 12845, 11298, 26612, 7569, 19112, 23884, 8427, 10289, 12360, 23965, 27297, 17800, 17640, 17823, 23714, 19428, 27756, 16203, 20692, 11761, 24779, 21706, 11077, 14640, 26888, 28771, 23534, 7994, 21370, 16857, 24299, 19729, 16082, 12583, 22780, 18181, 27804, 11713, 24146, 15812, 21903, 28370, 24239, 24802, 12449, 13672, 11608, 18171, 22692, 11985, 12834, 24044, 19194, 21776, 16455, 4250, 9217, 11010, 10307, 14224, 10049, 18848, 11464, 25880, 18986, 23653, 13394, 25854, 18292, 19176, 20509, 28375, 12751, 21866, 23902, 26619, 22722, 23666, 24196, 10884, 19525, 10824, 21669, 21834, 22570, 15211, 14933, 7239, 16096, 26918, 9172, 10656, 27391, 28407, 17510, 24718, 19028, 23725, 18517, 23024, 20099, 18854, 18371, 20911, 28233, 18860, 16640, 26137, 11777, 20277, 21203, 28344, 6966, 10775, 8895, 20148, 14517, 24449, 13497, 28844, 13071, 22148, 19840, 20571, 19598, 11162, 26122, 21343, 29311, 16647, 22206, 23147, 11257, 21873, 26125, 13623, 8728, 10068, 28406, 22285, 27352, 16554, 22031, 28249, 14934, 25953, 28166, 6978, 23229, 14660, 18327, 21103, 13518, 19091, 21295, 14308, 11050, 20084, 20208, 14607, 9037, 23004, 27842, 21082, 15623, 12147, 27851, 20933, 19349, 25847, 14836, 19551, 12558, 10398, 21865, 13957, 13825, 12582, 16116, 14632, 28217, 27330, 14968, 28298, 23707, 21112, 19390, 26658, 8334, 16158, 11760, 25096, 18082, 11242, 28893, 16374, 9225, 21553, 16842, 18301, 10991, 15516, 21932, 24554, 8965, 12946, 11673, 10625, 9923, 23313, 17936, 23072, 21787, 12953, 24664, 9177, 17765, 27791, 28491, 24135, 12199, 27155, 15018, 18683, 24836, 13163, 17283, 14463, 22853, 20345, 11764, 11804, 11994, 19452, 24392, 8863, 23967, 16164, 28865, 9290, 13415, 9248, 7259, 15165, 24742, 26203, 26094, 20336, 8933, 15720, 22735, 11845, 11592, 29160, 25946, 15448, 23942, 18982, 15974, 10170, 15795, 18968, 19640, 24315, 14824, 15747, 26514, 3879, 8733, 8634, 25971, 15378, 21511, 10271, 20150, 8492, 26715, 17893, 26477, 13002, 9913, 23384, 16362, 15260, 25175, 26585, 14584, 27421, 8784, 13030, 10508, 14294, 14683, 25486, 19145, 20533, 28674, 19987, 25835, 16760, 13413, 15702, 10212, 16184, 29420, 27341, 12081, 22009, 18241, 9782, 13906, 10482, 23596, 13116, 8921, 25142, 17482, 7364, 18756, 14339, 15444, 10304, 21068, 28470, 13785, 22472, 11599, 7024, 22563, 16133, 25851, 11096, 15256, 17009, 10931, 13679, 27953, 14302, 11121, 11820, 23868, 11556, 8639, 26914, 16056, 6616, 25666, 14145, 29325, 14153, 20576, 24200, 12013, 25126, 28651, 22405, 22516, 21020, 18984, 23589, 17972, 15044, 28158, 15786, 19415, 20902, 26935, 11161, 8340, 15777, 26302, 12645, 18014, 27314, 21270, 19874, 17989, 29378, 25568, 19032, 29354, 20749, 11270, 18343, 22818, 13941, 20518, 18472, 23545, 9301, 18212, 21807, 12311, 12215, 20168, 19642, 13174, 24324, 27798, 21551, 16036, 9720, 28938, 24939, 14381, 11076, 9688, 17605, 7056, 9674, 26680, 15310, 29561, 18010, 12132, 12229, 11193, 16329, 12286, 14697, 19826, 21938, 25929, 11167, 13456, 24216, 13414, 10387, 16708, 23002, 12111, 24019, 15483, 25979, 26638, 23668, 17051, 25995, 12159, 28662, 13136, 29550, 12127, 16909, 10558, 19382, 24821, 24586, 18185, 20526, 8149, 17314, 16465, 21279, 11152, 18905, 26089, 13280, 21438, 20021, 19373, 24807, 28693, 23347, 19244, 13849, 8111, 20401, 13991, 8140, 14936, 8271, 13140, 12712, 13319, 11542, 25964, 13658, 12010, 18621, 23678, 13814, 10688, 21940, 12001, 26044, 4123, 27172, 13253, 29014, 9401, 27457, 19095, 16123, 9635, 15527, 15261, 25205, 8968, 18936, 12426, 16391, 20531, 17308, 15891, 23795, 19919, 18123, 27423, 18194, 16864, 19448, 5960, 23956, 21799, 19224, 13795, 16252, 7362, 10679, 15223, 15862, 10410, 10150, 17146, 18569, 28574, 18398, 22913, 17291, 13080, 12749, 8748, 18575, 26435, 21022, 17730, 15244, 10829, 10584, 25931, 27767, 23058, 24888, 14009, 20352, 29426, 24918, 14702, 16119, 9664, 24610, 27222, 22537, 25949, 15285, 29445, 28967, 27957, 16625, 10011, 14759, 13766, 21698, 9070, 27564, 21944, 21854, 27203, 5629, 19000, 9198, 14434, 10601, 13925, 12413, 22190, 19900, 26630, 17296, 15079, 15622, 26475, 13810, 29266, 15742, 11803, 20677, 23617, 22577, 18593, 23033, 26127, 16835, 9780, 11425, 23355, 13358, 22156, 22037, 11617, 23193, 10129, 20774, 22163, 9110, 11384, 16236, 23918, 26996, 18273, 25480, 12756, 11245, 25316, 11199, 25650, 18184, 19052, 29235, 25916, 28998, 12094, 28519, 28497, 29288, 11150, 23337, 28732, 13628, 19208, 22346, 12223, 18935, 21878, 21436, 25325, 24750, 28333, 19174, 27260, 19237, 22136, 9056, 28875, 9066, 10432, 18654, 16279, 7503, 28799, 19227, 29072, 15971, 14500, 13144, 20028, 9076, 28421, 11535, 24269, 19140, 14569, 24581, 27802, 14483, 25046, 14647, 22612, 16800, 19885, 13649, 17043, 21494, 5861, 13965, 23575, 24748, 10570, 26269, 5868, 22012, 28573, 22803, 15650, 27964, 19111, 19257, 15605, 10522, 22922, 22167, 13562, 23106, 13611, 20931, 9534, 23757, 24538, 23222, 24178, 21207, 9494, 12896, 7762, 15715, 10786, 29020, 11437, 23938, 15668, 29496, 23411, 14790, 21701, 14986, 12620, 19602, 27336, 24572, 25505, 22805, 22542, 27474, 17061, 25150, 9193, 7765, 13267, 12976, 14563, 17611, 13601, 19175, 29583, 24337, 14455, 21452, 18542, 24913, 16532, 10872, 22513, 12994, 20314, 25355, 28041, 27854, 23826, 16541, 20709, 14059, 18869, 20011, 22440, 9548, 28124, 21026, 15748, 25069, 17282, 17452, 9665, 22486, 18874, 23493, 10795, 25485, 21332, 17654, 19691, 27287, 17358, 11029, 27556, 15408, 24561, 20670, 21087, 12410, 17156, 17120, 14649, 15218, 15160, 20814, 27153, 14216, 20747, 28014, 22909, 19949, 15710, 13650, 21762, 19766, 27206, 18552, 20216, 14610, 13552, 29350, 14342, 11458, 29425, 19556, 21804, 21291, 15368, 20366, 25623, 28838, 28527, 22512, 19376, 19001, 25066, 23728, 11466, 8956, 28821, 16282, 21244, 18350, 22875, 24161, 17516, 19545, 13226, 28937, 13886, 20716, 14218, 8199, 15274, 26364, 15040, 16039, 12584, 14594, 24187, 22453, 16288, 12037, 19286, 23875, 25088, 12813, 23783, 29276, 21654, 18902, 22742, 14515, 17579, 11260, 15687, 8375, 8683, 6760, 24465, 15025, 10119, 12122, 24186, 21590, 28524, 11386, 12624, 22229, 14559, 16919, 13454, 14948, 28552, 17562, 14979, 16869, 19356, 21268, 8947, 11903, 11911, 14484, 24699, 15840, 22412, 17168, 21407, 12085, 24031, 26520, 16009, 12025, 13123, 8538, 29320, 25106, 27425, 24846, 27766, 23138, 17610, 28526, 13361, 22837, 17017, 23146, 16427, 11026, 26171, 12861, 24268, 21967, 24987, 29130, 29295, 13889, 11724, 14043, 13305, 17289, 23468, 13090, 20478, 8374, 21527, 16144, 11794, 10801, 24694, 23881, 17699, 13565, 26963, 27541, 13949, 28628, 24558, 17515, 10724, 21514, 28239, 16193, 19769, 24048, 18379, 12626, 18649, 10510, 10481, 20610, 13219, 8451, 22762, 25524, 28715, 21424, 27861, 15570, 23886, 18251, 15322, 26850, 21707, 17870, 19299, 22457, 23948, 15319, 17535, 9931, 25794, 19298, 18910, 18931, 22710, 10044, 23681, 7202, 20063, 20497, 19672, 27443, 22150, 22691, 17279, 13424, 17749, 14975, 25882, 16638, 22556, 22107, 19612, 9999, 13614, 20038, 17689, 21492, 17232, 17636, 27737, 15070, 21737, 15739, 12460, 28458, 8431, 28450, 14727, 16079, 25691, 15587, 20384, 20899, 11445, 5015, 15320, 27649, 11517, 15888, 14547, 13884, 23645, 24493, 12782, 18221, 19664, 7544, 19202, 15793, 22322, 18497, 12674, 13556, 16468, 25943, 15331, 23351, 28569, 17652, 12245, 15792, 10774, 10773, 14129, 19749, 8855, 17213, 23990, 23700, 28292, 11205, 22079, 29494, 13407, 21880, 26549, 29205, 25492, 22689, 24989, 14786, 23127, 17949, 10731, 20542, 8656, 23941, 27697, 19186, 22082, 26646, 24421, 26467, 25864, 21045, 26476, 16581, 9868, 15787, 29242, 21177, 22222, 24399, 12552, 15638, 16855, 21817, 12498, 18173, 17592, 26831, 21149, 17066, 17623, 16704, 23078, 21172, 12605, 19999, 26880, 17423, 17948, 25837, 11769, 24220, 13905, 26653, 27503, 9571, 14207, 24860, 29440, 15292, 29554, 22197, 21106, 27366, 24906, 18525, 23356, 18236, 17116, 18469, 24113, 26007, 14835, 16404, 27399, 25121, 23074, 23933, 18807, 24511, 11977, 9838, 26731, 17945, 18262, 19018, 10937, 18691, 23152, 12627, 24724, 15548, 20193, 27785, 23189, 27758, 12888, 13959, 14597, 11148, 7745, 19490, 27673, 14809, 27000, 16249, 18192, 15555, 9730, 8852, 22221, 11482, 13389, 17757, 14190, 14221, 19411, 12819, 19650, 14730, 19902, 8914, 23288, 10977, 21837, 15405, 19907, 18786, 27558, 23399, 3175, 14248, 13725, 27965, 27169, 12897, 15064, 17982, 22784, 22969, 15425, 11277, 25647, 15103, 9216, 12539, 22550, 15154, 13166, 13989, 11282, 9840, 27550, 28179, 11884, 9858, 13655, 27584, 26647, 25174, 26415, 15246, 15936, 22359, 10269, 21718, 12338, 13326, 12838, 28297, 21250, 25567, 11312, 21359, 8409, 29577, 7707, 22072, 26691, 18135, 17619, 19973, 23657, 29545, 26275, 26576, 12262, 19318, 21192, 18217, 18618, 18093, 24439, 22555, 27031, 15625, 16074, 17489, 26604, 22467, 15353, 13491, 16877, 9632, 22848, 16290, 6257, 26869, 24762, 28681, 25165, 17878, 16522, 17016, 21931, 22666, 27296, 24617, 8105, 9395, 21970, 27013, 11164, 23724, 8420, 14109, 23765, 25370, 22005, 29047, 19798, 17082, 18844, 14509, 18158, 14024, 25171, 27212, 17460, 26069, 8976, 19582, 9758, 24943, 7034, 20170, 27122, 14152, 27029, 19147, 10138, 13015, 18718, 14512, 25921, 27747, 26972, 18397, 13879, 19042, 26777, 22054, 23029, 22645, 22785, 11125, 25506, 23300, 10700, 24569, 16067, 5969, 19980, 18266, 17674, 27362, 14717, 13632, 13904, 26950, 27917, 18930, 23544, 7509, 12595, 12915, 10148, 27346, 20693, 16272, 21637, 9208, 19440, 21641, 10303, 12347, 12831, 9158, 17509, 27430, 18050, 11040, 19347, 15790, 21147, 14249, 23775, 18789, 18965, 13206, 22491, 11317, 28665, 13317, 28789, 18920, 25997, 8666, 11294, 25024, 16806, 18993, 13985, 9960, 21413, 23972, 11184, 16667, 26788, 10778, 14393, 19432, 15468, 25210, 15633, 10998, 11857, 20771, 22228, 16235, 20625, 22781, 19166, 22046, 20838, 15809, 16897, 24644, 21899, 28957, 11284, 25848, 25890, 27086, 22223, 27219, 17786, 11019, 17223, 15317, 14514, 27475, 16069, 22680, 19630, 27934, 29137, 12975, 27824, 21238, 23382, 14228, 25725, 14481, 5330, 29034, 12727, 22224, 14725, 13762, 24456, 23019, 19675, 15253, 15433, 19282, 21708, 18883, 15175, 4582, 14737, 9668, 21014, 18186, 10511, 12393, 14022, 20773, 29522, 18122, 20030, 11646, 11846, 21021, 25770, 23361, 15670, 29174, 22268, 16015, 25677, 16529, 14229, 27052, 18211, 20467, 11430, 23413, 20307, 26098, 18304, 8047, 27805, 15047, 10642, 13579, 12600, 13055, 20007, 27729, 23332, 24212, 19292, 24076, 27867, 15287, 21190, 14783, 13779, 24205, 26727, 28835, 14884, 21348, 21800, 21301, 18837, 12164, 26587, 11894, 16388, 22765, 17772, 28738, 27017, 11830, 9712, 17729, 25738, 26957, 14612, 21321, 15705, 28748, 12124, 18550, 12750, 21988, 21066, 26366, 12914, 19012, 26300, 17148, 10815, 28272, 12578, 10685, 21104, 18328, 19655, 24663, 25684, 12597, 10761, 12397, 15733, 17096, 14337, 18056, 11024, 8580, 15234, 21253, 26362, 23191, 18694, 9460, 16312, 9981, 6596, 28414, 18689, 29349, 14880, 15921, 25136, 22435, 10041, 28277, 17831, 18074, 25549, 11593, 27982, 28087, 25502, 7771, 23638, 11810, 13208, 17756, 21617, 20779, 7342, 24104, 25899, 25013, 13708, 26091, 23597, 14169, 25489, 21286, 27604, 24787, 28225, 18167, 23729, 18707, 9443, 29046, 23275, 9802, 23421, 15217, 23433, 27537, 16076, 25236, 13188, 13111, 20457, 29438, 16400, 29211, 17889, 20805, 25876, 26073, 7791, 12307, 26006, 11391, 28067, 11237, 8475, 10391, 18474, 21329, 18383, 24118, 21265, 13141, 22497, 26325, 21121, 21205, 26711, 11953, 28331, 28822, 13501, 15997, 29094, 7278, 27198, 18339, 26164, 19908, 26256, 16893, 9522, 17184, 21598, 22885, 27147, 15111, 18880, 23577, 16218, 25335, 23642, 28768, 10008, 14619, 21220, 12506, 15551, 15107, 22105, 21305, 24686, 17992, 15834, 17195, 23113, 14862, 26406, 11745, 8230, 25358, 26810, 29605, 18541, 17239, 21859, 28242, 13129, 12780, 10832, 16788, 18203, 11523, 12575, 28685, 8369, 11191, 15248, 22687, 14351, 16673, 29040, 12255, 28468, 20837, 10417, 8896, 28709, 27918, 13850, 24193, 11999, 13049, 21909, 7498, 19813, 24370, 27279, 19543, 28648, 13196, 14419, 17302, 13487, 25620, 17107, 15432, 18336, 13488, 21702, 26492, 19911, 23087, 19654, 25866, 25264, 26465, 16219, 12427, 22944, 9503, 29236, 21571, 12684, 8986, 13034, 14196, 7086, 10133, 21411, 10123, 13401, 19144, 14073, 28764, 29530, 24720, 22399, 24265, 18573, 19369, 8786, 8511, 24534, 20365, 12529, 20557, 20386, 14103, 12063, 22688, 24823, 17505, 18522, 18881, 21470, 20635, 20551, 14377, 20808, 26211, 25196, 15667, 27895, 13291, 11786, 20489, 25239, 10934, 12791, 12387, 24788, 15976, 20033, 13678, 25230, 15257, 26981, 27157, 27500, 20585, 11064, 12240, 10692, 25201, 15619, 22371, 19574, 11017, 12134, 20997, 11357, 12110, 29197, 17435, 8696, 28477, 7418, 22342, 11497, 22751, 23415, 16775, 13877, 17888, 13968, 26699, 13083, 28951, 20769, 12424, 20913, 13980, 27549, 21561, 20785, 28806, 15837, 13809, 15828, 28418, 14349, 29254, 13011, 17272, 26644, 26208, 13830, 15278, 13947, 22949, 17575, 11533, 14532, 26910, 28736, 28492, 27135, 15109, 25055, 8672, 15618, 24199, 21224, 22309, 15280, 26703, 18031, 18362, 12686, 21151, 14299, 18332, 17529, 21160, 20101, 27347, 11797, 25977, 15264, 19552, 22217, 14166, 11886, 13915, 16837, 23125, 13654, 23660, 20815, 20462, 28909, 16854, 16970, 17108, 15205, 17593, 13748, 10588, 26116, 10520, 21615, 18425, 14537, 19148, 28553, 21083, 22304, 26834, 23309, 20754, 20171, 10989, 27928, 26791, 26757, 26162, 29576, 13036, 23328, 22842, 18594, 11070, 28891, 18485, 12116, 12856, 28980, 25357, 28676, 20102, 11931, 19118, 22265, 15788, 26762, 15236, 15935, 17001, 25437, 14953, 14112, 10858, 12513, 11929, 13214, 21508, 24201, 21034, 24907, 18246, 16843, 20313, 25286, 27221, 17033, 11426, 16230, 21375, 11807, 14792, 17109, 23901, 21785, 21426, 15846, 7508, 25858, 22637, 29475, 27129, 27518, 18244, 13388, 26053, 23987, 10430, 24474, 10241, 18660, 10302, 11098, 24012, 17791, 22850, 18417, 13577, 22719, 16696, 24168, 12152, 22159, 14307, 10160, 23439, 29543, 8682, 18437, 26992, 20701, 27913, 28969, 18588, 9817, 12234, 19087, 24521, 15423, 23358, 17711, 20973, 23407, 21904, 26068, 14687, 9162, 21388, 24365, 8253, 15096, 9538, 28033, 19313, 15093, 24448, 9995, 11715, 19104, 28575, 19643, 19926, 13437, 27907, 13607, 13846, 28000, 22878, 15354, 21074, 12018, 16963, 16741, 22155, 27773, 17238, 28992, 24372, 21223, 26082, 18032, 23839, 21997, 28536, 7990, 15447, 20067, 18747, 22655, 24884, 12841, 28943, 17248, 15845, 20667, 16328, 11950, 3704, 17521, 16751, 21636, 23232, 19113, 23319, 17713, 24162, 15466, 7491, 13076, 23322, 12080, 26965, 19069, 17947, 16418, 21153, 21659, 20146, 25182, 21340, 15576, 23046, 26358, 29025, 12892, 21947, 16875, 27394, 13470, 20412, 14188, 15304, 21294, 17995, 25988, 11492, 20597, 20441, 8383, 10323, 13573, 18758, 22297, 10591, 19010, 19408, 23873, 16213, 20908, 23308, 13973, 25336, 13916, 26148, 29118, 17155, 16747, 27923, 19753, 19811, 19107, 18611, 10204, 20074, 20225, 26217, 21779, 12989, 13835, 17681, 23599, 10680, 23950, 28897, 10233, 10926, 15531, 12112, 19254, 27966, 28008, 23098, 13712, 26570, 17458, 18409, 11833, 21692, 18871, 14522, 18490, 17933, 25990, 21206, 29027, 16507, 20376, 22671, 20236, 22912, 18492, 20434, 9717, 22006, 29292, 11653, 5756, 18768, 21331, 22609, 28703, 14431, 15426, 22585, 20157, 11053, 14851, 12268, 26411, 20451, 19608, 17973, 19855, 22984, 15766, 10689, 24862, 26103, 14315, 27196, 13969, 13890, 10982, 27023, 19717, 15159, 16354, 11978, 18481, 10407, 25466, 25765, 25184, 15761, 20592, 14333, 13429, 27226, 17931, 22230, 29600, 10475, 24758, 26732, 27566, 17525, 13784, 21694, 21328, 24502, 23264, 18208, 9813, 25993, 26990, 24079, 15624, 13346, 17320, 22364, 6237, 13616, 25323, 15456, 17216, 21374, 10635, 9213, 14019, 28300, 12249, 10916, 26966, 17808, 19479, 21735, 16656, 18085, 22303, 19302, 12535, 22375, 17962, 19503, 22056, 17840, 18790, 14929, 24373, 17390, 25803, 14325, 12351, 10414, 27543, 22832, 15336, 15108, 29509, 16411, 15272, 18627, 25313, 27083, 12512, 19050, 12924, 17853, 17737, 10075, 28636, 24504, 17247, 12354, 23705, 18925, 27044, 10344, 14106, 23805, 18463, 26022, 24328, 10913, 14755, 16372, 14539, 21560, 29507, 22437, 25217, 22559, 12059, 12534, 26808, 20935, 15781, 16586, 13376, 20288, 19578, 26756, 20169, 9094, 21991, 20975, 26048, 27306, 15830, 11218, 17449, 8234, 15438, 11866, 29552, 19694, 13328, 25583, 20260, 27578, 13516, 27724, 14510, 26597, 28335, 18006, 4362, 16104, 16274, 26742, 22174, 12787, 26768, 25152, 12438, 17553, 21545, 25804, 15692, 25472, 21660, 17466, 8262, 15652, 22635, 14650, 19161, 29268, 14560, 11151, 25975, 25221, 23995, 20719, 22205, 13380, 10110, 11448, 25902, 19414, 26764, 22607, 23910, 26172, 12009, 24940, 26332, 13997, 24764, 15682, 15309, 8098, 27238, 10330, 19710, 19082, 22990, 17591, 16669, 26146, 15883, 10298, 24151, 26397, 28386, 15791, 23529, 23510, 18805, 23246, 29532, 16827, 23200, 15521, 22289, 9166, 19605, 7204, 16894, 10865, 24791, 20112, 13645, 14551, 25966, 23932, 13839, 16563, 25081, 22162, 19187, 11688, 23501, 24719, 27840, 17664, 17507, 26315, 24484, 14624, 26792, 14822, 10612, 25425, 11166, 11063, 14951, 14941, 16908, 13505, 9473, 17303, 24122, 21869, 24898, 18850, 15393, 27018, 9775, 15983, 12296, 25337, 13561, 11710, 13182, 14598, 21038, 15677, 21277, 14712, 11697, 27451, 15610, 12741, 14990, 16791, 10844, 25592, 16524, 19846, 28790, 18352, 10012, 23065, 7769, 17005, 28457, 18091, 15730, 27783, 21937, 20602, 23559, 23693, 16055, 18946, 23847, 13397, 18337, 16753, 9562, 26160, 12986, 16155, 23279, 22023, 26416, 18416, 13598, 22617, 13282, 15663, 16488, 28285, 18431, 11805, 16547, 14645, 15355, 18073, 21258, 25120, 18885, 21242, 9973, 25596, 25352, 28062, 11120, 28618, 26866, 16228, 14314, 12894, 17544, 11858, 29399, 27164, 28986, 19154, 27317, 15326, 18625, 21077, 15712, 17882, 15051, 24009, 12628, 21682, 15662, 6408, 22814, 22531, 23867, 10337, 22481, 13620, 20230, 22786, 29606, 24767, 9848, 19522, 15446, 8614, 11759, 19994, 16623, 11116, 20373, 22982, 17778, 19061, 21182, 20722, 20025, 20987, 19597, 26675, 24070, 26403, 20189, 29390, 23598, 24447, 26763, 25599, 24259, 24462, 19587, 23641, 13040, 16323, 27958, 14069, 23153, 25896, 8755, 17102, 24256, 19913, 29154, 15659, 18948, 26372, 27397, 24518, 17292, 12522, 26877, 9652, 15377, 21924, 25288, 28130, 24729, 15981, 24633, 17734, 24067, 28868, 22750, 9204, 24074, 23790, 24716, 16549, 23781, 16633, 28397, 18322, 13406, 15743, 11605, 16572, 29330, 19670, 23345, 22927, 19045, 28702, 22353, 12429, 20628, 14896, 21686, 10999, 12545, 14852, 26635, 13745, 20797, 7111, 22262, 17497, 15565, 13903, 9149, 16668, 25958, 19781, 16332, 25057, 16695, 26960, 22893, 26390, 20485, 23521, 27976, 21591, 10946, 17918, 28322, 15469, 24808, 12400, 16707, 20859, 26860, 17590, 26106, 13778, 15823, 10870, 27091, 13439, 7963, 15462, 23916, 20406, 20604, 19139, 13604, 26337, 16000, 22929, 19047, 11547, 23552, 19588, 26522, 18632, 23630, 19995, 19096, 14139, 25252, 12566, 8142, 16818, 23812, 27107, 28125, 28118, 18145, 24100, 22978, 13199, 14254, 10309, 11250, 15870, 18396, 22182, 15988, 17618, 20633, 8719, 26418, 18985, 15487, 14204, 18566, 23375, 11965, 19089, 12633, 18829, 21390, 28442, 18386, 16226, 11415, 15588, 17780, 15784, 23648, 24103, 12865, 16126, 17723, 11295, 15021, 22713, 27894, 10235, 24619, 25127, 17642, 23562, 23036, 23077, 23428, 15071, 13056, 29270, 26242, 26480, 27637, 16564, 28036, 22623, 24996, 15539, 16697, 14782, 12716, 28280, 24464, 12074, 23834, 25951, 19256, 19426, 11995, 17988, 26722, 9641, 16917, 16441, 15371, 18944, 25406, 25553, 19451, 22180, 27138, 17217, 12309, 26661, 22158, 22013, 17797, 13411, 17098, 29051, 11217, 27546, 15442, 14040, 20163, 19416, 12730, 21951, 12337, 11364, 12632, 24930, 24818, 18563, 25893, 18761, 8935, 20397, 17501, 16534, 25467, 16100, 17197, 25796, 13485, 18828, 23803, 13815, 16461, 19152, 14765, 20957, 18314, 10579, 15067, 22070, 16813, 17398, 15339, 27493, 21916, 13940, 15056, 17091, 18793, 11776, 18836, 19228, 29560, 27789, 23123, 14131, 12518, 25577, 22040, 27274, 26131, 20215, 20742, 18662, 16777, 27763, 10145, 10034, 18725, 13885, 21614, 21300, 7724, 18453, 27554, 29328, 18359, 16424, 22518, 24238, 11309, 27004, 20538, 15815, 29058, 28170, 25556, 28647, 17759, 24988, 15101, 17386, 17887, 9948, 28984, 7873, 8611, 28621, 27574, 9988, 29105, 13192, 17859, 23963, 26055, 20127, 10589, 20240, 15958, 28026, 10918, 24317, 13897, 11908, 14706, 27419, 22896, 17927, 18267, 28476, 19165, 17514, 13646, 15645, 18915, 16981, 19424, 21672, 29044, 28279, 12068, 28964, 25054, 25740, 19636, 21236, 24813, 13881, 18090, 19315, 27142, 20822, 28190, 22439, 12357, 21599, 27577, 25439, 13975, 27363, 13872, 27994, 12833, 13647, 19122, 10919, 19744, 16366, 21405, 20839, 15967, 25908, 19633, 14180, 18846, 12891, 13834, 26030, 16217, 24597, 19406, 14278, 18101, 27905, 24304, 20050, 19877, 9978, 25976, 29237, 23465, 26917, 24496, 10784, 29523, 24897, 17661, 11111, 29222, 13193, 21372, 24359, 24974, 23223, 26102, 18131, 21875, 12420, 26717, 17998, 18878, 24453, 17112, 16624, 29340, 27514, 15155, 24382, 15461, 19677, 16816, 17388, 20257, 27879, 18381, 17430, 20673, 11979, 11407, 19182, 29042, 7643, 16756, 10849, 22454, 24149, 24618, 25934, 23203, 24270, 16450, 14754, 26611, 26511, 28740, 26891, 23157, 16694, 28925, 13220, 14323, 26737, 24562, 25518, 12784, 14631, 21383, 11720, 20540, 22808, 23581, 13772, 29217, 27167, 26412, 15510, 29273, 24961, 17891, 24050, 27115, 11188, 27508, 28289, 23876, 15146, 20326, 15939, 15055, 9637, 15104, 13133, 22066, 17285, 14497, 19899, 17600, 17551, 29391, 13086, 23923, 21651, 28588, 28624, 21844, 29490, 23282, 25580, 19549, 27915, 28912, 18033, 21404, 11992, 22793, 21400, 17836, 21610, 24859, 16028, 11606, 11144, 24308, 22776, 20309, 23333, 27483, 15640, 21288, 19614, 22379, 13624, 28753, 15029, 25539, 26784, 13257, 15755, 26010, 22361, 22004, 18039, 14586, 25494, 23388, 29397, 24570, 15078, 23787, 26708, 28701, 19409, 25189, 16773, 24322, 13841, 16352, 17318, 11648, 26121, 19474, 18312, 19372, 13259, 27978, 25084, 19799, 10406, 12289, 9060, 20135, 20388, 16657, 5941, 24726, 20901, 17274, 28972, 22883, 16926, 20121, 18788, 23817, 25340, 22127, 23506, 26956, 21311, 10703, 21448, 26393, 14815, 22807, 26887, 14878, 9318, 28424, 27186, 25682, 22985, 19695, 23454, 21949, 18516, 20213, 7921, 14102, 15343, 23136, 28445, 14602, 19272, 25607, 21642, 17211, 8721, 12715, 11676, 26740, 20630, 14831, 22965, 27695, 22373, 18974, 29382, 14681, 13294, 21811, 18779, 18283, 28962, 28654, 25867, 11680, 26200, 15263, 16512, 16674, 22877, 17106, 14911, 28057, 24179, 28400, 15186, 13615, 21632, 24418, 20400, 21649, 17968, 20198, 10339, 8530, 22674, 20252, 14488, 16811, 29150, 12755, 20016, 25753, 28585, 16951, 22216, 10730, 19615, 15814, 29432, 19335, 16435, 14881, 20496, 27876, 8620, 13243, 20665, 19063, 19823, 7255, 15259, 21623, 23512, 6136, 15230, 26552, 24975, 24794, 12470, 15820, 13551, 12405, 14630, 26161, 26772, 16448, 27701, 19431, 20782, 13410, 8188, 16592, 14285, 26682, 17608, 15688, 11093, 13875, 19783, 27071, 15195, 8541, 28495, 16560, 17563, 28143, 11049, 25332, 24057, 25132, 27001, 23011, 13688, 19725, 29250, 28043, 22312, 23784, 18576, 25789, 26297, 23016, 10909, 20070, 28478, 26154, 12852, 17377, 22395, 25936, 13664, 24035, 22841, 16172, 19985, 13802, 13513, 26603, 11557, 23927, 21062, 24159, 28860, 29081, 27313, 21019, 13177, 17268, 9889, 16008, 14723, 14253, 26615, 15352, 23470, 14226, 22077, 12960, 11367, 13254, 20460, 19596, 26027, 13126, 12580, 8596, 19567, 26425, 26513, 18281, 20324, 26518, 28903, 17118, 16540, 19191, 26560, 15052, 27952, 27132, 22292, 26986, 25849, 19626, 18149, 23993, 21830, 21028, 21597, 13422, 12738, 28039, 20052, 15507, 29506, 11634, 12622, 12616, 19487, 29199, 27143, 16659, 27310, 23052, 14411, 28401, 23202, 13895, 18132, 27667, 27877, 26440, 24715, 18258, 21373, 19475, 8631, 20411, 14212, 22478, 17524, 16805, 19514, 27629, 20577, 27323, 6514, 23186, 17487, 25815, 22410, 14940, 12027, 19651, 13636, 29192, 17064, 14327, 25923, 28327, 13299, 15990, 22891, 15554, 19750, 29115, 17906, 14859, 15129, 21849, 15984, 14489, 28049, 9136, 12091, 18084, 10728, 25751, 23727, 18602, 29586, 9752, 15564, 18169, 28012, 20953, 21231, 15092, 29369, 10871, 17518, 17378, 25242, 22036, 28779, 18272, 13515, 26674, 5431, 16160, 15120, 24959, 25396, 24591, 28631, 21827, 25587, 26086, 10485, 12434, 16334, 14664, 16361, 19008, 26119, 16146, 16836, 14390, 22636, 25729, 11059, 9114, 16905, 22566, 8365, 24946, 17078, 25059, 17012, 13584, 18004, 26686, 29184, 26977, 23241, 29396, 16693, 25077, 19950, 15540, 25776, 25774, 15954, 11495, 18505, 18849, 25405, 14825, 18025, 14870, 23063, 20527, 14741, 19941, 22161, 26100, 11743, 12000, 28856, 26725, 16739, 16960, 28030, 25179, 14470, 21888, 19024, 17410, 16491, 26149, 7944, 28187, 20259, 19374, 18814, 15914, 29404, 27378, 19333, 18607, 13101, 24017, 26367, 23497, 14328, 16976, 28521, 23634, 13286, 21403, 25938, 9977, 28997, 15968, 14265, 17732, 16688, 19295, 18753, 20333, 16995, 19308, 24010, 17556, 23256, 25731, 22363, 15493, 9649, 25226, 12062, 11023, 20820, 28257, 14264, 22131, 26580, 18277, 11183, 25737, 12842, 24387, 9472, 26155, 18147, 14535, 24783, 17192, 18950, 21860, 29127, 22800, 21042, 22039, 27097, 10226, 25388, 27856, 18099, 16046, 11291, 20897, 23010, 24300, 7943, 24346, 21029, 25372, 22654, 27429, 18899, 25530, 28763, 16520, 20893, 28089, 22492, 18049, 10033, 13421, 12484, 23236, 23359, 19538, 9082, 16533, 19397, 8967, 14170, 27486, 19559, 8806, 21513, 14718, 17602, 25277, 23463, 28235, 24360, 25809, 14673, 24228, 24323, 14810, 19733, 25591, 21474, 16194, 12724, 17304, 29470, 25764, 27588, 18222, 29342, 14052, 26225, 13255, 18830, 14913, 21699, 16637, 22538, 19625, 16349, 12270, 28978, 23823, 8936, 11984, 12757, 29437, 14282, 21953, 22332, 22427, 28922, 28307, 26539, 29379, 18057, 29116, 17930, 16075, 24320, 19945, 29595, 27476, 28910, 16210, 17559, 19327, 23441, 16271, 16239, 21952, 11843, 17639, 16179, 25888, 6797, 26251, 24180, 16495, 21773, 22220, 12933, 23154, 25895, 23594, 27624, 23620, 27307, 26124, 14371, 23069, 13363, 25853, 9134, 17508, 12855, 27466, 29240, 26151, 24634, 20854, 10045, 18156, 17925, 25364, 28113, 16321, 26346, 22029, 18254, 9600, 7220, 21299, 27890, 24542, 15940, 27831, 27932, 24977, 29321, 27324, 27986, 13446, 19943, 27045, 17810, 16273, 28599, 28968, 20349, 16297, 18690, 28663, 27149, 13789, 10971, 12925, 24480, 17500, 12169, 10363, 17805, 16841, 16779, 18973, 17784, 26623, 14923, 23022, 18509, 22942, 22583, 19360, 19558, 16331, 28081, 28850, 25130, 20928, 26228, 10948, 19757, 25163, 10546, 23747, 20292, 22568, 11682, 21993, 18473, 8979, 12940, 19810, 22933, 29316, 18703, 21459, 23906, 26712, 26774, 16376, 16242, 16866, 21421, 12966, 16073, 19493, 22348, 27652, 20986, 11613, 23302, 17069, 24105, 18562, 20484, 24393, 17221, 19705, 10853, 18308, 17550, 26474, 15992, 18695, 27935, 23044, 29418, 27271, 28772, 16443, 27137, 14042, 9860, 27012, 14596, 17124, 16562, 14789, 20729, 24882, 13612, 20645, 19775, 29017, 9315, 24115, 13273, 29338, 21966, 18286, 19164, 16845, 19218, 22683, 22626, 18774, 22213, 22189, 27985, 15496, 21310, 28244, 18432, 29161, 20638, 11299, 26432, 17450, 22092, 26239, 20232, 19534, 27161, 28717, 8678, 14577, 22252, 13733, 17693, 25773, 16878, 23484, 25490, 20619, 22290, 13572, 21142, 17873, 24904, 16701, 20105, 24018, 17659, 12008, 28065, 18187, 25158, 20946, 27696, 26650, 4046, 20731, 21936, 26671, 19509, 11044, 13673, 27246, 17246, 20227, 25341, 19178, 23983, 18443, 20433, 11369, 13817, 10248, 28614, 26652, 17346, 17171, 26811, 19886, 18502, 26252, 17335, 26434, 28934, 22396, 24822, 28310, 20745, 25036, 18023, 28255, 10883, 23255, 26912, 12445, 27817, 20721, 22241, 25857, 25499, 9638, 16414, 22541, 27818, 27612, 24369, 22227, 16589, 20379, 24177, 29028, 9845, 7907, 14076, 23622, 22914, 27544, 29158, 18556, 24336, 29462, 25903, 16973, 21959, 18230, 11986, 25289, 23014, 19727, 27857, 20795, 16212, 19889, 20845, 13256, 14898, 20430, 16780, 28350, 24890, 8726, 24305, 24691, 24286, 26656, 24244, 23400, 22829, 23626, 12272, 11964, 22226, 23650, 9791, 24896, 16410, 10547, 15611, 18508, 11654, 24589, 24793, 18904, 20068, 16574, 27022, 15048, 7839, 13018, 21283, 22338, 13263, 16737, 27505, 13939, 17187, 20387, 29308, 29483, 27326, 24485, 14713, 16145, 9847, 26304, 27715, 17349, 17581, 20725, 19212, 19938, 19297, 15467, 22892, 17105, 14385, 26327, 24766, 15039, 15732, 22854, 3184, 20552, 18592, 28770, 17039, 18063, 22179, 24280, 12301, 20161, 26655, 15886, 18393, 27726, 14208, 19260, 29030, 23357, 16190, 10062, 13504, 11175, 25824, 19438, 24401, 15427, 25443, 24277, 15706, 22734, 16384, 27628, 24962, 20181, 13119, 25800, 26129, 21643, 17301, 14781, 28467, 18210, 28077, 26613, 23372, 14845, 16316, 14360, 25927, 27382, 10164, 18987, 21526, 11315, 28171, 24838, 27862, 9828, 13370, 14648, 27674, 24579, 20206, 15567, 19828, 8371, 15746, 23192, 27567, 21089, 21080, 15037, 17940, 28988, 28901, 27693, 27420, 13041, 11879, 14641, 22706, 29099, 22177, 23342, 21063, 20152, 29591, 13575, 19343, 17242, 13023, 16580, 22895, 25597, 26872, 24287, 24349, 28675, 22664, 26663, 22724, 7002, 17863, 24483, 13961, 13652, 14063, 21467, 8533, 15364, 8607, 14579, 6639, 9799, 28809, 17262, 17348, 17185, 13952, 14274, 13009, 28399, 10185, 28857, 23481, 24005, 17724, 25638, 18535, 27622, 12806, 19953, 24834, 21460, 25418, 9492, 20883, 13546, 15520, 21078, 17990, 13737, 17165, 27819, 16826, 23573, 19850, 27925, 14225, 16672, 15499, 16645, 17655, 23440, 23250, 12872, 24016, 25001, 28304, 20162, 19291, 25413, 15008, 15296, 22116, 16698, 24419, 21107, 20293, 9008, 18486, 27897, 25829, 14368, 23507, 21133, 25065, 17855, 15167, 23516, 17861, 18421, 28275, 27485, 6507, 28539, 20286, 13466, 27319, 23699, 24307, 21148, 12180, 26398, 15771, 23201, 19854, 17276, 19004, 24075, 26759, 24249, 14096, 13660, 26409, 20999, 17162, 12790, 24672, 16608, 26206, 24116, 29472, 27187, 12918, 28841, 20188, 29508, 11881, 13831, 28747, 8173, 12128, 28252, 23023, 19518, 21506, 22928, 22728, 6780, 20801, 18451, 11267, 14642, 28827, 19659, 22154, 22236, 10183, 17672, 21912, 17504, 14070, 21602, 27027, 28408, 26581, 19649, 21483, 26575, 15269, 19468, 26303, 21658, 26067, 29439, 28006, 28803, 18769, 27946, 11874, 25304, 23862, 19571, 28886, 12619, 29190, 10716, 13821, 25434, 26245, 18214, 22108, 23779, 8537, 9357, 27384, 22768, 11801, 21457, 20089, 15013, 12092, 10492, 16758, 24246, 14222, 17031, 9194, 25362, 29556, 17179, 16979, 19114, 29444, 24181, 29232, 23459, 18975, 13107, 18918, 17334, 25569, 25458, 28219, 22976, 20583, 29095, 17895, 21406, 16851, 24703, 27085, 19038, 21930, 24889, 28051, 10707, 18746, 28760, 14926, 18391, 24069, 19084, 16890, 11755, 17015, 18983, 26525, 14407, 23436, 20695, 20728, 17679, 14220, 17526, 28956, 20990, 23257, 17583, 15674, 17400, 23772, 22051, 28230, 13519, 17915, 9976, 22198, 26968, 12729, 17754, 15566, 21764, 13603, 16139, 6682, 8705, 19931, 29434, 25367, 25445, 16929, 24036, 28380, 24211, 23740, 29097, 23027, 20359, 24601, 16382, 13998, 25787, 20270, 19541, 14657, 19127, 23991, 14288, 27359, 15128, 25721, 15989, 22908, 25594, 24771, 15014, 29083, 19546, 20184, 13283, 15311, 28851, 22067, 28376, 26058, 28558, 16870, 18035, 11323, 27659, 12866, 23702, 25115, 29053, 27299, 24853, 14029, 15533, 27131, 10678, 15197, 26911, 16496, 27602, 17494, 18832, 24585, 25883, 9928, 27229, 13898, 18338, 23830, 16553, 22880, 17646, 20076, 16040, 24058, 17019, 12551, 28678, 9437, 22622, 25906, 21027, 27874, 26508, 22675, 27093, 20699, 28592, 24775, 19385, 17548, 23213, 19039, 21548, 18545, 25965, 28229, 17862, 15513, 20417, 25840, 11600, 12903, 24152, 22003, 27561, 19916, 28267, 16543, 26767, 26710, 26501, 19157, 17426, 27281, 25007, 27242, 11511, 16245, 29315, 16920, 20862, 27294, 21907, 15591, 21695, 9448, 11766, 8239, 25782, 22736, 26134, 16831, 13858, 24173, 12829, 10952, 19787, 29131, 13962, 19189, 26201, 15656, 17969, 21003, 29411, 18696, 13217, 26991, 25110, 14475, 20234, 27236, 13350, 23119, 17052, 10121, 21814, 25255, 15818, 25233, 24166, 25798, 19657, 26336, 27901, 29228, 17656, 14450, 15199, 23922, 23929, 26235, 29148, 29341, 22488, 13799, 28719, 21187, 9408, 11696, 25159, 17835, 16422, 25622, 26818, 25954, 27411, 22798, 19142, 26195, 16860, 20918, 20378, 28029, 24084, 24352, 19743, 28346, 23183, 27841, 24285, 23802, 17775, 19553, 10602, 15362, 15586, 28218, 20475, 20466, 13073, 12224, 17330, 18011, 20951, 29416, 10149, 27010, 21213, 29529, 16320, 14826, 19378, 17136, 21761, 23503, 18183, 29505, 24609, 18038, 23003, 19656, 13234, 17297, 21568, 18766, 24855, 22314, 14465, 19056, 27168, 17065, 21894, 21440, 22915, 17343, 11731, 14857, 18896, 28607, 24598, 24994, 27573, 23919, 22560, 26436, 10734, 27792, 13440, 17411, 12303, 22430, 14525, 23180, 23248, 27042, 12880, 23509, 19668, 16117, 16182, 15506, 26920, 28383, 20264, 21855, 10590, 28762, 21013, 17719, 18498, 22876, 29575, 20608, 17954, 21119, 12480, 18713, 12340, 27551, 16322, 21594, 28795, 10809, 18071, 15658, 16658, 24657, 19375, 27873, 20696, 21214, 22519, 26260, 10568, 23299, 11789, 18825, 17205, 25819, 28200, 22584, 16469, 15785, 16955, 20334, 21974, 13378, 28508, 29024, 18572, 26292, 23602, 13329, 16993, 22996, 26713, 24912, 20772, 21222, 18060, 17498, 26395, 17251, 4191, 18102, 23539, 18188, 25839, 24223, 16499, 8508, 28061, 26040, 17366, 15329, 15647, 16727, 16685, 17055, 18305, 17939, 26749, 26909, 20212, 17068, 14281, 24828, 16229, 22122, 20994, 9087, 8283, 15332, 23097, 23172, 26399, 26973, 17858, 19971, 17436, 25722, 23982, 23782, 25593, 21195, 21269, 27570, 26128, 20565, 13377, 21913, 28538, 19482, 24257, 20474, 12544, 21234, 21520, 20970, 26693, 27322, 20674, 20223, 28112, 22331, 22263, 14575, 24573, 19742, 29357, 18928, 29055, 23719, 22862, 21363, 19774, 17057, 24560, 22811, 17609, 19200, 26851, 6144, 25253, 27866, 15490, 19923, 23998, 18239, 29285, 19197, 24870, 12675, 26405, 18531, 14232, 18289, 25474, 19398, 22202, 22788, 20505, 26374, 21502, 24101, 13754, 16423, 11882, 23652, 21533, 25050, 18656, 19020, 22469, 18466, 19133, 20853, 23492, 13829, 16980, 18826, 26199, 15661, 22326, 11869, 21788, 28633, 9862, 28981, 21645, 16207, 27470, 24933, 21071, 18538, 23434, 18997, 29495, 28958, 25073, 25827, 15372, 14005, 20663, 12747, 24697, 14501, 26365, 25625, 12805, 20765, 25228, 23252, 25440, 19925, 13078, 12414, 28330, 22251, 16687, 20711, 24184, 24928, 23050, 16641, 21696, 21124, 26422, 29415, 25919, 12877, 16208, 23498, 15906, 22902, 15590, 16644, 19794, 25741, 23343, 23547, 11945, 23334, 17569, 24629, 12705, 23137, 23015, 25140, 27380, 23401, 9955, 20646, 8762, 23840, 18577, 28357, 12489, 15511, 16606, 12957, 27243, 22745, 19868, 20065, 14050, 21697, 24182, 17420, 19006, 23601, 29578, 24710, 15711, 28396, 18862, 22652, 21476, 23590, 14367, 13522, 26592, 27700, 29132, 23336, 12858, 17226, 19991, 25298, 21164, 16587, 28673, 27232, 18731, 20012, 12097, 20140, 16445, 20767, 27459, 27356, 27047, 27309, 28661, 11235, 27847, 9302, 27338, 13000, 22143, 12254, 27248, 17451, 20391, 21680, 20887, 18893, 15693, 24276, 20006, 20036, 22193, 22464, 10704, 29293, 24615, 28559, 27719, 22614, 11453, 25105, 23324, 13042, 19507, 29033, 26512, 18248, 15724, 24725, 27195, 24039, 28341, 16431, 24578, 25626, 28265, 27630, 28610, 23979, 22846, 26945, 25945, 17838, 15898, 24927, 25178, 20081, 13801, 23533, 24638, 22696, 22473, 18733, 15504, 26530, 25629, 22485, 26070, 22964, 16945, 23330, 15388, 19477, 20524, 18137, 21523, 25769, 23365, 16470, 26247, 26919, 17399, 22999, 16600, 15097, 27993, 24367, 28660, 24241, 25118, 8723, 25119, 21665, 15016, 17761, 28597, 5801, 28514, 18220, 22917, 8414, 24632, 23792, 15993, 24363, 23595, 20002, 26120, 17958, 28313, 28334, 21657, 21417, 18052, 25786, 17270, 16759, 26493, 8868, 10835, 28620, 13479, 27732, 15722, 10477, 18813, 16799, 16642, 26400, 28127, 26158, 16651, 19049, 19249, 25554, 22796, 28629, 21495, 24705, 27638, 21612, 21517, 25736, 20107, 17081, 27610, 11831, 13894, 22215, 12794, 12189, 25235, 12773, 22815, 22250, 27920, 26502, 29374, 23610, 20295, 26141, 24350, 27582, 22509, 24738, 27706, 13527, 19768, 16847, 26496, 25550, 27121, 13430, 23423, 25349, 14121, 25887, 28128, 14072, 12721, 25514, 20799, 27619, 23931, 16968, 14065, 20013, 28778, 29499, 15542, 19076, 23417, 14858, 27996, 26188, 26310, 23452, 17658, 23656, 13335, 15628, 29086, 17896, 20103, 23568, 29571, 11711, 27959, 13755, 25247, 26280, 18815, 14999, 15247, 29119, 14918, 16682, 22770, 19125, 16138, 26112, 15512, 19167, 22554, 14915, 19180, 25791, 27875, 23541, 26169, 23517, 19674, 20830, 20945, 16369, 15957, 15341, 11273, 20479, 21393, 27170, 19460, 28797, 16106, 26042, 21544, 15694, 25825, 19420, 15164, 16292, 19455, 24127, 29229, 24167, 18088, 22058, 27283, 15731, 29195, 16675, 13503, 21439, 19361, 23404, 15062, 28843, 27611, 14468, 25962, 29139, 24778, 27864, 12294, 29246, 22967, 13828, 28415, 14039, 24740, 23294, 24749, 22763, 21001, 12797, 28811, 18356, 21603, 28199, 17354, 26023, 27125, 17356, 12525, 24062, 19048, 19403, 26765, 18528, 24621, 22151, 23000, 23178, 28750, 19508, 27227, 26320, 20768, 25449, 24206, 17957, 27971, 14716, 19952, 21583, 27053, 28867, 19489, 29104, 16794, 22679, 20404, 20131, 25727, 25460, 23100, 15449, 23390, 25488, 12947, 25892, 17670, 16559, 29587, 24061, 15452, 21105, 25632, 25385, 21458, 27089, 24023, 21137, 17117, 21552, 27597, 9900, 9557, 25515, 26062, 20491, 28055, 18692, 27215, 15604, 22463, 28198, 18608, 21069, 26092, 23536, 22319, 17866, 17199, 29291, 13287, 16043, 22377, 11904, 21091, 23880, 28571, 21801, 18776, 18358, 14637, 23132, 22367, 24584, 24459, 17899, 20450, 20375, 15767, 26540, 27008, 27865, 26382, 18648, 24747, 25010, 14583, 24680, 18180, 21985, 27479, 14011, 23018, 28294, 25723, 13230, 15346, 29497, 17622, 22744, 19106, 28054, 22766, 18054, 15503, 27428, 15969, 19030, 13093, 24684, 16527, 13337, 28509, 22243, 29422, 25915, 23721, 12089, 14807, 23341, 20947, 17769, 22181, 13303, 17383, 28971, 10953, 21989, 17294, 29488, 28183, 28672, 19445, 19628, 26766, 22416, 8601, 23508, 22727, 20788, 24741, 19634, 15944, 16832, 20691, 22553, 25871, 27447, 16094, 20707, 25082, 23110, 25748, 26687, 23921, 19599, 13251, 26701, 15949, 21039, 18138, 27863, 28734, 19316, 25442, 18363, 14426, 15206, 14620, 21542, 22152, 16243, 19853, 20224, 28836, 16822, 20197, 22426, 20144, 19344, 15031, 24541, 20705, 10215, 27999, 21060, 20750, 19836, 19035, 12920, 21802, 27836, 23272, 13349, 24348, 22308, 20818, 19830, 22589, 10333, 22899, 29182, 13865, 12768, 26730, 25080, 20268, 25324, 21488, 20963, 26510, 23565, 21757, 11489, 26528, 19138, 27600, 21158, 27980, 13118, 27635, 17717, 17101, 17980, 5715, 23953, 15881, 25200, 23542, 22124, 29389, 25218, 27388, 16154, 28025, 18456, 17648, 18659, 27975, 20221, 22651, 22602, 18500, 22548, 22673, 17483, 26193, 16347, 26505, 27939, 11842, 17353, 25664, 21464, 19623, 23244, 19921, 18524, 18530, 20894, 25190, 14675, 27477, 14459, 12820, 16654, 19346, 14199, 22639, 14928, 18534, 25232, 20495, 21980, 22212, 13863, 24656, 11738, 13067, 28928, 22693, 14146, 10455, 13559, 22112, 17916, 28237, 9327, 21054, 5238, 20114, 17481, 20428, 22510, 23422, 26401, 26288, 27464, 19238, 28831, 16830, 19078, 25653, 20954, 21574, 26150, 28058, 26494, 29502, 25987, 13840, 21917, 20780, 18316, 14202, 14149, 15367, 25393, 17845, 27191, 19103, 23711, 24835, 29008, 27463, 20758, 25552, 10544, 28302, 25712, 18461, 21132, 24891, 27349, 17877, 13694, 15617, 24144, 28224, 27563, 21738, 10400, 22057, 25726, 20254, 18671, 12752, 27061, 22514, 27660, 29141, 12118, 10208, 17541, 13161, 20043, 29163, 25290, 23535, 27534, 29405, 12372, 14461, 18646, 26433, 24321, 19890, 27410, 18519, 27893, 23505, 21731, 20301, 24261, 22315, 25956, 28040, 25328, 28463, 20572, 19108, 27536, 17380, 22386, 18193, 25790, 4782, 6663, 29582, 12015, 22593, 25314, 28016, 23494, 18019, 28576, 7830, 19592, 24340, 26847, 22349, 21732, 21516, 29402, 22647, 25561, 27113, 21135, 28281, 25756, 29474, 11854, 25419, 28486, 14892, 18324, 10981, 17074, 26832, 15964, 23398, 19959, 26934, 15421, 16891, 23771, 28612, 28440, 26481, 28278, 28888, 23124, 14984, 17127, 29569, 25310, 29467, 24049, 22130, 18408, 14312, 12592, 27257, 29520, 13715, 29417, 17616, 23230, 21668, 15283, 24131, 18852, 16895, 28083, 22812, 16248, 19956, 25646, 16267, 24120, 16711, 26241, 25424, 26500, 15098, 28499, 21691, 25188, 12968, 27748, 28810, 19904, 12634, 20442, 28561, 17224, 24294, 22387, 25739, 23142, 26464, 28564, 28834, 21595, 25391, 22536, 21004, 12648, 18864, 27284, 29223, 25913, 25345, 16064, 25261, 11348, 20545, 29224, 27929, 27298, 16815, 15752, 28743, 14209, 9914, 17023, 23946, 21919, 20650, 16590, 19760, 22702, 25589, 29169, 26617, 15221, 22605, 26168, 19427, 20005, 24981, 14215, 13037, 29146, 12100, 19246, 25861, 27408, 14654, 26050, 10435, 21795, 24607, 28503, 25099, 19226, 18347, 26454, 4934, 16006, 25399, 24436, 29162, 17919, 22422, 17963, 26636, 17601, 27744, 13613, 18716, 23108, 25213, 22525, 15609, 27961, 27868, 19215, 25516, 14252, 22699, 22242, 19929, 22874, 27422, 17741, 26471, 21410, 26238, 20251, 18693, 19523, 19944, 13175, 17647, 16943, 21314, 17538, 15582, 21971, 24916, 27025, 20659, 24986, 22418, 23504, 12331, 29168, 11330, 15675, 14439, 17924, 23649, 20361, 29360, 25250, 23199, 27275, 16357, 25838, 19094, 18961, 16205, 21653, 20537, 25087, 25528, 25017, 27853, 26546, 18650, 26486, 17243, 15553, 12364, 17461, 21744, 21145, 20669, 18599, 26324, 25685, 21772, 16732, 23304, 27644, 18198, 27772, 22590, 16925, 24944, 19097, 20128, 27936, 29185, 15874, 5540, 7549, 8255, 24083, 29548, 19469, 23215, 25772, 12007, 11331, 22508, 21730, 23430, 23141, 26584, 10025, 14861, 26123, 21152, 17067, 26386, 25920, 10794, 25657, 28876, 28435, 20217, 23249, 16738, 24034, 29176, 13634, 26827, 14466, 23160, 12156, 26392, 18999, 21002, 21745, 23158, 25917, 22456, 16174, 15769, 17979, 15181, 23883, 24827, 11872, 11068, 27438, 22384, 28050, 19367, 11428, 16603, 17627, 24627, 8444, 24390, 21794, 23197, 25747, 17408, 16597, 24303, 26900, 19880, 17520, 19644, 25376, 18176, 16722, 21741, 16265, 29524, 23080, 27527, 26105, 20550, 23321, 25386, 25566, 26039, 28493, 26823, 13431, 21482, 22378, 18734, 27400, 29253, 20256, 18615, 27816, 29322, 25211, 25193, 29609, 25939, 28593, 16766, 18586, 11258, 26769, 27261, 22831, 14331, 29245, 27751, 27311, 24469, 17173, 21349, 28078, 26272, 20529, 21719, 23381, 27655, 20993, 20109, 10783, 10405, 27583, 29244, 10781, 24266, 25338, 25932, 24614, 16871, 22389, 16628, 18865, 21481, 20447, 14382, 29265, 25157, 19495, 24948, 29317, 23970, 21587, 22705, 13605, 6944, 29112, 17543, 12643, 25826, 23007, 22118, 29459, 22245, 21562, 23866, 24864, 14370, 26470, 18446, 29073, 28002, 12056, 16772, 29305, 28037, 27648, 13019, 27538, 25795, 21626, 25618, 25584, 27542, 16466, 16017, 17594, 24865, 17929, 23473, 26662, 23550, 21171, 18152, 25318, 19439, 23686, 18016, 26002, 20685, 28786, 26016, 17937, 24386, 22392, 25012, 23904, 18028, 18578, 12812, 25166, 17892, 20929, 26815, 28510, 24910, 24097, 28095, 20004, 28453, 28385, 23009, 27252, 15807, 24506, 19163, 20959, 21216, 25227, 18737, 20356, 20158, 25064, 24298, 20979, 28465, 25231, 23295, 11288, 27265, 18317, 23148, 23511, 26232, 26130, 28132, 11318, 21676, 27389, 17493, 26606, 29183, 14775, 27440, 26515, 21127, 27444, 20895, 24092, 29153, 19100, 15657, 13309, 29010, 24812, 21876, 15137, 17909, 26059, 21059, 27276, 13533, 24107, 24207, 17249, 26979, 23435, 28885, 19606, 17121, 26529, 24938, 22443, 26001, 29208, 27650, 13847, 25407, 25216, 24233, 19992, 26258, 28271, 17857, 23846, 25244, 14105, 19074, 24029, 17036, 24692, 14167, 29207, 14458, 12840, 20609, 16237, 26922, 9142, 20980, 29257, 24809, 27956, 18616, 21394, 28027, 26517, 29471, 19631, 23276, 22191, 19535, 25000, 25187, 19007, 29450, 19997, 25306, 21048, 26491, 25153, 15249, 22321, 28973, 15627, 17799, 24262, 21580, 21895, 28038, 22339, 29549, 14519, 19162, 24753, 23373, 23182, 25478, 18641, 26668, 21896, 23870, 21507, 29059, 19641, 29142, 20512, 17545, 26313, 21577, 19693, 27318, 24008, 21540, 27916, 12869, 17921, 15639, 20955, 26078, 20503, 20153, 15491, 17875, 19564, 22218, 17898, 21684, 13914, 22547, 24681, 24489, 14460, 21747, 20420, 22865, 25601, 14707, 20210, 20759, 23008, 24111, 22175, 21033, 15852, 22455, 26614, 20866, 10277, 20019, 29528, 27472, 29493, 27513, 23837, 18732, 11491, 22638, 12770, 19472, 24513, 25124, 28512, 17662, 19914, 18897, 21227, 26214, 29171, 25844, 15151, 24431, 27618, 23928, 19580, 17818, 20848, 29262, 15583, 28523, 21278, 18770, 15679, 20394, 26881, 26361, 28301, 10596, 16192, 25192, 9822, 8532, 19359, 20262, 16712, 25633, 28646, 27267, 25287, 22838, 17971, 10664, 28758, 17981, 15963, 19516, 23450, 22774, 26670, 20154, 19483, 18110, 19856, 26795, 17440, 23145, 13222, 26902, 25606, 25265, 14502, 28658, 14909, 17438, 19789, 21204, 22333, 24955, 17849, 25967, 29424, 20073, 10006, 27328, 27806, 29504, 16988, 19060, 12198, 18706, 18303, 19770, 10619, 26379, 24800, 24145, 25075, 14564, 29210, 15614, 12828, 23959, 22165, 14871, 19532, 25237, 26483, 19011, 26842, 15188, 27926, 22255, 26964, 19270, 18887, 15713, 16225, 23226, 23312, 25432, 26253, 9636, 18005, 20039, 29004, 27357, 28176, 24175, 12998, 27722, 24592, 27495, 16355, 19979, 22501, 23810, 17203, 23412, 22194, 28504, 14004, 18206, 22572, 22856, 17777, 23005, 29216, 16802, 28884, 24516, 28945, 24219, 15381, 17536, 25109, 26140, 11169, 23206, 25382, 25091, 23734, 21782, 28490, 26281, 27452, 23181, 27787, 20111, 27636, 25085, 26079, 20675, 28513, 21200, 14914, 17506, 19305, 26868, 13484, 22685, 23710, 20328, 25537, 23211, 23188, 24525, 20590, 24543, 9653, 22682, 28640, 15348, 18966, 21420, 19861, 26948, 22075, 18284, 22209, 18294, 23471, 23129, 25321, 12023, 29260, 22000, 21758, 24744, 17742, 25973, 20327, 18202, 16588, 28263, 17684, 22926, 27254, 26441, 11551, 27303, 25831, 21662, 15153, 13052, 24630, 26938, 26643, 15601, 26579, 24293, 21941, 19083, 24347, 22357, 16566, 23815, 18978, 21525, 26246, 27272, 21667, 22474, 18821, 16135, 26083, 20029, 12900, 19065, 23170, 27055, 26317, 21661, 25251, 18644, 23549, 28802, 24339, 14838, 17265, 26593, 24526, 14474, 24282, 29089, 24252, 27293, 11400, 19800, 24250, 19192, 25781, 24550, 21768, 20575, 25334, 28071, 13074, 24001, 22034, 20355, 16232, 23502, 26240, 18129, 26599, 24785, 28340, 27134, 22521, 17821, 18335, 24139, 29018, 16967, 28427, 18487, 14018, 12576, 20399, 27639, 25696, 23754, 21805, 28698, 15803, 28017, 18709, 24866, 16244, 19280, 28989, 24765, 25029, 20284, 22007, 18233, 25076, 24566, 11206, 24790, 23269, 16045, 25051, 24867, 27335, 16178, 13069, 25047, 18189, 24649, 28159, 28961, 22773, 24329, 22867, 28782, 25757, 29102, 23864, 18159, 26946, 26814, 14937, 13667, 28274, 24922, 23227, 19751, 26174, 23175, 24361, 21905, 25733, 21178, 26447, 18523, 22980, 26126, 19928, 27021, 12671, 24021, 7671, 23745, 28471, 25359, 26870, 28462, 16447, 25507, 16577, 20129, 28791, 24819, 23538, 25707, 28360, 21601, 27680, 22408, 12574, 26347, 20642, 27860, 21444, 23997, 26248, 26697, 24651, 26355, 13983, 19746, 29501, 25282, 18297, 27255, 21943, 21793, 27220, 25532, 24647, 25035, 18603, 17437, 28398, 21067, 23066, 27646, 17745, 26648, 23558, 18877, 17281, 26054, 28974, 25329, 24671, 20071, 20261, 23841, 28881, 20539, 23107, 23196, 20826, 21240, 22603, 17687, 26017, 20775, 16618, 26923, 23122, 15387, 19758, 24789, 14137, 27608, 12137, 29559, 27782, 28216, 11652, 15632, 23117, 14410, 19561, 24739, 25038, 27984, 19918, 20737, 18748, 26274, 21681, 28028, 29503, 25660, 24557, 18658, 23034, 18843, 21465, 24861, 23935, 26551, 21051, 8850, 27973, 18913, 28604, 24114, 20844, 14795, 23756, 19858, 14445, 21640, 29006, 27117, 25005, 16609, 24466, 13873, 23455, 25420, 24875, 12216, 27402, 18506, 23392, 23537, 21136, 21622, 7049, 25792, 20267, 14251, 17315, 20046, 24060, 27664, 18823, 22370, 23326, 12304, 27690, 28473, 23920, 22804, 14661, 14867, 22145, 20173, 28238, 17328, 13824, 11672, 28047, 26488, 24883, 18151, 16484, 28444, 17138, 20211, 15086, 28074, 25615, 23053, 26218, 25649, 17309, 24736, 19866, 25019, 21478, 24495, 20020, 22855, 15595, 23209, 25134, 19486, 26541, 19324, 14296, 24351, 23477, 22232, 26020, 19423, 24190, 24711, 28759, 25767, 16063, 27548, 21263, 28165, 19263, 16394, 24450, 13392, 20923, 19177, 22247, 15860, 23161, 27264, 24288, 22076, 28902, 21771, 21073, 10542, 28895, 26430, 24344, 21536, 23856, 16032, 12543, 22887, 29032, 27468, 28063, 21233, 19131, 19458, 23603, 29049, 24409, 19016, 28185, 20748, 29409, 25779, 28243, 16723, 28887, 22002, 22628, 15335, 23081, 28664, 16858, 22923, 9616, 17209, 17412, 26459, 23888, 24354, 25788, 14618, 15163, 27497, 28862, 26057, 28982, 29339, 18388, 26063, 20708, 27990, 19946, 13750, 24433, 23926, 24440, 23531, 10157, 24754, 28506, 25240, 21248, 27128, 21498, 16536, 14016, 21342, 22041, 22712, 11054, 26132, 24147, 20408, 24085, 23778, 25836, 27676, 12050, 27385, 23089, 24602, 12282, 16971, 26908, 23339, 23762, 23109, 19533, 21848, 18480, 23327, 21968, 21550, 23335, 18722, 18065, 29481, 20712, 24334, 27014, 15597, 23799, 24945, 21841, 26442, 24080, 17329, 22905, 22032, 26545, 27506, 28639, 20613, 14493, 25942, 14435, 28721, 28456, 26865, 21939, 19730, 27051, 26600, 20661, 20510, 29463, 26705, 20055, 16539, 21061, 23871, 26916, 25968, 13591, 19072, 16752, 17455, 20279, 26875, 26761, 24461, 15036, 16887, 28724, 25984, 18459, 22621, 22743, 15374, 21072, 24169, 26970, 23623, 26853, 24221, 15972, 15959, 15284, 25555, 24003, 21911, 24553, 23945, 25380, 21315, 29041, 27209, 21671, 19698, 23214, 26555, 24815, 19685, 28196, 25574, 23385, 28175, 26974, 21093, 22146, 19793, 24217, 12537, 28270, 22690, 13190, 26728, 23872, 24077, 23587, 24900, 24530, 28694, 16399, 22937, 28108, 25363, 29482, 16309, 18165, 27277, 13022, 29239, 16938, 26463, 18375, 27002, 26588, 20182, 10070, 16052, 26176, 24773, 24377, 25579, 22711, 27555, 11168, 22604, 19306, 19816, 24416, 18705, 21528, 24616, 28769, 22235, 19700, 21276, 21629, 27426, 25588, 27192, 8869, 23231, 19368, 13478, 10352, 28429, 28266, 23588, 29332, 15254, 21809, 13127, 23741, 10291, 27039, 26101, 29259, 29553, 27182, 27568, 23059, 18051, 14507, 21126, 21826, 18811, 26407, 27562, 21319, 18791, 23047, 27762, 24803, 19447, 27305, 16954, 16793, 24968, 23530, 27442, 23331, 27707, 14504, 19005, 20827, 26694, 17361, 23128, 19323, 29375, 29414, 26460, 27826, 29455, 28707, 14738, 26371, 21487, 25342, 25452, 22934, 19080, 20580, 28683, 13277, 16683, 29056, 25433, 26165, 20903, 26833, 28794, 22756, 22413, 27478, 26654, 24066, 28692, 14605, 27407, 11159, 10987, 27176, 18482, 16407, 20124, 27342, 24708, 26428, 22448, 29457, 24640, 19371, 27795, 17685, 25994, 17813, 20343, 26025, 22624, 20332, 28953, 18529, 23020, 16196, 24796, 21085, 20516, 25651, 27765, 22358, 19954, 22120, 20641, 18113, 20439, 25811, 17557, 27640, 16810, 28193, 26673, 21824, 14179, 21635, 28020, 27625, 9549, 24356, 19290, 24929, 20501, 21309, 22703, 24843, 16579, 27579, 27786, 26338, 21232, 14003, 21385, 22044, 18467, 21000, 22298, 18590, 17783, 15207, 17375, 25053, 27308, 16720, 14703, 25680, 18369, 19017, 24119, 16916, 21129, 23687, 26047, 20191, 15334, 14093, 17129, 25810, 14636, 21797, 24963, 27587, 24612, 24313, 15522, 22598, 16072, 17027, 11716, 22757, 27190, 18553, 20816, 18448, 18364, 26690, 17532, 25068, 29539, 29547, 27692, 21287, 24832, 23139, 22080, 17817, 26824, 27705, 27496, 20599, 22329, 23155, 9696, 21749, 23892, 21176, 16159, 22888, 25793, 24376, 26959, 25303, 29002, 28366, 22185, 18504, 21289, 25877, 28052, 27114, 22707, 25422, 16974, 17496, 29531, 19983, 24445, 21361, 14467, 15905, 17189, 29421, 15561, 15435, 15090, 27889, 24537, 26801, 22438, 24937, 12830, 19805, 28099, 28264, 28959, 18884, 23662, 23748, 21330, 25168, 28916, 17054, 21687, 26724, 22866, 20091, 18958, 27591, 23168, 17200, 17485, 22310, 19266, 18475, 29428, 27557, 25911, 23955, 26417, 26605, 26318, 17095, 18430, 21889, 8373, 27752, 21196, 13934, 25266, 19678, 27716, 24956, 25885, 28515, 28704, 25642, 27627, 23133, 18745, 23731, 28966, 21015, 21079, 25410, 22465, 28390, 23261, 22284, 27069, 26032, 17269, 25270, 21491, 28603, 27657, 25063, 25534, 20995, 28072, 23026, 21131, 27645, 21630, 16092, 13477, 26370, 26817, 19903, 29213, 14576, 18882, 16085, 21720, 16434, 23116, 27398, 26681, 24477, 29511, 25040, 24068, 29256, 26899, 27285, 27621, 27437, 27872, 29480, 27355, 23291, 12993, 23101, 19932, 26898, 28369, 17219, 25366, 28816, 20306, 16124, 22615, 20651, 22502, 29365, 24438, 17103, 23962, 18784, 25436, 19484, 21113, 23882, 26625, 22052, 17513, 20616, 22093, 28348, 25941, 18889, 19179, 19778, 24202, 26932, 29307, 27741, 25072, 29406, 21402, 6626, 3281, 20072, 19772, 19917, 20977, 28446, 20468, 28377, 24142, 27096, 28659, 18597, 20449, 27350, 27666, 21675, 28983, 21364, 25294, 26949, 25905, 22881, 27599, 21763, 28211, 27945, 24982, 26933, 23243, 27037, 24463, 24371, 15838, 21728, 26159, 20809, 19364, 27797, 24417, 24192, 28192, 25350, 5864, 28485, 25564, 28638, 18831, 17697, 16607, 26547, 20730, 19393, 28680, 25944, 14553, 22266, 26975, 12860, 23387, 23094, 29447, 28622, 24926, 19033, 23134, 28644, 20402, 28214, 19887, 27332, 26263, 17803, 17045, 25272, 17986, 27675, 22065, 21184, 19520, 28623, 23426, 10187, 29370, 19248, 28186, 15947, 28134, 21010, 20558, 20833, 12587, 25777, 24544, 21861, 17934, 29088, 17126, 22188, 15880, 25208, 24752, 20249, 27553, 21543, 28594, 20972, 27057, 25138, 27684, 18956, 16797, 16395, 23793, 23315, 15546, 27970, 18415, 25821, 16163, 22657, 16583, 27289, 26329, 29281, 21339, 29479, 25421, 23917, 17090, 18290, 16849, 24478, 28449, 25197, 27163, 24564, 29368, 14214, 22716, 25004, 21143, 28542, 24770, 13981, 28019, 7536, 28781, 18021, 27140, 25079, 22545, 15654, 28303, 25678, 27286, 26507, 26843, 21056, 27967, 27539, 24917, 27526, 10718, 29143, 27224, 20243, 22809, 20374, 13289, 14805, 24517, 20860, 29298, 26733, 19086, 26074, 20094, 23975, 24660, 23364, 18298, 21633, 23405, 18773, 23915, 13719, 21851, 28119, 27148, 16944, 23570, 24953, 28291, 26905, 26776, 27116, 27823, 28460, 23720, 28316, 22986, 25257, 29478, 28755, 28262, 21631, 27077, 29062, 25991, 21317, 24991, 20180, 18242, 18354, 29574, 18018, 16107, 26506, 29092, 17028, 21352, 13564, 25427, 16049, 21806, 26469, 19786, 17486, 22246, 22533, 21018, 23418, 28060, 15293, 26531, 29355, 17787, 21819, 28718, 28202, 16964, 28320, 28151, 15437, 28003, 23379, 20514, 26335, 24704, 17956, 25595, 15585, 17293, 26913, 17744, 26631, 13812, 14452, 27883, 26714, 13942, 18174, 13489, 11815, 24332, 17164, 25435, 28354, 23845, 26993, 16224, 12885, 23242, 24722, 22562, 26554, 14352, 15917, 19709, 27761, 27596, 14283, 12299, 18238, 26829, 26301, 29135, 28657, 19978, 22733, 9421, 16426, 27302, 26485, 14364, 22527, 21592, 8565, 29074, 19245, 25658, 25018, 23075, 20108, 24424, 27580, 28103, 26295, 29075, 26196, 23716, 24976, 27820, 17182, 12029, 22606, 17114, 28814, 19402, 20879, 8104, 21845, 19358, 27955, 27376, 20627, 26621, 25656, 17038, 25020, 21070, 17480, 28044, 26321, 27151, 17923, 25369, 13419, 29572, 27912, 26254, 23478, 13242, 22650, 20239, 14846, 18645, 19436, 22714, 25447, 27721, 22324, 16850, 21228, 24189, 24397, 29087, 24215, 17135, 14159, 16201, 20472, 25479, 25183, 19407, 21856, 27845, 18945, 25878, 25563, 26590, 20525, 19619, 28438, 27270, 28529, 21504, 17166, 27124, 26689, 12658, 15763, 24015, 22600, 21264, 21308, 12983, 26995, 24245, 22479, 27742, 29079, 28796, 22293, 26926, 20841, 26111, 20804, 18808, 26075, 28830, 29133, 18637, 25122, 25112, 15858, 26250, 21260, 23717, 15762, 27230, 19505, 21613, 26622, 16807, 22971, 24717, 28395, 28364, 21201, 25859, 24082, 24218, 12974, 20988, 23551, 25398, 25056, 18839, 13550, 29052, 25441, 28018, 24407, 29430, 15409, 22372, 29515, 18104, 24143, 28587, 27919, 14698, 28577, 22677, 25521, 28160, 12822, 21241, 22258, 17705, 23164, 21925, 13062, 25415, 28169, 27665, 18943, 25759, 24661, 26921, 27679, 27898, 16314, 21327, 18633, 25703, 13917, 17385, 22960, 17966, 18229, 29038, 18838, 20164, 3592, 22948, 11104, 22580, 28284, 17628, 18115, 11222, 28606, 28361, 27677, 26589, 15701, 25544, 24676, 23903, 28293, 25771, 16978, 18803, 20329, 21316, 26533, 16479, 25008, 14476, 28178, 29194, 19325, 19712, 28368, 27181, 28220, 21174, 10379, 21247, 29487, 25667, 23317, 23816, 11456, 23482, 13409, 28374, 22906, 18727, 21765, 26385, 20507, 22523, 18942, 27049, 23798, 20586, 24132, 27848, 23118, 26181, 24696, 23659, 25365, 27494, 11435, 19784, 24253, 24011, 21922, 18998, 29152, 24924, 21432, 22417, 26420, 26349, 23447, 23960, 27769, 12999, 20948, 23220, 21455, 13270, 22845, 22020, 17774, 21313, 28737, 26519, 28110, 16953, 18810, 22708, 15789, 22983, 27713, 14174, 23524, 22952, 23424, 26659, 27344, 21324, 12095, 27415, 26893, 25512, 15235, 19322, 25663, 24258, 25044, 28349, 25928, 19526, 29272, 19055, 27821, 27383, 19232, 28034, 14603, 26019, 28088, 26205, 24935, 23580, 28009, 28572, 12444, 29351, 28905, 17512, 20340, 29064, 25203, 27850, 29570, 27374, 24380, 26845, 15517, 21044, 22280, 28484, 28417, 24408, 23844, 21175, 29091, 25846, 29534, 28861, 25689, 12182, 18333, 26984, 28534, 29138, 26999, 23877, 26962, 25603, 23397, 21555, 24760, 15848, 24089, 28191, 20855, 27316, 17885, 22351, 27784, 22270, 25487, 24990, 29526, 29433, 28531, 29601, 23869, 28443, 19417, 9819, 24527, 27007, 28615, 14346, 25823, 21052, 28869, 17671, 26249, 22775, 28167, 28455, 26429, 22801, 25429, 25668, 25766, 23769, 28351, 22532, 25704, 24047, 18835, 24639, 26753, 25868, 11770, 19480, 20941, 14261, 23759, 24777, 16296, 26571, 28317, 19051, 25498, 27418, 21235, 24292, 21538, 24941, 29134, 28976, 26907, 24727, 22695, 20312, 21625, 29326, 16504, 24109, 29082, 27188, 22055, 22665, 26857, 27063, 26567, 22918, 20471, 28254, 9490, 19667, 29538, 23770, 18494, 28437, 28807, 26170, 19253, 27414, 28754, 19881, 27458, 24845, 22819, 27960, 27185, 15783, 27739, 19073, 23486, 25461, 26566, 4016, 7147, 18127, 18334, 24677, 15541, 25241, 27586, 29588, 20149, 24642, 23287, 26368, 19897, 22821, 24247, 21521, 24876, 25614, 29016, 15948, 25280, 24563, 22101, 27728, 8668, 21946, 14942, 13147, 10648, 24914, 20718, 28666, 28882, 28970, 24037, 28371, 29546, 13145, 18261, 14543, 21664, 15648, 27712, 26553, 24507, 26594, 27525, 29485, 23121, 23030, 27450, 22754, 20727, 25542, 23786, 26538, 22947, 24486, 15054, 24721, 16397, 18109, 23863, 21433, 28342, 13315, 23104, 29036, 13919, 28045, 29395, 20596, 21139, 20847, 24437, 21736, 23456, 18306, 27689, 28073, 20556, 25326, 28824, 21387, 26423, 29077, 18218, 18977, 26987, 26197, 25631, 21226, 17807, 19088, 27028, 26626, 25446, 16828, 27249, 20032, 25351, 28913, 17911, 21199, 15953, 23076, 23907, 14363, 13953, 15737, 25865, 27315, 25706, 29123, 29186, 21130, 28854, 27194, 26937, 24195, 22642, 27661, 28883, 29498, 27672, 14589, 27202, 26216, 17665, 24425, 29381, 28021, 23174, 27269, 25052, 21958, 24309, 22186, 29372, 19285, 21704, 28447, 24831, 21607, 9672, 19876, 18325, 18042, 28787, 16947, 25734, 22099, 22767, 19683, 28920, 25093, 22347, 14850, 26342, 21567, 28337, 23013, 20726, 20521, 28147, 27104, 19834, 28505, 18361, 17230, 23698, 29604, 26558, 27685, 7581, 17806, 27882, 23669, 21984, 25026, 14020, 23386, 28581, 21468, 21524, 19720, 28082, 22567, 29590, 26207, 28579, 13167, 27731, 18957, 29029, 26473, 21786, 26890, 26582, 22795, 21380, 20245, 25749, 23166, 22062, 26026, 18543, 26115, 26142, 27643, 26943, 28567, 18763, 26678, 28960, 26805, 27367, 28917, 17280, 19600, 25248, 20882, 22515, 29319, 26738, 28355, 17142, 19560, 23578, 19687, 28106, 17997, 26323, 21606, 22113, 26627, 22882, 18682, 23897, 27127, 18587, 25356, 28511, 22741, 7651, 25558, 24693, 15209, 28502, 28541, 24197, 19617, 8555, 22789, 23739, 25214, 28798, 27803, 23937, 20671, 17970, 20337, 29039, 28411, 28425, 28001, 26012, 17733, 25450, 21379, 22021, 20371, 24106, 11200, 25271, 12355, 25347, 18190, 22958, 21099, 25683, 24046, 15515, 16538, 27780, 29573, 24958, 7335, 25998, 29149, 18741, 23600, 21302, 26856, 26562, 22872, 25319, 22725, 24973, 26826, 24849, 25982, 20803, 24909, 26873, 27101, 28172, 21496, 23039, 27183, 17143, 28461, 21437, 25259, 24267, 22053, 28232, 26448, 14943, 24341, 25471, 21960, 25322, 25513, 18326, 19331, 27834, 28944, 22544, 17649, 29227, 26608, 22720, 19171, 24052, 23637, 28209, 25904, 25305, 29203, 25575, 29156, 28878, 28826, 28409, 26194, 25511, 23764, 28630, 29271, 27282, 27056, 26840, 28832, 26307, 18822, 22253, 21116, 17429, 22273, 25400, 26634, 23403, 23670, 19576, 24995, 25600, 26487, 20443, 20985, 23556, 16277, 26793, 25701, 17416, 21616, 22860, 22451, 20087, 28720, 27623, 29026, 26024, 27145, 20431, 25639, 14394, 1072, 27262, 27560, 20522, 25768, 29388, 25981, 24919, 21589, 27070, 28070, 20966, 26504, 24637, 29544, 28609, 26861, 27372, 22534, 24522, 25907, 17286, 25598, 28387, 24795, 19149, 17587, 9520, 26602, 19713, 27924, 14177, 23939, 17100, 27038, 20351, 21975, 23173, 28584, 23103, 24957, 27436, 21108, 22771, 23984, 21320, 24999, 19977, 28133, 17621, 23149, 28260, 14319, 16757, 22783, 21428, 28131, 19618, 29282, 28056, 20574, 10935, 17868, 23527, 27943, 29452, 13740, 24886, 24588, 20061, 25431, 22730, 15518, 25570, 25295, 29106, 26080, 28617, 24603, 21712, 26816, 11863, 29284, 27016, 25801, 27656, 21563, 11264, 17236, 28391, 26311, 24688, 29376, 21350, 24776, 26377, 15634, 28853, 25260, 14688, 27510, 26809, 28785, 29363, 26841, 20615, 29309, 24248, 20812, 28898, 29230, 22140, 28668, 21037, 24157, 26449, 27416, 22204, 25161, 26099, 28671, 22826, 29564, 27575, 24283, 29121, 10839, 28090, 25989, 20031, 20115, 28955, 21409, 27412, 28326, 17574, 26276, 21023, 22109, 11232, 19752, 28839, 21832, 22001, 22792, 29608, 25676, 26503, 18048, 12979, 21828, 21384, 29012, 26421, 23349, 28011, 24227, 28162, 25058, 22836, 29527, 28726, 25692, 17604, 21847, 26848, 25842, 24362, 24455, 25477, 24272, 27251, 21746, 25034, 3990, 23627, 24985, 20541, 22830, 21982, 24503, 27632, 17565, 24400, 16035, 25317, 29120, 26341, 25996, 27779, 22823, 17123, 25830, 29241, 24154, 28343, 20034, 28722, 29314, 28656, 16863, 28181, 28627, 28641, 15626, 27217, 17104, 27193, 27154, 23162, 26350, 8693, 20436, 24645, 27256, 21355, 14136, 16918, 22528, 25559, 25199, 23571, 27228, 28146, 27981, 21717, 21914, 24801, 19214, 15684, 25909, 27832, 22063, 29352, 28948, 19814, 28923, 16569, 21812, 20813, 23619, 27439, 19809, 27123, 25959, 19740, 13920, 28690, 26649, 17558, 29279, 28570, 25448, 27488, 23429, 28372, 15193, 24877, 14311, 22760, 29159, 22211, 25116, 21872, 23414, 27931, 27886, 27592, 22951, 27445, 12292, 19216, 19891, 28338, 27337, 20796, 27670, 7210, 24998, 28565, 24682, 25724, 23487, 17360, 22450, 21377, 20490, 24331, 28535, 25693, 20126, 25900, 25686, 29558, 28818, 21721, 29377, 22256, 29568, 18635, 24428, 22790, 20106, 26081, 27530, 28605, 20465, 7468, 24756, 18026, 29410, 20183, 18285, 29599, 22374, 25146, 21537, 20762, 28434, 25315, 25637, 23513, 27515, 25483, 20498, 25762, 22660, 23135, 27387, 16946, 12713, 24297, 15162, 28323, 27371, 26527, 27601, 21347, 28288, 27827, 27799, 23685, 28543, 20358, 28189, 29274, 22340, 29611, 18311, 18991, 23679, 23682, 28464, 25417, 28890, 27175, 20520, 28150, 28611, 24743, 24476, 18125, 27504, 26744, 28908, 24662, 26559, 26574, 25361, 17392, 22938, 24536, 24574, 25097, 24043, 27974, 27535, 29126, 27078, 29442, 27358, 26138, 13836, 15375, 19572, 27735, 18990, 21188, 20290, 28746, 17476, 16090, 17444, 27682, 26598, 29312, 29283, 21088, 16501, 27938, 22355, 1071, 12425, 22141, 27991, 23453, 29289, 22873, 18571, 28204, 23838, 27771, 11732, 21173, 25299, 26334, 24712, 21259, 27473, 26516, 23040, 25030, 21750, 28936, 22973, 28932, 27704, 25702, 15866, 22988, 23574, 17000, 14197, 23051, 21518, 26564, 28419, 22168, 27616, 13651, 15904, 29413, 24460, 23006, 28706, 20686, 27320, 26532, 22019, 22129, 24214, 28261, 24683, 15232, 22484, 24452, 26983, 26716, 27214, 28729, 13189, 20761, 22946, 17809, 23913, 24499, 24583, 28842, 24183, 28889, 28336, 22460, 27910, 27231, 19573, 29435, 22782, 22653, 28870, 26863, 23819, 28792, 1069, 14250, 10674, 28174, 22551, 20122, 11145, 24492, 23224, 19569, 28708, 25387, 25602, 25655, 21683, 25061, 26333, 26414, 22352, 20764, 12378, 29078, 28528, 27687, 25225, 26087, 17131, 26696, 26049, 16982, 28733, 20653, 22114, 18544, 26107, 28430, 26565, 25155, 29394, 25910, 28059, 29013, 25681, 21915, 25898, 29518, 27365, 26790, 29005, 25752, 21964, 29367, 18013, 21479, 25348, 26940, 22428, 28773, 18270, 25397, 27941, 29214, 16482, 23540, 28318, 24515, 10167, 29179, 22336, 22557, 26038, 21219, 18638, 28454, 27030, 19252, 12714, 13179, 27775, 19463, 21874, 21740, 27720, 27949, 14292, 29204, 28626, 29419, 20790, 28094, 26879, 26294, 20458, 20093, 26704, 29084, 20493, 17766, 11478, 28950, 20743, 18764, 28096, 27909, 25527, 27253, 21838, 25495, 28195, 14837, 29063, 23966, 29306, 24482, 23360, 28894, 16740, 27880, 20869, 20690, 25671, 24652, 17333, 29344, 21367, 27825, 13870, 28363, 26090, 24020, 24512, 20117, 29057, 24786, 17740, 18387, 26466, 26277, 16867, 28669, 28441, 26345, 18760, 24678, 13001, 20836, 29448, 11699, 28525, 18070, 23857, 21303, 28700, 29140, 26967, 15819, 28347, 28109, 24737, 29557, 14242, 26969, 25694, 23752, 26495, 26222, 25278, 27837, 26482, 22672, 17645, 16900, 27180, 16699, 16821, 23495, 23843, 27075, 28730, 22608, 26685, 27288, 20322, 18022, 25758, 24698, 23583, 19812, 19906, 25616, 25390, 20297, 26259, 29565, 24701, 25207, 27727, 29603, 24804, 25454, 26523, 19831, 27379, 12937, 26085, 28555, 27498, 26894, 27062, 29177, 11181, 22576, 24210, 20258, 20678, 15649, 26446, 20508, 29551, 24025, 24825, 24121, 29318, 22111, 21840, 29069, 18664, 28373, 24383, 24500, 16170, 20078, 19196, 27095, 21627, 16041, 27015, 20424, 21897, 24613, 24878, 22429, 15930, 28725, 29117, 27368, 28481, 20280, 28635, 22233, 28222, 22452, 26104, 26353, 20494, 25590, 28356, 21501, 23973, 23989, 3887, 23425, 24389, 24863, 27603, 28091, 27702, 22992, 17050, 25263, 21803, 21546, 27653, 28129, 16494, 19524, 21123, 19708, 17391, 14752, 22587, 25611, 24993, 26925, 28365, 28035, 20085, 25404, 28825, 25914, 19849, 27403, 26391, 23912, 26796, 28643, 23071, 28914, 22661, 28412, 24275, 21831, 26669, 28918, 28164, 24130, 29412, 25744, 26413, 18160, 26498, 26798, 22398, 28236, 24772, 27516, 16460, 28114, 28104, 11114, 24966, 14284, 29164, 29585, 26695, 23796, 25754, 11836, 25576, 28420, 28924, 29456, 28777, 23171, 17240, 24027, 28784, 26544, 21581, 28116, 28783, 21715, 27501, 27033, 28410, 20789, 21829, 22670, 25948, 27492, 21753, 19365, 25522, 20605, 26537, 29209, 17735, 26273, 22385, 29019, 23749, 25843, 27409, 28859, 26955, 29517, 24713, 24160, 20832, 24874, 24811, 26198, 26330, 1084, 27331, 22489, 29383, 18680, 24631, 22843, 17029, 29124, 1076, 21983, 24723, 25144, 29188, 24510, 9237, 28439, 23629, 26998, 26806, 24358, 19206, 6345, 20237, 11885, 25675, 25985, 14237, 27066, 17554, 27979, 10308, 28013, 28710, 28152, 12531, 22406, 24730, 24954, 25541, 27835, 15081, 25268, 23978, 20044, 29187, 22526, 24892, 24781, 26439, 28422, 25585, 27740, 25894, 24571, 28840, 26645, 9369, 29220, 27434, 27043, 21954, 23017, 26958, 23885, 15598, 18631, 26152, 28153, 29219, 21703, 24126, 23829, 19381, 19384, 28494, 21043, 29465, 26388, 20354, 21169, 21655, 26800, 28544, 23994, 28392, 25673, 26431, 28367, 12431, 23464, 29085, 18895, 27808, 22403, 9591, 22169, 23070, 24033, 27499, 10370, 29000, 28140, 21588, 29136, 29429, 26864, 28537, 18366, 28650, 21353, 28053, 29356, 27490, 14587, 19663, 25368, 28563, 27449, 20513, 22700, 23443, 22596, 24567, 15229, 26862, 28145, 13021, 25330, 28686, 23406, 29555, 26312, 25412, 23774, 21870, 17150, 21180, 26882, 28381, 10963, 26185, 21783, 24379, 23822, 23457, 18341, 1081, 22968, 28634, 25924, 23981, 16497, 18427, 28930, 26177, 20079, 28996, 23831, 16477, 28339, 25901, 25285, 27733, 11930, 18374, 22178, 22833, 29011, 27139, 19715, 29540, 22632, 22176, 20698, 28226, 20244, 20664, 27736, 12258, 20555, 22142, 23643, 27146, 27750, 28451, 28107, 25720, 26331, 23001, 28416, 13150, 29093, 19767, 21609, 28431, 27614, 14733, 27482, 1083, 28111, 26153, 27778, 29070, 26889, 7225, 25669, 3368, 27460, 25267, 25021, 27607, 28137, 22350, 23800, 20040, 19203, 24123, 26284, 24064, 5489, 1091, 22362, 25841, 23085, 28874, 28677, 22738, 21942, 25713, 29255, 18967, 26586, 26978, 29331, 27087, 28705, 16304, 26084, 28010, 29043, 26437, 20088, 23225, 26037, 20937, 25098, 29287, 29380, 26015, 29579, 27040, 23239, 25296, 29473, 14275, 23383, 21282, 23635, 21921, 13514, 23878, 26182, 16132, 26359, 26561, 27801, 23485, 23813, 24470, 23043, 27903, 18626, 22633, 27933, 27334, 23861, 22820, 28904, 22970, 10757, 16038, 14143, 26109, 24263, 1088, 27160, 25648, 27884, 19434, 24338, 29286, 24942, 26326, 27119, 24295, 26009, 22295, 22240, 19981, 13211, 23514, 23028, 22871, 29580, 27073, 15119, 12804, 23083, 24099, 26283, 28076, 20453, 27951, 21212, 10621, 20269, 24984, 27340, 19462, 21900, 19697, 26660, 1074, 26595, 20878, 26596, 23814, 27456, 28080, 1092, 1080, 24675, 28752, 29303, 29249, 15225, 8245, 28812, 21918, 6250, 22257, 26265, 24243, 19951, 25139, 21427, 27278, 21742, 23791, 27888, 27156, 18310, 28273, 27855, 26867, 23140, 29173, 29157, 20308, 14552, 23031, 29189, 27088, 28595, 26961, 25784, 14823, 15600, 25333, 16763, 25302, 20751, 23860, 22581, 28069, 28979, 29151, 29007, 21503, 24934, 18666, 1079, 16346, 28328, 22424, 28801, 22709, 1070, 25149, 25716, 28813, 17941, 24745, 26543, 28985, 27899, 6973, 19970, 19669, 28452, 1075, 28602, 26135, 28713, 28871, 26752, 25872, 25886, 7948, 26748, 19370, 22317, 17097, 12777, 23258, 15043, 26904, 27207, 28197, 22791, 18360, 1089, 22335, 25735, 25111, 28975, 21441, 20139, 27239, 29233, 29001, 15889, 13480, 26624, 7152, 13781, 26936, 27626, 14051, 24488, 20054, 7061, 15574, 27489, 29512, 11567, 28590, 20756, 29054, 26971, 7075, 26088, 27026, 24056, 8881, 15998, 18652, 25224, 26719, 24606, 24626, 21977, 8535, 23625, 28423, 22561, 18320, 19071, 17030, 21473, 26747, 28092, 28240, 27812, 26750, 29670, 28325, 13927, 9655, 1101, 25151, 17495, 11402, 15999, 21140, 11574, 15022, 17755, 10252, 9400, 26550, 1085, 22383, 28299, 1078, 21215, 26782, 26542, 28098, 26093, 16767, 25156, 12557, 13054, 27968, 28306, 26344, 28963, 23696, 28560, 17474, 25960, 25071, 14922, 23832, 21780, 18751, 28068, 24852, 22237, 1068, 25411, 27386, 24150, 25041, 14217, 17675, 25802, 20825, 24687, 17307, 18775, 1082, 13937, 1093, 23952, 24235, 25014, 28459, 26883, 24893, 19201, 24289, 24055, 17425, 26184, 23703, 28149, 23607, 28532, 21284, 29252, 19014, 25922, 22306, 27683, 27714, 13168, 25395, 18177, 26175, 25875, 24620, 15228, 24208, 27098, 22588, 23611, 23515, 13709, 1096, 20757, 12523, 19310, 18121, 23474]\n"
   ]
  },
  {
   "cell_type": "code",
   "execution_count": 115,
   "id": "civilian-vaccine",
   "metadata": {},
   "outputs": [
    {
     "name": "stdout",
     "output_type": "stream",
     "text": [
      "There are multiple query fields available: ('text', 'query', 'narrative'). To use with pyterrier, provide variant or modify dataframe to add query column.\n"
     ]
    },
    {
     "data": {
      "application/vnd.jupyter.widget-view+json": {
       "model_id": "99a05bfda5cc4274a7deb37cb75314ff",
       "version_major": 2,
       "version_minor": 0
      },
      "text/plain": [
       "pt.Experiment:   0%|          | 0/27 [00:00<?, ?batches/s]"
      ]
     },
     "metadata": {},
     "output_type": "display_data"
    },
    {
     "name": "stderr",
     "output_type": "stream",
     "text": [
      "/opt/conda/envs/py37_new/lib/python3.7/site-packages/pandas/util/_decorators.py:311: SettingWithCopyWarning: \n",
      "A value is trying to be set on a copy of a slice from a DataFrame\n",
      "\n",
      "See the caveats in the documentation: https://pandas.pydata.org/pandas-docs/stable/user_guide/indexing.html#returning-a-view-versus-a-copy\n",
      "  return func(*args, **kwargs)\n"
     ]
    },
    {
     "data": {
      "text/html": [
       "<div>\n",
       "<style scoped>\n",
       "    .dataframe tbody tr th:only-of-type {\n",
       "        vertical-align: middle;\n",
       "    }\n",
       "\n",
       "    .dataframe tbody tr th {\n",
       "        vertical-align: top;\n",
       "    }\n",
       "\n",
       "    .dataframe thead th {\n",
       "        text-align: right;\n",
       "    }\n",
       "</style>\n",
       "<table border=\"1\" class=\"dataframe\">\n",
       "  <thead>\n",
       "    <tr style=\"text-align: right;\">\n",
       "      <th></th>\n",
       "      <th>name</th>\n",
       "      <th>R@1000</th>\n",
       "      <th>nDCG@10</th>\n",
       "      <th>nDCG@20</th>\n",
       "      <th>nDCG@100</th>\n",
       "      <th>AP@100</th>\n",
       "      <th>AP@1000</th>\n",
       "      <th>RR@1000</th>\n",
       "      <th>AvgDoclen@1</th>\n",
       "      <th>AvgDoclen</th>\n",
       "      <th>...</th>\n",
       "      <th>AvgDoclen@1 p-value</th>\n",
       "      <th>AvgDoclen +</th>\n",
       "      <th>AvgDoclen -</th>\n",
       "      <th>AvgDoclen p-value</th>\n",
       "      <th>AvgDoclen@100 +</th>\n",
       "      <th>AvgDoclen@100 -</th>\n",
       "      <th>AvgDoclen@100 p-value</th>\n",
       "      <th>AvgDoclen@10 +</th>\n",
       "      <th>AvgDoclen@10 -</th>\n",
       "      <th>AvgDoclen@10 p-value</th>\n",
       "    </tr>\n",
       "  </thead>\n",
       "  <tbody>\n",
       "    <tr>\n",
       "      <th>0</th>\n",
       "      <td>baseline</td>\n",
       "      <td>0.30941</td>\n",
       "      <td>0.680270</td>\n",
       "      <td>0.635233</td>\n",
       "      <td>0.481342</td>\n",
       "      <td>0.078868</td>\n",
       "      <td>0.153638</td>\n",
       "      <td>0.940833</td>\n",
       "      <td>142.38</td>\n",
       "      <td>141.99394</td>\n",
       "      <td>...</td>\n",
       "      <td>NaN</td>\n",
       "      <td>NaN</td>\n",
       "      <td>NaN</td>\n",
       "      <td>NaN</td>\n",
       "      <td>NaN</td>\n",
       "      <td>NaN</td>\n",
       "      <td>NaN</td>\n",
       "      <td>NaN</td>\n",
       "      <td>NaN</td>\n",
       "      <td>NaN</td>\n",
       "    </tr>\n",
       "    <tr>\n",
       "      <th>1</th>\n",
       "      <td>stops</td>\n",
       "      <td>0.30941</td>\n",
       "      <td>0.685133</td>\n",
       "      <td>0.628539</td>\n",
       "      <td>0.474425</td>\n",
       "      <td>0.075465</td>\n",
       "      <td>0.151014</td>\n",
       "      <td>0.910000</td>\n",
       "      <td>110.18</td>\n",
       "      <td>102.60572</td>\n",
       "      <td>...</td>\n",
       "      <td>5.705261e-05</td>\n",
       "      <td>0.0</td>\n",
       "      <td>50.0</td>\n",
       "      <td>1.943140e-46</td>\n",
       "      <td>0.0</td>\n",
       "      <td>50.0</td>\n",
       "      <td>1.736642e-36</td>\n",
       "      <td>2.0</td>\n",
       "      <td>48.0</td>\n",
       "      <td>1.963390e-24</td>\n",
       "    </tr>\n",
       "    <tr>\n",
       "      <th>2</th>\n",
       "      <td>msmarcolm2_uniform_1</td>\n",
       "      <td>0.30941</td>\n",
       "      <td>0.680287</td>\n",
       "      <td>0.634741</td>\n",
       "      <td>0.480308</td>\n",
       "      <td>0.078634</td>\n",
       "      <td>0.153561</td>\n",
       "      <td>0.940833</td>\n",
       "      <td>138.44</td>\n",
       "      <td>138.19178</td>\n",
       "      <td>...</td>\n",
       "      <td>3.849515e-12</td>\n",
       "      <td>0.0</td>\n",
       "      <td>50.0</td>\n",
       "      <td>1.301536e-43</td>\n",
       "      <td>0.0</td>\n",
       "      <td>50.0</td>\n",
       "      <td>3.321025e-39</td>\n",
       "      <td>2.0</td>\n",
       "      <td>48.0</td>\n",
       "      <td>2.016575e-09</td>\n",
       "    </tr>\n",
       "    <tr>\n",
       "      <th>3</th>\n",
       "      <td>msmarcolm2_uniform_2</td>\n",
       "      <td>0.30941</td>\n",
       "      <td>0.683371</td>\n",
       "      <td>0.632938</td>\n",
       "      <td>0.480580</td>\n",
       "      <td>0.078821</td>\n",
       "      <td>0.153954</td>\n",
       "      <td>0.944167</td>\n",
       "      <td>133.34</td>\n",
       "      <td>133.44002</td>\n",
       "      <td>...</td>\n",
       "      <td>2.917953e-14</td>\n",
       "      <td>0.0</td>\n",
       "      <td>50.0</td>\n",
       "      <td>1.051397e-43</td>\n",
       "      <td>0.0</td>\n",
       "      <td>50.0</td>\n",
       "      <td>2.823565e-34</td>\n",
       "      <td>2.0</td>\n",
       "      <td>48.0</td>\n",
       "      <td>1.148366e-19</td>\n",
       "    </tr>\n",
       "    <tr>\n",
       "      <th>4</th>\n",
       "      <td>msmarcolm2_uniform_5</td>\n",
       "      <td>0.30941</td>\n",
       "      <td>0.681396</td>\n",
       "      <td>0.634155</td>\n",
       "      <td>0.480431</td>\n",
       "      <td>0.078954</td>\n",
       "      <td>0.154046</td>\n",
       "      <td>0.918167</td>\n",
       "      <td>126.76</td>\n",
       "      <td>121.80746</td>\n",
       "      <td>...</td>\n",
       "      <td>1.876543e-03</td>\n",
       "      <td>0.0</td>\n",
       "      <td>50.0</td>\n",
       "      <td>7.288743e-46</td>\n",
       "      <td>0.0</td>\n",
       "      <td>50.0</td>\n",
       "      <td>1.816119e-39</td>\n",
       "      <td>1.0</td>\n",
       "      <td>49.0</td>\n",
       "      <td>1.833723e-24</td>\n",
       "    </tr>\n",
       "    <tr>\n",
       "      <th>5</th>\n",
       "      <td>msmarcolm2_uniform_12</td>\n",
       "      <td>0.30941</td>\n",
       "      <td>0.682460</td>\n",
       "      <td>0.633423</td>\n",
       "      <td>0.483451</td>\n",
       "      <td>0.079910</td>\n",
       "      <td>0.155130</td>\n",
       "      <td>0.925000</td>\n",
       "      <td>109.96</td>\n",
       "      <td>109.05598</td>\n",
       "      <td>...</td>\n",
       "      <td>5.573440e-07</td>\n",
       "      <td>0.0</td>\n",
       "      <td>50.0</td>\n",
       "      <td>2.301886e-46</td>\n",
       "      <td>0.0</td>\n",
       "      <td>50.0</td>\n",
       "      <td>2.909674e-39</td>\n",
       "      <td>0.0</td>\n",
       "      <td>50.0</td>\n",
       "      <td>3.990074e-25</td>\n",
       "    </tr>\n",
       "    <tr>\n",
       "      <th>6</th>\n",
       "      <td>msmarcolm2_uniform_25</td>\n",
       "      <td>0.30941</td>\n",
       "      <td>0.677608</td>\n",
       "      <td>0.629012</td>\n",
       "      <td>0.481670</td>\n",
       "      <td>0.079716</td>\n",
       "      <td>0.155048</td>\n",
       "      <td>0.907333</td>\n",
       "      <td>101.46</td>\n",
       "      <td>100.05516</td>\n",
       "      <td>...</td>\n",
       "      <td>1.085025e-08</td>\n",
       "      <td>0.0</td>\n",
       "      <td>50.0</td>\n",
       "      <td>8.508955e-46</td>\n",
       "      <td>0.0</td>\n",
       "      <td>50.0</td>\n",
       "      <td>1.033115e-41</td>\n",
       "      <td>0.0</td>\n",
       "      <td>50.0</td>\n",
       "      <td>7.691537e-31</td>\n",
       "    </tr>\n",
       "    <tr>\n",
       "      <th>7</th>\n",
       "      <td>msmarcolm2_uniform_50</td>\n",
       "      <td>0.30941</td>\n",
       "      <td>0.676645</td>\n",
       "      <td>0.628379</td>\n",
       "      <td>0.477812</td>\n",
       "      <td>0.078433</td>\n",
       "      <td>0.154285</td>\n",
       "      <td>0.913333</td>\n",
       "      <td>96.28</td>\n",
       "      <td>94.63038</td>\n",
       "      <td>...</td>\n",
       "      <td>3.560671e-09</td>\n",
       "      <td>0.0</td>\n",
       "      <td>50.0</td>\n",
       "      <td>4.415203e-45</td>\n",
       "      <td>0.0</td>\n",
       "      <td>50.0</td>\n",
       "      <td>9.882121e-43</td>\n",
       "      <td>0.0</td>\n",
       "      <td>50.0</td>\n",
       "      <td>2.559268e-31</td>\n",
       "    </tr>\n",
       "    <tr>\n",
       "      <th>8</th>\n",
       "      <td>msmarcolm2_uniform_100</td>\n",
       "      <td>0.30941</td>\n",
       "      <td>0.671149</td>\n",
       "      <td>0.624467</td>\n",
       "      <td>0.478622</td>\n",
       "      <td>0.078525</td>\n",
       "      <td>0.154180</td>\n",
       "      <td>0.905667</td>\n",
       "      <td>90.06</td>\n",
       "      <td>89.85236</td>\n",
       "      <td>...</td>\n",
       "      <td>1.112899e-10</td>\n",
       "      <td>0.0</td>\n",
       "      <td>50.0</td>\n",
       "      <td>4.593639e-45</td>\n",
       "      <td>0.0</td>\n",
       "      <td>50.0</td>\n",
       "      <td>3.913884e-43</td>\n",
       "      <td>0.0</td>\n",
       "      <td>50.0</td>\n",
       "      <td>4.390639e-32</td>\n",
       "    </tr>\n",
       "  </tbody>\n",
       "</table>\n",
       "<p>9 rows × 45 columns</p>\n",
       "</div>"
      ],
      "text/plain": [
       "                     name   R@1000   nDCG@10   nDCG@20  nDCG@100    AP@100  \\\n",
       "0                baseline  0.30941  0.680270  0.635233  0.481342  0.078868   \n",
       "1                   stops  0.30941  0.685133  0.628539  0.474425  0.075465   \n",
       "2    msmarcolm2_uniform_1  0.30941  0.680287  0.634741  0.480308  0.078634   \n",
       "3    msmarcolm2_uniform_2  0.30941  0.683371  0.632938  0.480580  0.078821   \n",
       "4    msmarcolm2_uniform_5  0.30941  0.681396  0.634155  0.480431  0.078954   \n",
       "5   msmarcolm2_uniform_12  0.30941  0.682460  0.633423  0.483451  0.079910   \n",
       "6   msmarcolm2_uniform_25  0.30941  0.677608  0.629012  0.481670  0.079716   \n",
       "7   msmarcolm2_uniform_50  0.30941  0.676645  0.628379  0.477812  0.078433   \n",
       "8  msmarcolm2_uniform_100  0.30941  0.671149  0.624467  0.478622  0.078525   \n",
       "\n",
       "    AP@1000   RR@1000  AvgDoclen@1  AvgDoclen  ...  AvgDoclen@1 p-value  \\\n",
       "0  0.153638  0.940833       142.38  141.99394  ...                  NaN   \n",
       "1  0.151014  0.910000       110.18  102.60572  ...         5.705261e-05   \n",
       "2  0.153561  0.940833       138.44  138.19178  ...         3.849515e-12   \n",
       "3  0.153954  0.944167       133.34  133.44002  ...         2.917953e-14   \n",
       "4  0.154046  0.918167       126.76  121.80746  ...         1.876543e-03   \n",
       "5  0.155130  0.925000       109.96  109.05598  ...         5.573440e-07   \n",
       "6  0.155048  0.907333       101.46  100.05516  ...         1.085025e-08   \n",
       "7  0.154285  0.913333        96.28   94.63038  ...         3.560671e-09   \n",
       "8  0.154180  0.905667        90.06   89.85236  ...         1.112899e-10   \n",
       "\n",
       "   AvgDoclen +  AvgDoclen -  AvgDoclen p-value  AvgDoclen@100 +  \\\n",
       "0          NaN          NaN                NaN              NaN   \n",
       "1          0.0         50.0       1.943140e-46              0.0   \n",
       "2          0.0         50.0       1.301536e-43              0.0   \n",
       "3          0.0         50.0       1.051397e-43              0.0   \n",
       "4          0.0         50.0       7.288743e-46              0.0   \n",
       "5          0.0         50.0       2.301886e-46              0.0   \n",
       "6          0.0         50.0       8.508955e-46              0.0   \n",
       "7          0.0         50.0       4.415203e-45              0.0   \n",
       "8          0.0         50.0       4.593639e-45              0.0   \n",
       "\n",
       "   AvgDoclen@100 -  AvgDoclen@100 p-value  AvgDoclen@10 +  AvgDoclen@10 -  \\\n",
       "0              NaN                    NaN             NaN             NaN   \n",
       "1             50.0           1.736642e-36             2.0            48.0   \n",
       "2             50.0           3.321025e-39             2.0            48.0   \n",
       "3             50.0           2.823565e-34             2.0            48.0   \n",
       "4             50.0           1.816119e-39             1.0            49.0   \n",
       "5             50.0           2.909674e-39             0.0            50.0   \n",
       "6             50.0           1.033115e-41             0.0            50.0   \n",
       "7             50.0           9.882121e-43             0.0            50.0   \n",
       "8             50.0           3.913884e-43             0.0            50.0   \n",
       "\n",
       "   AvgDoclen@10 p-value  \n",
       "0                   NaN  \n",
       "1          1.963390e-24  \n",
       "2          2.016575e-09  \n",
       "3          1.148366e-19  \n",
       "4          1.833723e-24  \n",
       "5          3.990074e-25  \n",
       "6          7.691537e-31  \n",
       "7          2.559268e-31  \n",
       "8          4.390639e-32  \n",
       "\n",
       "[9 rows x 45 columns]"
      ]
     },
     "metadata": {},
     "output_type": "display_data"
    }
   ],
   "source": [
    "from IPython.display import display\n",
    "for t in ['covid']:\n",
    "    idf = do_exp(\n",
    "        [baselineApprox] + [get_uniform_pipeline(factory, stop_ids)] + [get_uniform_pipeline(factory, msmarco_lm[3:x+3]) for x in DROPS ], \n",
    "        topics=t,\n",
    "        names=[\"baseline\"] + [\"stops\"] + [\"msmarcolm2_uniform_%d\" % x for x in DROPS ],\n",
    "        save_dir=None #\"/nfs/staticPruning/results/repro_covid/uniform_%s/\",\n",
    "    )\n",
    "    display(idf)"
   ]
  },
  {
   "cell_type": "code",
   "execution_count": 117,
   "id": "boring-ethiopia",
   "metadata": {},
   "outputs": [
    {
     "data": {
      "text/html": [
       "<div>\n",
       "<style scoped>\n",
       "    .dataframe tbody tr th:only-of-type {\n",
       "        vertical-align: middle;\n",
       "    }\n",
       "\n",
       "    .dataframe tbody tr th {\n",
       "        vertical-align: top;\n",
       "    }\n",
       "\n",
       "    .dataframe thead th {\n",
       "        text-align: right;\n",
       "    }\n",
       "</style>\n",
       "<table border=\"1\" class=\"dataframe\">\n",
       "  <thead>\n",
       "    <tr style=\"text-align: right;\">\n",
       "      <th></th>\n",
       "      <th>name</th>\n",
       "      <th>nDCG@10</th>\n",
       "      <th>nDCG@10 -</th>\n",
       "      <th>nDCG@10 p-value</th>\n",
       "      <th>AP@1000</th>\n",
       "      <th>AP@1000 p-value</th>\n",
       "      <th>AvgDoclen@100</th>\n",
       "    </tr>\n",
       "  </thead>\n",
       "  <tbody>\n",
       "    <tr>\n",
       "      <th>0</th>\n",
       "      <td>baseline</td>\n",
       "      <td>0.680270</td>\n",
       "      <td>NaN</td>\n",
       "      <td>NaN</td>\n",
       "      <td>0.153638</td>\n",
       "      <td>NaN</td>\n",
       "      <td>155.5084</td>\n",
       "    </tr>\n",
       "    <tr>\n",
       "      <th>1</th>\n",
       "      <td>stops</td>\n",
       "      <td>0.685133</td>\n",
       "      <td>18.0</td>\n",
       "      <td>0.662320</td>\n",
       "      <td>0.151014</td>\n",
       "      <td>0.493775</td>\n",
       "      <td>113.3234</td>\n",
       "    </tr>\n",
       "    <tr>\n",
       "      <th>2</th>\n",
       "      <td>msmarcolm2_uniform_1</td>\n",
       "      <td>0.680287</td>\n",
       "      <td>5.0</td>\n",
       "      <td>0.995179</td>\n",
       "      <td>0.153561</td>\n",
       "      <td>0.157321</td>\n",
       "      <td>151.3734</td>\n",
       "    </tr>\n",
       "    <tr>\n",
       "      <th>3</th>\n",
       "      <td>msmarcolm2_uniform_2</td>\n",
       "      <td>0.683371</td>\n",
       "      <td>7.0</td>\n",
       "      <td>0.323074</td>\n",
       "      <td>0.153954</td>\n",
       "      <td>0.065187</td>\n",
       "      <td>145.9782</td>\n",
       "    </tr>\n",
       "    <tr>\n",
       "      <th>4</th>\n",
       "      <td>msmarcolm2_uniform_5</td>\n",
       "      <td>0.681396</td>\n",
       "      <td>19.0</td>\n",
       "      <td>0.878808</td>\n",
       "      <td>0.154046</td>\n",
       "      <td>0.153030</td>\n",
       "      <td>133.4244</td>\n",
       "    </tr>\n",
       "    <tr>\n",
       "      <th>5</th>\n",
       "      <td>msmarcolm2_uniform_12</td>\n",
       "      <td>0.682460</td>\n",
       "      <td>21.0</td>\n",
       "      <td>0.807220</td>\n",
       "      <td>0.155130</td>\n",
       "      <td>0.006047</td>\n",
       "      <td>119.0762</td>\n",
       "    </tr>\n",
       "    <tr>\n",
       "      <th>6</th>\n",
       "      <td>msmarcolm2_uniform_25</td>\n",
       "      <td>0.677608</td>\n",
       "      <td>20.0</td>\n",
       "      <td>0.782624</td>\n",
       "      <td>0.155048</td>\n",
       "      <td>0.039555</td>\n",
       "      <td>108.8774</td>\n",
       "    </tr>\n",
       "    <tr>\n",
       "      <th>7</th>\n",
       "      <td>msmarcolm2_uniform_50</td>\n",
       "      <td>0.676645</td>\n",
       "      <td>18.0</td>\n",
       "      <td>0.699133</td>\n",
       "      <td>0.154285</td>\n",
       "      <td>0.383622</td>\n",
       "      <td>102.1318</td>\n",
       "    </tr>\n",
       "    <tr>\n",
       "      <th>8</th>\n",
       "      <td>msmarcolm2_uniform_100</td>\n",
       "      <td>0.671149</td>\n",
       "      <td>21.0</td>\n",
       "      <td>0.388808</td>\n",
       "      <td>0.154180</td>\n",
       "      <td>0.510597</td>\n",
       "      <td>96.7738</td>\n",
       "    </tr>\n",
       "  </tbody>\n",
       "</table>\n",
       "</div>"
      ],
      "text/plain": [
       "                     name   nDCG@10  nDCG@10 -  nDCG@10 p-value   AP@1000  \\\n",
       "0                baseline  0.680270        NaN              NaN  0.153638   \n",
       "1                   stops  0.685133       18.0         0.662320  0.151014   \n",
       "2    msmarcolm2_uniform_1  0.680287        5.0         0.995179  0.153561   \n",
       "3    msmarcolm2_uniform_2  0.683371        7.0         0.323074  0.153954   \n",
       "4    msmarcolm2_uniform_5  0.681396       19.0         0.878808  0.154046   \n",
       "5   msmarcolm2_uniform_12  0.682460       21.0         0.807220  0.155130   \n",
       "6   msmarcolm2_uniform_25  0.677608       20.0         0.782624  0.155048   \n",
       "7   msmarcolm2_uniform_50  0.676645       18.0         0.699133  0.154285   \n",
       "8  msmarcolm2_uniform_100  0.671149       21.0         0.388808  0.154180   \n",
       "\n",
       "   AP@1000 p-value  AvgDoclen@100  \n",
       "0              NaN       155.5084  \n",
       "1         0.493775       113.3234  \n",
       "2         0.157321       151.3734  \n",
       "3         0.065187       145.9782  \n",
       "4         0.153030       133.4244  \n",
       "5         0.006047       119.0762  \n",
       "6         0.039555       108.8774  \n",
       "7         0.383622       102.1318  \n",
       "8         0.510597        96.7738  "
      ]
     },
     "execution_count": 117,
     "metadata": {},
     "output_type": "execute_result"
    }
   ],
   "source": [
    "idf[[\"name\", \"nDCG@10\", \"nDCG@10 -\", \"nDCG@10 p-value\", \"AP@1000\", \"AP@1000 p-value\", \"AvgDoclen@100\" ]]"
   ]
  },
  {
   "cell_type": "code",
   "execution_count": 57,
   "id": "durable-validation",
   "metadata": {},
   "outputs": [
    {
     "name": "stdout",
     "output_type": "stream",
     "text": [
      "There are multiple query fields available: ('text', 'query', 'narrative'). To use with pyterrier, provide variant or modify dataframe to add query column.\n"
     ]
    },
    {
     "data": {
      "application/vnd.jupyter.widget-view+json": {
       "model_id": "4a73e918631740fdabddb0a8e83cca4a",
       "version_major": 2,
       "version_minor": 0
      },
      "text/plain": [
       "pt.Experiment:   0%|          | 0/3 [00:00<?, ?batches/s]"
      ]
     },
     "metadata": {},
     "output_type": "display_data"
    },
    {
     "name": "stderr",
     "output_type": "stream",
     "text": [
      "/opt/conda/envs/py37_new/lib/python3.7/site-packages/pandas/util/_decorators.py:311: SettingWithCopyWarning: \n",
      "A value is trying to be set on a copy of a slice from a DataFrame\n",
      "\n",
      "See the caveats in the documentation: https://pandas.pydata.org/pandas-docs/stable/user_guide/indexing.html#returning-a-view-versus-a-copy\n",
      "  return func(*args, **kwargs)\n"
     ]
    },
    {
     "data": {
      "text/html": [
       "<div>\n",
       "<style scoped>\n",
       "    .dataframe tbody tr th:only-of-type {\n",
       "        vertical-align: middle;\n",
       "    }\n",
       "\n",
       "    .dataframe tbody tr th {\n",
       "        vertical-align: top;\n",
       "    }\n",
       "\n",
       "    .dataframe thead th {\n",
       "        text-align: right;\n",
       "    }\n",
       "</style>\n",
       "<table border=\"1\" class=\"dataframe\">\n",
       "  <thead>\n",
       "    <tr style=\"text-align: right;\">\n",
       "      <th></th>\n",
       "      <th>name</th>\n",
       "      <th>AP@1000</th>\n",
       "      <th>nDCG@10</th>\n",
       "      <th>nDCG@20</th>\n",
       "      <th>nDCG@100</th>\n",
       "      <th>RR@1000</th>\n",
       "      <th>R@1000</th>\n",
       "      <th>AvgDoclen@1</th>\n",
       "      <th>AvgDoclen@10</th>\n",
       "      <th>AvgDoclen@100</th>\n",
       "      <th>AvgDoclen</th>\n",
       "    </tr>\n",
       "  </thead>\n",
       "  <tbody>\n",
       "    <tr>\n",
       "      <th>0</th>\n",
       "      <td>stops</td>\n",
       "      <td>0.151014</td>\n",
       "      <td>0.685133</td>\n",
       "      <td>0.628539</td>\n",
       "      <td>0.474425</td>\n",
       "      <td>0.91</td>\n",
       "      <td>0.30941</td>\n",
       "      <td>110.18</td>\n",
       "      <td>110.958</td>\n",
       "      <td>113.3234</td>\n",
       "      <td>102.60572</td>\n",
       "    </tr>\n",
       "  </tbody>\n",
       "</table>\n",
       "</div>"
      ],
      "text/plain": [
       "    name   AP@1000   nDCG@10   nDCG@20  nDCG@100  RR@1000   R@1000  \\\n",
       "0  stops  0.151014  0.685133  0.628539  0.474425     0.91  0.30941   \n",
       "\n",
       "   AvgDoclen@1  AvgDoclen@10  AvgDoclen@100  AvgDoclen  \n",
       "0       110.18       110.958       113.3234  102.60572  "
      ]
     },
     "metadata": {},
     "output_type": "display_data"
    }
   ],
   "source": [
    "from IPython.display import display\n",
    "for t in ['covid']:\n",
    "    idf = do_exp(\n",
    "        [get_uniform_pipeline(factory, stop_ids) ], \n",
    "        topics=t,\n",
    "        names=[\"stops\"],\n",
    "        save_dir=\"/nfs/staticPruning/results/repro_covid/stops_%s/\",\n",
    "    )\n",
    "    display(idf)"
   ]
  },
  {
   "cell_type": "markdown",
   "id": "global-former",
   "metadata": {},
   "source": [
    "## IDF document-centric pruning \n",
    "\n",
    "We now turn to implement the transformers for the document-centric pruning."
   ]
  },
  {
   "cell_type": "code",
   "execution_count": 48,
   "id": "demonstrated-weather",
   "metadata": {},
   "outputs": [],
   "source": [
    "\n",
    "from typing import Tuple, Sequence\n",
    "\n",
    "def prune_sorted_natural(x, *Ys):\n",
    "    assert len(x.shape)==1\n",
    "    \n",
    "    indices = torch.sort(x, descending=True).indices\n",
    "\n",
    "    # concatenate neg and pos sides\n",
    "    rtr = [\n",
    "        x[indices]\n",
    "    ]\n",
    "    \n",
    "    # apply same slicing for other arrays\n",
    "    for y in Ys:        \n",
    "        y_sorted = y[indices]\n",
    "        rtr.append(y_sorted)\n",
    "    return rtr\n",
    "\n",
    "def doc_centric_idf(tokenids : torch.Tensor, embs : torch.Tensor, num_prune) ->  Tuple[Sequence[int], torch.Tensor]:\n",
    "    \"\"\"\n",
    "    Returns the tokenids and embs after remvoing num_prune embeddings\n",
    "    \"\"\"\n",
    "       \n",
    "    length = len(tokenids)\n",
    "    newmask = torch.BoolTensor(length)\n",
    "    newmask[:] = True\n",
    "    embs = embs[0:length, :]\n",
    "    \n",
    "    dfs = nn_term.lookup[tokenids]\n",
    "    \n",
    "    #sort the embeddings according to pruning power\n",
    "    sorted_dfs, pos = prune_sorted_natural(\n",
    "        dfs, \n",
    "        torch.LongTensor(list(range(length)))\n",
    "    )\n",
    "\n",
    "    # prune the requisite numbers\n",
    "    newmask[pos[0:num_prune]] = False\n",
    "    \n",
    "    return tokenids[newmask], embs[newmask,:]\n",
    "\n",
    "\n",
    "def prune_doccentric_transformerH0(factory, topK, active_ids=None, min_obs=0):\n",
    "    assert active_ids is None \n",
    "    #if active_ids is None:\n",
    "    #    active_ids = list(range(nn_term.lookup.shape[0]))\n",
    "        \n",
    "        \n",
    "    \n",
    "    def _prune(df):\n",
    "        #pt.tqdm.pandas(desc='prune_doccentric')\n",
    "        #progress_apply\n",
    "        df[[\"doc_toks\", \"doc_embs\"]] = df.apply(\n",
    "            lambda row: doc_centric_idf(row.doc_toks, row.doc_embs, topK),\n",
    "            #lambda row: tc.ignore_prune(row.doc_toks, row.doc_embs, topK, pruning='global', blacklist=blacklist), \n",
    "            result_type=\"expand\", \n",
    "            axis=1)\n",
    "        return df\n",
    "    return pt.apply.generic(_prune)\n",
    "\n",
    "def prune_doccentric_pipeH0(topK, approx=True):\n",
    "    first_pass = ( factory.ann_retrieve_score() % 1000) if approx else factory.set_retrieve()\n",
    "    first_pass = pt.apply.query(lambda row: row['text']) >> first_pass\n",
    "    return ( first_pass\n",
    "        >> factory.fetch_index_encodings(ids=True, verbose=False) \n",
    "        >> prune_doccentric_transformerH0(factory, topK)\n",
    "        >> factory.scorer(verbose=False))\n"
   ]
  },
  {
   "cell_type": "markdown",
   "id": "electoral-radius",
   "metadata": {},
   "source": [
    "check that the document-centric pruning works."
   ]
  },
  {
   "cell_type": "markdown",
   "id": "removable-turner",
   "metadata": {},
   "source": [
    "now conduct the experiments for document-centric pruning. \n",
    "\n",
    "`DOC_CENTRIC_THRESHOLDS` corresponds to $\\tau_d$ in the paper."
   ]
  },
  {
   "cell_type": "code",
   "execution_count": 50,
   "id": "outer-temperature",
   "metadata": {},
   "outputs": [],
   "source": [
    "DOC_CENTRIC_THRESHOLDS=[1,3,5,8,10,15,20,25,30]"
   ]
  },
  {
   "cell_type": "code",
   "execution_count": 51,
   "id": "plastic-assist",
   "metadata": {},
   "outputs": [
    {
     "name": "stdout",
     "output_type": "stream",
     "text": [
      "There are multiple query fields available: ('text', 'query', 'narrative'). To use with pyterrier, provide variant or modify dataframe to add query column.\n"
     ]
    },
    {
     "data": {
      "application/vnd.jupyter.widget-view+json": {
       "model_id": "072846282331431c912a09a2c8fe4033",
       "version_major": 2,
       "version_minor": 0
      },
      "text/plain": [
       "pt.Experiment:   0%|          | 0/27 [00:00<?, ?batches/s]"
      ]
     },
     "metadata": {},
     "output_type": "display_data"
    },
    {
     "name": "stderr",
     "output_type": "stream",
     "text": [
      "/opt/conda/envs/py37_new/lib/python3.7/site-packages/pandas/util/_decorators.py:311: SettingWithCopyWarning: \n",
      "A value is trying to be set on a copy of a slice from a DataFrame\n",
      "\n",
      "See the caveats in the documentation: https://pandas.pydata.org/pandas-docs/stable/user_guide/indexing.html#returning-a-view-versus-a-copy\n",
      "  return func(*args, **kwargs)\n"
     ]
    },
    {
     "data": {
      "text/html": [
       "<div>\n",
       "<style scoped>\n",
       "    .dataframe tbody tr th:only-of-type {\n",
       "        vertical-align: middle;\n",
       "    }\n",
       "\n",
       "    .dataframe tbody tr th {\n",
       "        vertical-align: top;\n",
       "    }\n",
       "\n",
       "    .dataframe thead th {\n",
       "        text-align: right;\n",
       "    }\n",
       "</style>\n",
       "<table border=\"1\" class=\"dataframe\">\n",
       "  <thead>\n",
       "    <tr style=\"text-align: right;\">\n",
       "      <th></th>\n",
       "      <th>name</th>\n",
       "      <th>AP@1000</th>\n",
       "      <th>nDCG@10</th>\n",
       "      <th>nDCG@20</th>\n",
       "      <th>nDCG@100</th>\n",
       "      <th>RR@1000</th>\n",
       "      <th>R@1000</th>\n",
       "      <th>AvgDoclen@1</th>\n",
       "      <th>AvgDoclen@10</th>\n",
       "      <th>AvgDoclen@100</th>\n",
       "      <th>AvgDoclen</th>\n",
       "    </tr>\n",
       "  </thead>\n",
       "  <tbody>\n",
       "    <tr>\n",
       "      <th>0</th>\n",
       "      <td>doc_centric_1</td>\n",
       "      <td>0.154009</td>\n",
       "      <td>0.686882</td>\n",
       "      <td>0.638984</td>\n",
       "      <td>0.482621</td>\n",
       "      <td>0.941190</td>\n",
       "      <td>0.30941</td>\n",
       "      <td>144.12</td>\n",
       "      <td>152.552</td>\n",
       "      <td>155.9080</td>\n",
       "      <td>140.99394</td>\n",
       "    </tr>\n",
       "    <tr>\n",
       "      <th>1</th>\n",
       "      <td>doc_centric_3</td>\n",
       "      <td>0.154483</td>\n",
       "      <td>0.692781</td>\n",
       "      <td>0.640334</td>\n",
       "      <td>0.484729</td>\n",
       "      <td>0.931190</td>\n",
       "      <td>0.30941</td>\n",
       "      <td>149.04</td>\n",
       "      <td>153.632</td>\n",
       "      <td>158.2792</td>\n",
       "      <td>138.99394</td>\n",
       "    </tr>\n",
       "    <tr>\n",
       "      <th>2</th>\n",
       "      <td>doc_centric_5</td>\n",
       "      <td>0.154571</td>\n",
       "      <td>0.696925</td>\n",
       "      <td>0.646475</td>\n",
       "      <td>0.485673</td>\n",
       "      <td>0.953524</td>\n",
       "      <td>0.30941</td>\n",
       "      <td>154.28</td>\n",
       "      <td>158.146</td>\n",
       "      <td>160.9982</td>\n",
       "      <td>136.99396</td>\n",
       "    </tr>\n",
       "    <tr>\n",
       "      <th>3</th>\n",
       "      <td>doc_centric_8</td>\n",
       "      <td>0.154539</td>\n",
       "      <td>0.693335</td>\n",
       "      <td>0.650823</td>\n",
       "      <td>0.487208</td>\n",
       "      <td>0.931333</td>\n",
       "      <td>0.30941</td>\n",
       "      <td>164.14</td>\n",
       "      <td>160.764</td>\n",
       "      <td>161.9352</td>\n",
       "      <td>133.99628</td>\n",
       "    </tr>\n",
       "    <tr>\n",
       "      <th>4</th>\n",
       "      <td>doc_centric_10</td>\n",
       "      <td>0.153920</td>\n",
       "      <td>0.701040</td>\n",
       "      <td>0.651379</td>\n",
       "      <td>0.487203</td>\n",
       "      <td>0.929667</td>\n",
       "      <td>0.30941</td>\n",
       "      <td>162.14</td>\n",
       "      <td>161.108</td>\n",
       "      <td>161.4530</td>\n",
       "      <td>132.00294</td>\n",
       "    </tr>\n",
       "    <tr>\n",
       "      <th>5</th>\n",
       "      <td>doc_centric_15</td>\n",
       "      <td>0.152514</td>\n",
       "      <td>0.695993</td>\n",
       "      <td>0.651723</td>\n",
       "      <td>0.486520</td>\n",
       "      <td>0.918667</td>\n",
       "      <td>0.30941</td>\n",
       "      <td>156.58</td>\n",
       "      <td>157.804</td>\n",
       "      <td>158.4690</td>\n",
       "      <td>127.09028</td>\n",
       "    </tr>\n",
       "    <tr>\n",
       "      <th>6</th>\n",
       "      <td>doc_centric_20</td>\n",
       "      <td>0.151078</td>\n",
       "      <td>0.694291</td>\n",
       "      <td>0.647510</td>\n",
       "      <td>0.485457</td>\n",
       "      <td>0.898667</td>\n",
       "      <td>0.30941</td>\n",
       "      <td>155.82</td>\n",
       "      <td>153.640</td>\n",
       "      <td>154.5608</td>\n",
       "      <td>122.40936</td>\n",
       "    </tr>\n",
       "    <tr>\n",
       "      <th>7</th>\n",
       "      <td>doc_centric_25</td>\n",
       "      <td>0.150339</td>\n",
       "      <td>0.691857</td>\n",
       "      <td>0.647525</td>\n",
       "      <td>0.487296</td>\n",
       "      <td>0.896333</td>\n",
       "      <td>0.30941</td>\n",
       "      <td>151.66</td>\n",
       "      <td>150.332</td>\n",
       "      <td>150.5366</td>\n",
       "      <td>118.01958</td>\n",
       "    </tr>\n",
       "    <tr>\n",
       "      <th>8</th>\n",
       "      <td>doc_centric_30</td>\n",
       "      <td>0.149733</td>\n",
       "      <td>0.691758</td>\n",
       "      <td>0.642167</td>\n",
       "      <td>0.485995</td>\n",
       "      <td>0.896333</td>\n",
       "      <td>0.30941</td>\n",
       "      <td>146.68</td>\n",
       "      <td>146.732</td>\n",
       "      <td>146.2804</td>\n",
       "      <td>113.83872</td>\n",
       "    </tr>\n",
       "  </tbody>\n",
       "</table>\n",
       "</div>"
      ],
      "text/plain": [
       "             name   AP@1000   nDCG@10   nDCG@20  nDCG@100   RR@1000   R@1000  \\\n",
       "0   doc_centric_1  0.154009  0.686882  0.638984  0.482621  0.941190  0.30941   \n",
       "1   doc_centric_3  0.154483  0.692781  0.640334  0.484729  0.931190  0.30941   \n",
       "2   doc_centric_5  0.154571  0.696925  0.646475  0.485673  0.953524  0.30941   \n",
       "3   doc_centric_8  0.154539  0.693335  0.650823  0.487208  0.931333  0.30941   \n",
       "4  doc_centric_10  0.153920  0.701040  0.651379  0.487203  0.929667  0.30941   \n",
       "5  doc_centric_15  0.152514  0.695993  0.651723  0.486520  0.918667  0.30941   \n",
       "6  doc_centric_20  0.151078  0.694291  0.647510  0.485457  0.898667  0.30941   \n",
       "7  doc_centric_25  0.150339  0.691857  0.647525  0.487296  0.896333  0.30941   \n",
       "8  doc_centric_30  0.149733  0.691758  0.642167  0.485995  0.896333  0.30941   \n",
       "\n",
       "   AvgDoclen@1  AvgDoclen@10  AvgDoclen@100  AvgDoclen  \n",
       "0       144.12       152.552       155.9080  140.99394  \n",
       "1       149.04       153.632       158.2792  138.99394  \n",
       "2       154.28       158.146       160.9982  136.99396  \n",
       "3       164.14       160.764       161.9352  133.99628  \n",
       "4       162.14       161.108       161.4530  132.00294  \n",
       "5       156.58       157.804       158.4690  127.09028  \n",
       "6       155.82       153.640       154.5608  122.40936  \n",
       "7       151.66       150.332       150.5366  118.01958  \n",
       "8       146.68       146.732       146.2804  113.83872  "
      ]
     },
     "execution_count": 51,
     "metadata": {},
     "output_type": "execute_result"
    }
   ],
   "source": [
    "doccentric_2019 = do_exp(\n",
    "    [prune_doccentric_pipeH0(x) for x in DOC_CENTRIC_THRESHOLDS], \n",
    "    topics='covid',\n",
    "    names=[\"doc_centric_%d\" % x for x in DOC_CENTRIC_THRESHOLDS],\n",
    "    save_dir=\"/nfs/staticPruning/results/repro_covid/doccentric_%s/\"\n",
    ")\n",
    "doccentric_2019"
   ]
  },
  {
   "cell_type": "markdown",
   "id": "union-parish",
   "metadata": {},
   "source": [
    "# uniform idf index generation\n",
    "\n",
    "We now turn to creating real indices. After index generation has completed, the faiss_index.py script within ColBERT must be executed, using the `--sample 0.05` setting."
   ]
  },
  {
   "cell_type": "code",
   "execution_count": 122,
   "id": "elementary-divorce",
   "metadata": {},
   "outputs": [],
   "source": [
    "def prune_index_to_disk_by_idf(factory, new_index_path, num_tokens, flush):\n",
    "    import torch\n",
    "    \n",
    "    #updated to use msmarco\n",
    "    removed_tids = msmarco_lm[3:num_tokens+3]\n",
    "    #removed_tids = torch.Tensor(removed_tids)\n",
    "    removed_tids = set(removed_tids)\n",
    "    \n",
    "    import os, torch\n",
    "    embs_to_save = []\n",
    "    ids_to_save = []\n",
    "    shard=0\n",
    "    shard_size=0\n",
    "    \n",
    "    def _save_shard(shard, all_embs, all_ids):\n",
    "        import ujson\n",
    "        torch.save(torch.cat(all_embs), os.path.join(new_index_path, \"%d.pt\" % shard))\n",
    "        torch.save(torch.cat(all_ids), os.path.join(new_index_path, \"%d.tokenids\" % shard))\n",
    "        doclens_path = os.path.join(new_index_path, \"doclens.%d.json\" % shard)\n",
    "        doclens = [d.size(0) for d in all_embs]\n",
    "        with open(doclens_path, 'w') as output_doclens:\n",
    "            ujson.dump(doclens, output_doclens)\n",
    "        \n",
    "    \n",
    "    mask = torch.BoolTensor(180)\n",
    "    mask[:] = False\n",
    "    numdocs = len(factory)\n",
    "\n",
    "    for pid in pt.tqdm(range(numdocs), total=numdocs, unit='d'):        \n",
    "        ids = factory.nn_term().get_tokens_for_doc(pid)\n",
    "        num_toks = ids.size(0)\n",
    "        embs = factory._rrm().get_embedding(pid).type(torch.float16)\n",
    "        embs = embs[0:num_toks,:]\n",
    "        \n",
    "        mask[0:num_toks] = torch.BoolTensor([x.item() in removed_tids for x in ids]) # torch.isin(ids, removed_tids)\n",
    "        #This is 5x faster says Antonio\n",
    "        #mask[0:num_tokens] = torch.any(ids[None, : ] == removed_tids[:, None], axis=0)\n",
    "\n",
    "        newids = ids[~mask[:num_toks]]\n",
    "        newembs = embs[~mask[:num_toks], : ]\n",
    "        \n",
    "        #assert newids.shape[0] > 0, newids.shape\n",
    "        mask[:]  = False\n",
    "        \n",
    "        embs_to_save.append(newembs)\n",
    "        ids_to_save.append(newids)\n",
    "        shard_size += 1\n",
    "        \n",
    "        if shard_size == flush:\n",
    "            print(\"Flushing shard %d\" % shard)\n",
    "            _save_shard(shard, embs_to_save, ids_to_save)\n",
    "            shard += 1\n",
    "            shard_size = 0\n",
    "            embs_to_save=[]\n",
    "            ids_to_save=[]\n",
    "            print(\"Done\")\n",
    "            \n",
    "    if shard_size > 0:\n",
    "        _save_shard(shard, embs_to_save, ids_to_save)"
   ]
  },
  {
   "cell_type": "code",
   "execution_count": 123,
   "id": "orange-merchant",
   "metadata": {},
   "outputs": [
    {
     "data": {
      "application/vnd.jupyter.widget-view+json": {
       "model_id": "c9e2998e62be4e6ab5d3637b970191fb",
       "version_major": 2,
       "version_minor": 0
      },
      "text/plain": [
       "  0%|          | 0/171332 [00:00<?, ?d/s]"
      ]
     },
     "metadata": {},
     "output_type": "display_data"
    }
   ],
   "source": [
    "import os\n",
    "os.makedirs(\"/nfsindices/staticPrunedIndices/repro_paper_SIGIR2022/covid_msmarcolm2_idf_uniform_100\", exist_ok=True)\n",
    "prune_index_to_disk_by_idf(\n",
    "    factory, \n",
    "    \"/nfsindices/staticPrunedIndices/repro_paper_SIGIR2022/covid_msmarcolm2_idf_uniform_100\", \n",
    "    100, \n",
    "    300_000)"
   ]
  },
  {
   "cell_type": "code",
   "execution_count": 124,
   "id": "decreased-couple",
   "metadata": {},
   "outputs": [
    {
     "name": "stdout",
     "output_type": "stream",
     "text": [
      "[May 06, 10:43:41] #> Starting..\n",
      "[May 06, 10:43:41] #> Training with 5.0% of *all* embeddings (provided --sample).\n",
      "[May 06, 10:43:41] #> Processing slice #1 of 1 (range 0..1).\n",
      "[May 06, 10:43:41] #> Will write to /nfsindices/staticPrunedIndices/repro_paper_SIGIR2022/covid_msmarcolm2_idf_uniform_100/ivfpq.100.faiss.\n",
      "[May 06, 10:43:41] #> Loading /nfsindices/staticPrunedIndices/repro_paper_SIGIR2022/covid_msmarcolm2_idf_uniform_100/0.pt ...\n",
      "#> Sample has shape (736953, 128)\n",
      "[May 06, 10:44:13] Preparing resources for 1 GPUs.\n",
      "[May 06, 10:44:13] #> Training with the vectors...\n",
      "[May 06, 10:44:13] #> Training now (using 1 GPUs)...\n",
      "0.1924290657043457\n",
      "5.319111585617065\n",
      "0.0003383159637451172\n",
      "[May 06, 10:44:19] Done training!\n",
      "\n",
      "[May 06, 10:44:19] #> Indexing the vectors...\n",
      "[May 06, 10:44:19] #> Loading ('/nfsindices/staticPrunedIndices/repro_paper_SIGIR2022/covid_msmarcolm2_idf_uniform_100/0.pt', None, None) (from queue)...\n",
      "[May 06, 10:44:23] #> Processing a sub_collection with shape (14739072, 128)\n",
      "[May 06, 10:44:23] Add data with shape (14739072, 128) (offset = 0)..\n",
      "  IndexIVFPQ size 0 -> GpuIndexIVFPQ indicesOptions=0 usePrecomputed=0 useFloat16=1 reserveVecs=33554432\n",
      "14680064/14739072 (3.911 s)   Flush indexes to CPU\n",
      "add(.) time: 4.691 s \t\t--\t\t index.ntotal = 14739072\n",
      "[May 06, 10:44:28] Done indexing!\n",
      "[May 06, 10:44:28] Writing index to /nfsindices/staticPrunedIndices/repro_paper_SIGIR2022/covid_msmarcolm2_idf_uniform_100/ivfpq.100.faiss ...\n",
      "[May 06, 10:44:32] \n",
      "\n",
      "Done! All complete (for slice #1 of 1)!\n"
     ]
    }
   ],
   "source": [
    "class Object(object):\n",
    "    pass\n",
    "args = Object()\n",
    "from colbert.indexing.faiss import index_faiss\n",
    "args.partitions = 100\n",
    "args.sample = 0.05\n",
    "args.slices = 1\n",
    "args.index_root = \"/nfsindices/staticPrunedIndices/repro_paper_SIGIR2022/\"\n",
    "args.index_name = \"covid_stops\"\n",
    "args.index_path = \"/nfsindices/staticPrunedIndices/repro_paper_SIGIR2022/\" + \"covid_msmarcolm2_idf_uniform_100\"\n",
    "index_faiss(args)\n"
   ]
  },
  {
   "cell_type": "code",
   "execution_count": 132,
   "id": "varying-business",
   "metadata": {},
   "outputs": [
    {
     "name": "stdout",
     "output_type": "stream",
     "text": [
      "huggingface/tokenizers: The current process just got forked, after parallelism has already been used. Disabling parallelism to avoid deadlocks...\n",
      "To disable this warning, you can either:\n",
      "\t- Avoid using `tokenizers` before the fork if possible\n",
      "\t- Explicitly set the environment variable TOKENIZERS_PARALLELISM=(true | false)\n"
     ]
    }
   ],
   "source": [
    "!ln -s /nfsindices/BEIR/trec_covid/trec_covid_colbertIndex_craig/docnos.pkl.gz /nfsindices/staticPrunedIndices/repro_paper_SIGIR2022/covid_msmarcolm2_idf_uniform_100/\n"
   ]
  },
  {
   "cell_type": "markdown",
   "id": "underlying-estate",
   "metadata": {},
   "source": [
    "# stopwords removed index generation\n",
    "\n",
    "The file `stopword-list.txt` corresponds to Terrier's stopwords file."
   ]
  },
  {
   "cell_type": "code",
   "execution_count": 118,
   "id": "found-duplicate",
   "metadata": {},
   "outputs": [],
   "source": [
    "if not os.path.exists(\"stopword-list.txt\"):\n",
    "    !wget \"https://raw.githubusercontent.com/terrier-org/terrier-core/5.x/modules/core/src/main/resources/stopword-list.txt\"\n",
    "\n",
    "stops=[]\n",
    "with open(\"stopword-list.txt\") as f:\n",
    "    for l in f:\n",
    "        stops.append(l.strip())\n",
    "\n",
    "from transformers import AutoTokenizer\n",
    "tokenizer = AutoTokenizer.from_pretrained(\"bert-base-uncased\")\n",
    "stop_ids = [x for x in tokenizer.convert_tokens_to_ids(stops) if x != 100]"
   ]
  },
  {
   "cell_type": "code",
   "execution_count": 119,
   "id": "complimentary-democrat",
   "metadata": {},
   "outputs": [
    {
     "data": {
      "text/plain": [
       "['.', 'the', ',', 'of', 'and', 'a', 'to', 'in', 'is', 'for']"
      ]
     },
     "execution_count": 119,
     "metadata": {},
     "output_type": "execute_result"
    }
   ],
   "source": [
    "tokenizer.convert_ids_to_tokens([1012, 1996, 1010, 1997, 1998, 1037, 2000, 1999, 2003, 2005])"
   ]
  },
  {
   "cell_type": "code",
   "execution_count": 120,
   "id": "advance-lindsay",
   "metadata": {},
   "outputs": [],
   "source": [
    "def prune_index_to_disk_by_stops(factory, new_index_path, flush):\n",
    "    import torch\n",
    "    \n",
    "    removed_tids = stop_ids\n",
    "    #removed_tids = torch.Tensor(removed_tids)\n",
    "    removed_tids = set(removed_tids)\n",
    "    \n",
    "    import os, torch\n",
    "    embs_to_save = []\n",
    "    ids_to_save = []\n",
    "    shard=0\n",
    "    shard_size=0\n",
    "    \n",
    "    def _save_shard(shard, all_embs, all_ids):\n",
    "        import ujson\n",
    "        torch.save(torch.cat(all_embs), os.path.join(new_index_path, \"%d.pt\" % shard))\n",
    "        torch.save(torch.cat(all_ids), os.path.join(new_index_path, \"%d.tokenids\" % shard))\n",
    "        doclens_path = os.path.join(new_index_path, \"doclens.%d.json\" % shard)\n",
    "        doclens = [d.size(0) for d in all_embs]\n",
    "        with open(doclens_path, 'w') as output_doclens:\n",
    "            ujson.dump(doclens, output_doclens)\n",
    "        \n",
    "    \n",
    "    mask = torch.BoolTensor(180)\n",
    "    mask[:] = False\n",
    "    numdocs = len(factory)\n",
    "\n",
    "    for pid in pt.tqdm(range(numdocs), total=numdocs, unit='d'):        \n",
    "        ids = factory.nn_term().get_tokens_for_doc(pid)\n",
    "        num_toks = ids.size(0)\n",
    "        embs = factory._rrm().get_embedding(pid).type(torch.float16)\n",
    "        embs = embs[0:num_toks,:]\n",
    "        \n",
    "        mask[0:num_toks] = torch.BoolTensor([x.item() in removed_tids for x in ids]) # torch.isin(ids, removed_tids)\n",
    "        #This is 5x faster says Antonio\n",
    "        #mask[0:num_tokens] = torch.any(ids[None, : ] == removed_tids[:, None], axis=0)\n",
    "\n",
    "        newids = ids[~mask[:num_toks]]\n",
    "        newembs = embs[~mask[:num_toks], : ]\n",
    "        \n",
    "        #assert newids.shape[0] > 0, newids.shape\n",
    "        mask[:]  = False\n",
    "        \n",
    "        embs_to_save.append(newembs)\n",
    "        ids_to_save.append(newids)\n",
    "        shard_size += 1\n",
    "        \n",
    "        if shard_size == flush:\n",
    "            print(\"Flushing shard %d\" % shard)\n",
    "            _save_shard(shard, embs_to_save, ids_to_save)\n",
    "            shard += 1\n",
    "            shard_size = 0\n",
    "            embs_to_save=[]\n",
    "            ids_to_save=[]\n",
    "            print(\"Done\")\n",
    "            \n",
    "    if shard_size > 0:\n",
    "        _save_shard(shard, embs_to_save, ids_to_save)"
   ]
  },
  {
   "cell_type": "code",
   "execution_count": 68,
   "id": "educational-messaging",
   "metadata": {},
   "outputs": [
    {
     "data": {
      "application/vnd.jupyter.widget-view+json": {
       "model_id": "72f89181988e4ed2828de8beca599802",
       "version_major": 2,
       "version_minor": 0
      },
      "text/plain": [
       "  0%|          | 0/171332 [00:00<?, ?d/s]"
      ]
     },
     "metadata": {},
     "output_type": "display_data"
    }
   ],
   "source": [
    "import os\n",
    "os.makedirs(\"/nfsindices/staticPrunedIndices/repro_paper_SIGIR2022/covid_stops\", exist_ok=True)\n",
    "prune_index_to_disk_by_stops(\n",
    "    factory, \n",
    "    \"/nfsindices/staticPrunedIndices/repro_paper_SIGIR2022/covid_stops\",\n",
    "    300_000)"
   ]
  },
  {
   "cell_type": "code",
   "execution_count": 81,
   "id": "focused-sensitivity",
   "metadata": {},
   "outputs": [
    {
     "name": "stdout",
     "output_type": "stream",
     "text": [
      "[May 05, 22:53:48] #> Starting..\n",
      "[May 05, 22:53:48] #> Training with 5.0% of *all* embeddings (provided --sample).\n",
      "[May 05, 22:53:48] #> Processing slice #1 of 1 (range 0..1).\n",
      "[May 05, 22:53:48] #> Will write to /nfsindices/staticPrunedIndices/repro_paper_SIGIR2022/covid_stops/ivfpq.100.faiss.\n",
      "[May 05, 22:53:48] #> Loading /nfsindices/staticPrunedIndices/repro_paper_SIGIR2022/covid_stops/0.pt ...\n",
      "#> Sample has shape (835101, 128)\n",
      "[May 05, 22:53:52] Preparing resources for 1 GPUs.\n",
      "[May 05, 22:53:52] #> Training with the vectors...\n",
      "[May 05, 22:53:52] #> Training now (using 1 GPUs)...\n",
      "0.2253422737121582\n",
      "5.568708658218384\n",
      "0.0043790340423583984\n",
      "[May 05, 22:53:57] Done training!\n",
      "\n",
      "[May 05, 22:53:57] #> Indexing the vectors...\n",
      "[May 05, 22:53:57] #> Loading ('/nfsindices/staticPrunedIndices/repro_paper_SIGIR2022/covid_stops/0.pt', None, None) (from queue)...\n",
      "[May 05, 22:54:02] #> Processing a sub_collection with shape (16702030, 128)\n",
      "[May 05, 22:54:02] Add data with shape (16702030, 128) (offset = 0)..\n",
      "  IndexIVFPQ size 0 -> GpuIndexIVFPQ indicesOptions=0 usePrecomputed=0 useFloat16=1 reserveVecs=33554432\n",
      "16646144/16702030 (4.586 s)     Flush indexes to CPU\n",
      "add(.) time: 5.564 s \t\t--\t\t index.ntotal = 16702030\n",
      "[May 05, 22:54:08] Done indexing!\n",
      "[May 05, 22:54:08] Writing index to /nfsindices/staticPrunedIndices/repro_paper_SIGIR2022/covid_stops/ivfpq.100.faiss ...\n",
      "[May 05, 22:54:12] \n",
      "\n",
      "Done! All complete (for slice #1 of 1)!\n"
     ]
    }
   ],
   "source": [
    "class Object(object):\n",
    "    pass\n",
    "args = Object()\n",
    "from colbert.indexing.faiss import index_faiss\n",
    "args.partitions = 100\n",
    "args.sample = 0.05\n",
    "args.slices = 1\n",
    "args.index_root = \"/nfsindices/staticPrunedIndices/repro_paper_SIGIR2022/\"\n",
    "args.index_name = \"covid_stops\"\n",
    "args.index_path = \"/nfsindices/staticPrunedIndices/repro_paper_SIGIR2022/\" + \"covid_stops\"\n",
    "index_faiss(args)\n"
   ]
  },
  {
   "cell_type": "code",
   "execution_count": 95,
   "id": "general-channel",
   "metadata": {},
   "outputs": [
    {
     "name": "stdout",
     "output_type": "stream",
     "text": [
      "huggingface/tokenizers: The current process just got forked, after parallelism has already been used. Disabling parallelism to avoid deadlocks...\n",
      "To disable this warning, you can either:\n",
      "\t- Avoid using `tokenizers` before the fork if possible\n",
      "\t- Explicitly set the environment variable TOKENIZERS_PARALLELISM=(true | false)\n",
      "huggingface/tokenizers: The current process just got forked, after parallelism has already been used. Disabling parallelism to avoid deadlocks...\n",
      "To disable this warning, you can either:\n",
      "\t- Avoid using `tokenizers` before the fork if possible\n",
      "\t- Explicitly set the environment variable TOKENIZERS_PARALLELISM=(true | false)\n"
     ]
    }
   ],
   "source": [
    "!ln -s /nfsindices/BEIR/trec_covid/trec_covid_colbertIndex_craig/docnos.pkl.gz /nfsindices/staticPrunedIndices/repro_paper_SIGIR2022/covid_stops/\n",
    "!ln -s /nfsindices/BEIR/trec_covid/trec_covid_colbertIndex_craig/docnos.pkl.gz /nfsindices/staticPrunedIndices/repro_paper_SIGIR2022/covid_msmarcolm2_idf_uniform_100/\n",
    "\n"
   ]
  },
  {
   "cell_type": "code",
   "execution_count": 125,
   "id": "welcome-candidate",
   "metadata": {},
   "outputs": [],
   "source": [
    "index=(\"/nfsindices/staticPrunedIndices/repro_paper_SIGIR2022/\", \"covid_stops\")\n",
    "stops_pruned_factory = pyterrier_colbert.ranking.ColBERTFactory(\n",
    "    (factory.args.colbert, factory.args.checkpoint), *index, faiss_partitions=100)"
   ]
  },
  {
   "cell_type": "code",
   "execution_count": 126,
   "id": "executed-burton",
   "metadata": {},
   "outputs": [
    {
     "name": "stdout",
     "output_type": "stream",
     "text": [
      "Loading reranking index, memtype=mem\n"
     ]
    },
    {
     "data": {
      "application/vnd.jupyter.widget-view+json": {
       "model_id": "543c538a9dff470cb67cd7be26c42415",
       "version_major": 2,
       "version_minor": 0
      },
      "text/plain": [
       "Loading index shards to memory:   0%|          | 0/1 [00:00<?, ?shard/s]"
      ]
     },
     "metadata": {},
     "output_type": "display_data"
    },
    {
     "name": "stdout",
     "output_type": "stream",
     "text": [
      "[May 06, 10:44:36] #> Loading the FAISS index from /nfsindices/staticPrunedIndices/repro_paper_SIGIR2022/covid_stops/ivfpq.100.faiss ..\n",
      "[May 06, 10:44:39] #> Building the emb2pid mapping..\n",
      "[May 06, 10:44:40] len(self.emb2pid) = 16702030\n"
     ]
    }
   ],
   "source": [
    "stops_pruned_factory.load_index(embeddings=True, faiss=True)"
   ]
  },
  {
   "cell_type": "code",
   "execution_count": 133,
   "id": "catholic-wheel",
   "metadata": {},
   "outputs": [],
   "source": [
    "index=(\"/nfsindices/staticPrunedIndices/repro_paper_SIGIR2022/\", \"covid_msmarcolm2_idf_uniform_100\")\n",
    "\n",
    "idf_pruned_factory = pyterrier_colbert.ranking.ColBERTFactory(\n",
    "    (factory.args.colbert, factory.args.checkpoint), *index, faiss_partitions=100)\n"
   ]
  },
  {
   "cell_type": "code",
   "execution_count": 134,
   "id": "identified-portland",
   "metadata": {},
   "outputs": [
    {
     "name": "stdout",
     "output_type": "stream",
     "text": [
      "Loading reranking index, memtype=mem\n"
     ]
    },
    {
     "data": {
      "application/vnd.jupyter.widget-view+json": {
       "model_id": "76cf7dc7f0ff4c4897d101332853bb34",
       "version_major": 2,
       "version_minor": 0
      },
      "text/plain": [
       "Loading index shards to memory:   0%|          | 0/1 [00:00<?, ?shard/s]"
      ]
     },
     "metadata": {},
     "output_type": "display_data"
    },
    {
     "name": "stdout",
     "output_type": "stream",
     "text": [
      "[May 06, 10:45:18] #> Loading the FAISS index from /nfsindices/staticPrunedIndices/repro_paper_SIGIR2022/covid_msmarcolm2_idf_uniform_100/ivfpq.100.faiss ..\n",
      "[May 06, 10:45:18] #> Building the emb2pid mapping..\n",
      "[May 06, 10:45:19] len(self.emb2pid) = 14739072\n"
     ]
    }
   ],
   "source": [
    "idf_pruned_factory.load_index(embeddings=True, faiss=True)"
   ]
  },
  {
   "cell_type": "code",
   "execution_count": 135,
   "id": "correct-desperate",
   "metadata": {},
   "outputs": [],
   "source": [
    "idf_orig_faiss = (\n",
    "    pt.apply.query(lambda row: row['text'])\n",
    "    >> (factory.ann_retrieve_score() % 1000) \n",
    "    >> idf_pruned_factory.fetch_index_encodings(ids=True, verbose=False) \n",
    "    >> idf_pruned_factory.scorer()\n",
    ")\n",
    "\n",
    "idf_new_faiss = (\n",
    "    pt.apply.query(lambda row: row['text'])\n",
    "    >> (idf_pruned_factory.ann_retrieve_score() % 1000) \n",
    "    >> idf_pruned_factory.fetch_index_encodings(ids=True, verbose=False) \n",
    "    >> idf_pruned_factory.scorer()\n",
    ")\n",
    "\n",
    "stops_orig_faiss = (\n",
    "    pt.apply.query(lambda row: row['text'])\n",
    "    >> (factory.ann_retrieve_score() % 1000) \n",
    "    >> stops_pruned_factory.fetch_index_encodings(ids=True, verbose=False) \n",
    "    >> stops_pruned_factory.scorer()\n",
    ")\n",
    "\n",
    "stops_new_faiss = (\n",
    "    pt.apply.query(lambda row: row['text'])\n",
    "    >> (stops_pruned_factory.ann_retrieve_score() % 1000) \n",
    "    >> stops_pruned_factory.fetch_index_encodings(ids=True, verbose=False) \n",
    "    >> stops_pruned_factory.scorer()\n",
    ")"
   ]
  },
  {
   "cell_type": "code",
   "execution_count": null,
   "id": "practical-ideal",
   "metadata": {},
   "outputs": [],
   "source": []
  },
  {
   "cell_type": "code",
   "execution_count": 136,
   "id": "victorian-sitting",
   "metadata": {},
   "outputs": [
    {
     "name": "stdout",
     "output_type": "stream",
     "text": [
      "There are multiple query fields available: ('text', 'query', 'narrative'). To use with pyterrier, provide variant or modify dataframe to add query column.\n"
     ]
    },
    {
     "data": {
      "application/vnd.jupyter.widget-view+json": {
       "model_id": "2f579807ee074a0b899ccd5e0fd4b59d",
       "version_major": 2,
       "version_minor": 0
      },
      "text/plain": [
       "pt.Experiment:   0%|          | 0/15 [00:00<?, ?batches/s]"
      ]
     },
     "metadata": {},
     "output_type": "display_data"
    },
    {
     "name": "stderr",
     "output_type": "stream",
     "text": [
      "/opt/conda/envs/py37_new/lib/python3.7/site-packages/pandas/util/_decorators.py:311: SettingWithCopyWarning: \n",
      "A value is trying to be set on a copy of a slice from a DataFrame\n",
      "\n",
      "See the caveats in the documentation: https://pandas.pydata.org/pandas-docs/stable/user_guide/indexing.html#returning-a-view-versus-a-copy\n",
      "  return func(*args, **kwargs)\n"
     ]
    },
    {
     "name": "stdout",
     "output_type": "stream",
     "text": [
      "[May 06, 10:46:11] #> Building the emb2tid mapping..\n",
      "16702030\n",
      "Loading doclens\n",
      "[May 06, 10:47:00] #> Building the emb2tid mapping..\n",
      "14739072\n",
      "Loading doclens\n"
     ]
    },
    {
     "data": {
      "text/html": [
       "<div>\n",
       "<style scoped>\n",
       "    .dataframe tbody tr th:only-of-type {\n",
       "        vertical-align: middle;\n",
       "    }\n",
       "\n",
       "    .dataframe tbody tr th {\n",
       "        vertical-align: top;\n",
       "    }\n",
       "\n",
       "    .dataframe thead th {\n",
       "        text-align: right;\n",
       "    }\n",
       "</style>\n",
       "<table border=\"1\" class=\"dataframe\">\n",
       "  <thead>\n",
       "    <tr style=\"text-align: right;\">\n",
       "      <th></th>\n",
       "      <th>name</th>\n",
       "      <th>R@1000</th>\n",
       "      <th>nDCG@10</th>\n",
       "      <th>nDCG@20</th>\n",
       "      <th>nDCG@100</th>\n",
       "      <th>AP@100</th>\n",
       "      <th>AP@1000</th>\n",
       "      <th>RR@1000</th>\n",
       "      <th>AvgDoclen@1</th>\n",
       "      <th>AvgDoclen</th>\n",
       "      <th>...</th>\n",
       "      <th>AvgDoclen@1 p-value</th>\n",
       "      <th>AvgDoclen +</th>\n",
       "      <th>AvgDoclen -</th>\n",
       "      <th>AvgDoclen p-value</th>\n",
       "      <th>AvgDoclen@100 +</th>\n",
       "      <th>AvgDoclen@100 -</th>\n",
       "      <th>AvgDoclen@100 p-value</th>\n",
       "      <th>AvgDoclen@10 +</th>\n",
       "      <th>AvgDoclen@10 -</th>\n",
       "      <th>AvgDoclen@10 p-value</th>\n",
       "    </tr>\n",
       "  </thead>\n",
       "  <tbody>\n",
       "    <tr>\n",
       "      <th>0</th>\n",
       "      <td>baseline</td>\n",
       "      <td>0.309410</td>\n",
       "      <td>0.680270</td>\n",
       "      <td>0.635233</td>\n",
       "      <td>0.481342</td>\n",
       "      <td>0.078868</td>\n",
       "      <td>0.153638</td>\n",
       "      <td>0.940833</td>\n",
       "      <td>142.38</td>\n",
       "      <td>141.99394</td>\n",
       "      <td>...</td>\n",
       "      <td>NaN</td>\n",
       "      <td>NaN</td>\n",
       "      <td>NaN</td>\n",
       "      <td>NaN</td>\n",
       "      <td>NaN</td>\n",
       "      <td>NaN</td>\n",
       "      <td>NaN</td>\n",
       "      <td>NaN</td>\n",
       "      <td>NaN</td>\n",
       "      <td>NaN</td>\n",
       "    </tr>\n",
       "    <tr>\n",
       "      <th>1</th>\n",
       "      <td>stops_orig_faiss</td>\n",
       "      <td>0.309410</td>\n",
       "      <td>0.685133</td>\n",
       "      <td>0.628539</td>\n",
       "      <td>0.474425</td>\n",
       "      <td>0.075465</td>\n",
       "      <td>0.151014</td>\n",
       "      <td>0.910000</td>\n",
       "      <td>110.18</td>\n",
       "      <td>102.60572</td>\n",
       "      <td>...</td>\n",
       "      <td>5.705261e-05</td>\n",
       "      <td>0.0</td>\n",
       "      <td>50.0</td>\n",
       "      <td>1.943140e-46</td>\n",
       "      <td>0.0</td>\n",
       "      <td>50.0</td>\n",
       "      <td>1.736642e-36</td>\n",
       "      <td>2.0</td>\n",
       "      <td>48.0</td>\n",
       "      <td>1.963390e-24</td>\n",
       "    </tr>\n",
       "    <tr>\n",
       "      <th>2</th>\n",
       "      <td>stops_new_faiss</td>\n",
       "      <td>0.283956</td>\n",
       "      <td>0.688995</td>\n",
       "      <td>0.630881</td>\n",
       "      <td>0.470062</td>\n",
       "      <td>0.074438</td>\n",
       "      <td>0.142657</td>\n",
       "      <td>0.915000</td>\n",
       "      <td>109.70</td>\n",
       "      <td>104.35474</td>\n",
       "      <td>...</td>\n",
       "      <td>4.749742e-05</td>\n",
       "      <td>0.0</td>\n",
       "      <td>50.0</td>\n",
       "      <td>2.940886e-39</td>\n",
       "      <td>0.0</td>\n",
       "      <td>50.0</td>\n",
       "      <td>2.342916e-36</td>\n",
       "      <td>2.0</td>\n",
       "      <td>48.0</td>\n",
       "      <td>2.425086e-24</td>\n",
       "    </tr>\n",
       "    <tr>\n",
       "      <th>3</th>\n",
       "      <td>idf_orig_faiss</td>\n",
       "      <td>0.309410</td>\n",
       "      <td>0.671149</td>\n",
       "      <td>0.624467</td>\n",
       "      <td>0.478622</td>\n",
       "      <td>0.078525</td>\n",
       "      <td>0.154180</td>\n",
       "      <td>0.905667</td>\n",
       "      <td>90.06</td>\n",
       "      <td>89.85236</td>\n",
       "      <td>...</td>\n",
       "      <td>1.112899e-10</td>\n",
       "      <td>0.0</td>\n",
       "      <td>50.0</td>\n",
       "      <td>4.593639e-45</td>\n",
       "      <td>0.0</td>\n",
       "      <td>50.0</td>\n",
       "      <td>3.913884e-43</td>\n",
       "      <td>0.0</td>\n",
       "      <td>50.0</td>\n",
       "      <td>4.390639e-32</td>\n",
       "    </tr>\n",
       "    <tr>\n",
       "      <th>4</th>\n",
       "      <td>idf_new_faiss</td>\n",
       "      <td>0.292591</td>\n",
       "      <td>0.672230</td>\n",
       "      <td>0.627374</td>\n",
       "      <td>0.470939</td>\n",
       "      <td>0.077985</td>\n",
       "      <td>0.147417</td>\n",
       "      <td>0.908333</td>\n",
       "      <td>89.80</td>\n",
       "      <td>90.60890</td>\n",
       "      <td>...</td>\n",
       "      <td>1.005711e-10</td>\n",
       "      <td>0.0</td>\n",
       "      <td>50.0</td>\n",
       "      <td>4.079497e-43</td>\n",
       "      <td>0.0</td>\n",
       "      <td>50.0</td>\n",
       "      <td>4.459150e-43</td>\n",
       "      <td>0.0</td>\n",
       "      <td>50.0</td>\n",
       "      <td>1.232724e-31</td>\n",
       "    </tr>\n",
       "  </tbody>\n",
       "</table>\n",
       "<p>5 rows × 45 columns</p>\n",
       "</div>"
      ],
      "text/plain": [
       "               name    R@1000   nDCG@10   nDCG@20  nDCG@100    AP@100  \\\n",
       "0          baseline  0.309410  0.680270  0.635233  0.481342  0.078868   \n",
       "1  stops_orig_faiss  0.309410  0.685133  0.628539  0.474425  0.075465   \n",
       "2   stops_new_faiss  0.283956  0.688995  0.630881  0.470062  0.074438   \n",
       "3    idf_orig_faiss  0.309410  0.671149  0.624467  0.478622  0.078525   \n",
       "4     idf_new_faiss  0.292591  0.672230  0.627374  0.470939  0.077985   \n",
       "\n",
       "    AP@1000   RR@1000  AvgDoclen@1  AvgDoclen  ...  AvgDoclen@1 p-value  \\\n",
       "0  0.153638  0.940833       142.38  141.99394  ...                  NaN   \n",
       "1  0.151014  0.910000       110.18  102.60572  ...         5.705261e-05   \n",
       "2  0.142657  0.915000       109.70  104.35474  ...         4.749742e-05   \n",
       "3  0.154180  0.905667        90.06   89.85236  ...         1.112899e-10   \n",
       "4  0.147417  0.908333        89.80   90.60890  ...         1.005711e-10   \n",
       "\n",
       "   AvgDoclen +  AvgDoclen -  AvgDoclen p-value  AvgDoclen@100 +  \\\n",
       "0          NaN          NaN                NaN              NaN   \n",
       "1          0.0         50.0       1.943140e-46              0.0   \n",
       "2          0.0         50.0       2.940886e-39              0.0   \n",
       "3          0.0         50.0       4.593639e-45              0.0   \n",
       "4          0.0         50.0       4.079497e-43              0.0   \n",
       "\n",
       "   AvgDoclen@100 -  AvgDoclen@100 p-value  AvgDoclen@10 +  AvgDoclen@10 -  \\\n",
       "0              NaN                    NaN             NaN             NaN   \n",
       "1             50.0           1.736642e-36             2.0            48.0   \n",
       "2             50.0           2.342916e-36             2.0            48.0   \n",
       "3             50.0           3.913884e-43             0.0            50.0   \n",
       "4             50.0           4.459150e-43             0.0            50.0   \n",
       "\n",
       "   AvgDoclen@10 p-value  \n",
       "0                   NaN  \n",
       "1          1.963390e-24  \n",
       "2          2.425086e-24  \n",
       "3          4.390639e-32  \n",
       "4          1.232724e-31  \n",
       "\n",
       "[5 rows x 45 columns]"
      ]
     },
     "metadata": {},
     "output_type": "display_data"
    }
   ],
   "source": [
    "from IPython.display import display\n",
    "for t in ['covid']:\n",
    "    idf = do_exp(\n",
    "        [baselineApprox, stops_orig_faiss, stops_new_faiss, idf_orig_faiss , idf_new_faiss], \n",
    "        topics=t,\n",
    "        names=[\"baseline\", \"stops_orig_faiss\", \"stops_new_faiss\", \"idf_orig_faiss\", \"idf_new_faiss\"  ],\n",
    "        save_dir=\"/nfs/staticPruning/results/repro_covid/indexes2_%s/\",\n",
    "    )\n",
    "    display(idf)"
   ]
  },
  {
   "cell_type": "code",
   "execution_count": 139,
   "id": "searching-aircraft",
   "metadata": {},
   "outputs": [
    {
     "data": {
      "text/html": [
       "<div>\n",
       "<style scoped>\n",
       "    .dataframe tbody tr th:only-of-type {\n",
       "        vertical-align: middle;\n",
       "    }\n",
       "\n",
       "    .dataframe tbody tr th {\n",
       "        vertical-align: top;\n",
       "    }\n",
       "\n",
       "    .dataframe thead th {\n",
       "        text-align: right;\n",
       "    }\n",
       "</style>\n",
       "<table border=\"1\" class=\"dataframe\">\n",
       "  <thead>\n",
       "    <tr style=\"text-align: right;\">\n",
       "      <th></th>\n",
       "      <th>name</th>\n",
       "      <th>nDCG@10</th>\n",
       "      <th>nDCG@10 p-value</th>\n",
       "      <th>AP@1000</th>\n",
       "      <th>AP@1000 p-value</th>\n",
       "      <th>AP@100</th>\n",
       "      <th>AP@100 p-value</th>\n",
       "      <th>AvgDoclen@100</th>\n",
       "    </tr>\n",
       "  </thead>\n",
       "  <tbody>\n",
       "    <tr>\n",
       "      <th>0</th>\n",
       "      <td>baseline</td>\n",
       "      <td>0.680270</td>\n",
       "      <td>NaN</td>\n",
       "      <td>0.153638</td>\n",
       "      <td>NaN</td>\n",
       "      <td>0.078868</td>\n",
       "      <td>NaN</td>\n",
       "      <td>155.5084</td>\n",
       "    </tr>\n",
       "    <tr>\n",
       "      <th>1</th>\n",
       "      <td>stops_orig_faiss</td>\n",
       "      <td>0.685133</td>\n",
       "      <td>0.662320</td>\n",
       "      <td>0.151014</td>\n",
       "      <td>0.493775</td>\n",
       "      <td>0.075465</td>\n",
       "      <td>0.375764</td>\n",
       "      <td>113.3234</td>\n",
       "    </tr>\n",
       "    <tr>\n",
       "      <th>2</th>\n",
       "      <td>stops_new_faiss</td>\n",
       "      <td>0.688995</td>\n",
       "      <td>0.534158</td>\n",
       "      <td>0.142657</td>\n",
       "      <td>0.079101</td>\n",
       "      <td>0.074438</td>\n",
       "      <td>0.330772</td>\n",
       "      <td>113.4454</td>\n",
       "    </tr>\n",
       "    <tr>\n",
       "      <th>3</th>\n",
       "      <td>idf_orig_faiss</td>\n",
       "      <td>0.671149</td>\n",
       "      <td>0.388808</td>\n",
       "      <td>0.154180</td>\n",
       "      <td>0.510597</td>\n",
       "      <td>0.078525</td>\n",
       "      <td>0.726108</td>\n",
       "      <td>96.7738</td>\n",
       "    </tr>\n",
       "    <tr>\n",
       "      <th>4</th>\n",
       "      <td>idf_new_faiss</td>\n",
       "      <td>0.672230</td>\n",
       "      <td>0.481918</td>\n",
       "      <td>0.147417</td>\n",
       "      <td>0.004876</td>\n",
       "      <td>0.077985</td>\n",
       "      <td>0.502065</td>\n",
       "      <td>96.6968</td>\n",
       "    </tr>\n",
       "  </tbody>\n",
       "</table>\n",
       "</div>"
      ],
      "text/plain": [
       "               name   nDCG@10  nDCG@10 p-value   AP@1000  AP@1000 p-value  \\\n",
       "0          baseline  0.680270              NaN  0.153638              NaN   \n",
       "1  stops_orig_faiss  0.685133         0.662320  0.151014         0.493775   \n",
       "2   stops_new_faiss  0.688995         0.534158  0.142657         0.079101   \n",
       "3    idf_orig_faiss  0.671149         0.388808  0.154180         0.510597   \n",
       "4     idf_new_faiss  0.672230         0.481918  0.147417         0.004876   \n",
       "\n",
       "     AP@100  AP@100 p-value  AvgDoclen@100  \n",
       "0  0.078868             NaN       155.5084  \n",
       "1  0.075465        0.375764       113.3234  \n",
       "2  0.074438        0.330772       113.4454  \n",
       "3  0.078525        0.726108        96.7738  \n",
       "4  0.077985        0.502065        96.6968  "
      ]
     },
     "execution_count": 139,
     "metadata": {},
     "output_type": "execute_result"
    }
   ],
   "source": [
    "idf[[\"name\", \"nDCG@10\", \"nDCG@10 p-value\", \"AP@1000\", \"AP@1000 p-value\", \"AP@100\", \"AP@100 p-value\", \"AvgDoclen@100\" ]]"
   ]
  },
  {
   "cell_type": "code",
   "execution_count": 138,
   "id": "deluxe-moore",
   "metadata": {},
   "outputs": [
    {
     "name": "stdout",
     "output_type": "stream",
     "text": [
      "huggingface/tokenizers: The current process just got forked, after parallelism has already been used. Disabling parallelism to avoid deadlocks...\n",
      "To disable this warning, you can either:\n",
      "\t- Avoid using `tokenizers` before the fork if possible\n",
      "\t- Explicitly set the environment variable TOKENIZERS_PARALLELISM=(true | false)\n",
      "5.5G\t/nfsindices/BEIR/trec_covid/trec_covid_colbertIndex_craig/0.pt\n",
      "280M\t/nfsindices/BEIR/trec_covid/trec_covid_colbertIndex_craig/0.sample\n",
      "175M\t/nfsindices/BEIR/trec_covid/trec_covid_colbertIndex_craig/0.tokenids\n",
      "240K\t/nfsindices/BEIR/trec_covid/trec_covid_colbertIndex_craig/cfs.stats\n",
      "240K\t/nfsindices/BEIR/trec_covid/trec_covid_colbertIndex_craig/dfs.stats\n",
      "620K\t/nfsindices/BEIR/trec_covid/trec_covid_colbertIndex_craig/doclens.0.json\n",
      "1.5M\t/nfsindices/BEIR/trec_covid/trec_covid_colbertIndex_craig/docnos.pkl.gz\n",
      "526M\t/nfsindices/BEIR/trec_covid/trec_covid_colbertIndex_craig/ivfpq.100.faiss\n",
      "6.5G\ttotal\n",
      "huggingface/tokenizers: The current process just got forked, after parallelism has already been used. Disabling parallelism to avoid deadlocks...\n",
      "To disable this warning, you can either:\n",
      "\t- Avoid using `tokenizers` before the fork if possible\n",
      "\t- Explicitly set the environment variable TOKENIZERS_PARALLELISM=(true | false)\n",
      "4.0G\t/nfsindices/staticPrunedIndices/repro_paper_SIGIR2022/covid_stops/0.pt\n",
      "128M\t/nfsindices/staticPrunedIndices/repro_paper_SIGIR2022/covid_stops/0.tokenids\n",
      "612K\t/nfsindices/staticPrunedIndices/repro_paper_SIGIR2022/covid_stops/doclens.0.json\n",
      "0\t/nfsindices/staticPrunedIndices/repro_paper_SIGIR2022/covid_stops/docnos.pkl.gz\n",
      "383M\t/nfsindices/staticPrunedIndices/repro_paper_SIGIR2022/covid_stops/ivfpq.100.faiss\n",
      "4.5G\ttotal\n",
      "huggingface/tokenizers: The current process just got forked, after parallelism has already been used. Disabling parallelism to avoid deadlocks...\n",
      "To disable this warning, you can either:\n",
      "\t- Avoid using `tokenizers` before the fork if possible\n",
      "\t- Explicitly set the environment variable TOKENIZERS_PARALLELISM=(true | false)\n",
      "3.6G\t/nfsindices/staticPrunedIndices/repro_paper_SIGIR2022/covid_msmarcolm2_idf_uniform_100/0.pt\n",
      "113M\t/nfsindices/staticPrunedIndices/repro_paper_SIGIR2022/covid_msmarcolm2_idf_uniform_100/0.tokenids\n",
      "600K\t/nfsindices/staticPrunedIndices/repro_paper_SIGIR2022/covid_msmarcolm2_idf_uniform_100/doclens.0.json\n",
      "0\t/nfsindices/staticPrunedIndices/repro_paper_SIGIR2022/covid_msmarcolm2_idf_uniform_100/docnos.pkl.gz\n",
      "338M\t/nfsindices/staticPrunedIndices/repro_paper_SIGIR2022/covid_msmarcolm2_idf_uniform_100/ivfpq.100.faiss\n",
      "4.0G\ttotal\n"
     ]
    }
   ],
   "source": [
    "!du -csh /nfsindices/BEIR/trec_covid/trec_covid_colbertIndex_craig/*\n",
    "!du -csh /nfsindices/staticPrunedIndices/repro_paper_SIGIR2022/covid_stops/*\n",
    "!du -csh /nfsindices/staticPrunedIndices/repro_paper_SIGIR2022/covid_msmarcolm2_idf_uniform_100/*\n"
   ]
  },
  {
   "cell_type": "code",
   "execution_count": null,
   "id": "major-exploration",
   "metadata": {},
   "outputs": [],
   "source": []
  }
 ],
 "metadata": {
  "kernelspec": {
   "display_name": "py37_new",
   "language": "python",
   "name": "py37_new"
  },
  "language_info": {
   "codemirror_mode": {
    "name": "ipython",
    "version": 3
   },
   "file_extension": ".py",
   "mimetype": "text/x-python",
   "name": "python",
   "nbconvert_exporter": "python",
   "pygments_lexer": "ipython3",
   "version": "3.7.13"
  }
 },
 "nbformat": 4,
 "nbformat_minor": 5
}
